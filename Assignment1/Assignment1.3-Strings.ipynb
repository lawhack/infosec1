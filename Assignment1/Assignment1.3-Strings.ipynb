{
 "cells": [
  {
   "cell_type": "markdown",
   "metadata": {},
   "source": [
    "# Strings\n",
    "\n",
    "We've talked about numbers and how they are represented. What about the general concept of a string? How can we represent a sequence of symbols? Or, to put it in more practical terms, how can we represent text in Python?\n",
    "\n",
    "Formally, a string is sequence of symbols (or characters) from an alphabet. Strings are a theoretical abstraction for the way we represent text data in a computer. You are currently reading a string. The text in this sentence is a sequence of symbols from an alphabet.\n",
    "\n",
    "Computer scientists usualy represent the alphabet with the mathematical variable $\\Sigma$. In mathematical terms, the alphabet is the set of all possible symbols, for example $\\Sigma=\\{A,B,C,D,E,F,G,H,I,J,K,L,M,N,O,P,Q,R,S,T,U,V,W,X,Y,Z\\}$ is an alphabet you are familiar with.\n",
    "\n",
    "We can build strings from $\\Sigma$ by putting them in a sequence. \"BANANA\", \"NEPTUNE\", and \"QWERTY\" are three examples of strings on the alphabet $\\Sigma$. Note that \"banana\" is not a string on this alphabet, since our alphabet only includes the upper-case letters. We could build a new alphabet that includes all of the upper and lower-case letters or an alphabet that contains all of the characters you can type on your keyboard. For now, we'll just stick with the upper-case letters for our examples. "
   ]
  },
  {
   "cell_type": "markdown",
   "metadata": {},
   "source": [
    "## Strings in Python\n",
    "In Python, strings are another data type. We represent string literals in Python by surrounding text in quotation marks. Single quotes and double quotes work, as long as we start and end the string the same. Even triple quotes work!"
   ]
  },
  {
   "cell_type": "code",
   "execution_count": null,
   "metadata": {},
   "outputs": [],
   "source": [
    "print('THIS IS A STRING')"
   ]
  },
  {
   "cell_type": "code",
   "execution_count": null,
   "metadata": {},
   "outputs": [],
   "source": [
    "print(\"This is also a string.\")"
   ]
  },
  {
   "cell_type": "code",
   "execution_count": null,
   "metadata": {},
   "outputs": [],
   "source": [
    "print(\"\"\"Even this is a string!\"\"\")"
   ]
  },
  {
   "cell_type": "markdown",
   "metadata": {},
   "source": [
    "## Escape Sequences\n",
    "\n",
    "Strings in Python are meant to represent anything we can type from the keyboard. Some things we type from the keyboard have special meaning when we type them, like the \"tab\" key or the \"enter\" key. What if we want to include something like \"tab\" in a string? We need to use something called an **escape sequence**. An escape sequence is a series of characters in a string that don't literally represent themselves. They represent something else instead. Don't worry. It's not as complicated as it sounds.\n",
    "\n",
    "For example, let's say I want to mimic what happens when I type \"enter\" on the keyboard. There is a special sequence of escape characters for that called \"newline\". Newline looks like this: \\n. Most escape sequences start with the \\ character."
   ]
  },
  {
   "cell_type": "code",
   "execution_count": null,
   "metadata": {},
   "outputs": [],
   "source": [
    "matrix=\"Neo: What are you trying to tell me, that I can dodge bullets?\\nMorpheus: No, Neo. I'm trying to tell you that when you're ready, you won't have to.\"\n",
    "print(matrix)"
   ]
  },
  {
   "cell_type": "markdown",
   "metadata": {},
   "source": [
    "There's also an escape sequence for tab, \\t."
   ]
  },
  {
   "cell_type": "code",
   "execution_count": null,
   "metadata": {},
   "outputs": [],
   "source": [
    "matrix=\"Neo: \\t\\tWhat are you trying to tell me, that I can dodge bullets?\\nMorpheus: \\tNo, Neo. I'm trying to tell you that when you're ready, you won't have to.\"\n",
    "print(matrix)"
   ]
  },
  {
   "cell_type": "markdown",
   "metadata": {},
   "source": [
    "## Literal Escape\n",
    "\n",
    "Okay. So there's a problem with escape characters you might have guessed already. What if we want a string that is literally \"\\n\" and **not** a newline? We need another escape sequence for the \\ character! That escape sequence is \\\\."
   ]
  },
  {
   "cell_type": "code",
   "execution_count": null,
   "metadata": {},
   "outputs": [],
   "source": [
    "print(\"The newline escape sequence is \\\\n.\")"
   ]
  },
  {
   "cell_type": "markdown",
   "metadata": {},
   "source": []
  },
  {
   "cell_type": "markdown",
   "metadata": {},
   "source": [
    "## String Operations\n",
    "As with other data types, we can perform operations on strings in Python. We can perform concatenation with the + operator and repetition with the * operator. Concatination glues two strings together into one new string. Repetition repeats the string over and over again an integer number of times."
   ]
  },
  {
   "cell_type": "code",
   "execution_count": null,
   "metadata": {},
   "outputs": [],
   "source": [
    "a=\"this \"\n",
    "b=\"and that\"\n",
    "print(a+b)"
   ]
  },
  {
   "cell_type": "code",
   "execution_count": null,
   "metadata": {},
   "outputs": [],
   "source": [
    "print(a*7)"
   ]
  },
  {
   "cell_type": "markdown",
   "metadata": {},
   "source": [
    "## Strings and loops\n",
    "\n",
    "We can iterate over each character in a string using a for loop. The format is exactly the same. Just replace the \"range\" function with the string."
   ]
  },
  {
   "cell_type": "code",
   "execution_count": null,
   "metadata": {},
   "outputs": [],
   "source": [
    "for x in a+b:\n",
    "    print(x)"
   ]
  },
  {
   "cell_type": "markdown",
   "metadata": {},
   "source": [
    "### Slicing\n",
    "We can choose a specific character from a string through an operation called *slicing*. The slicing operator is a number between square brackets \\[ and \\], like a\\[3\\]. Unfortunately, computer scientists like to start counting from 0, so the first character is selected like this:"
   ]
  },
  {
   "cell_type": "code",
   "execution_count": null,
   "metadata": {},
   "outputs": [],
   "source": [
    "print(a[0])"
   ]
  },
  {
   "cell_type": "markdown",
   "metadata": {},
   "source": [
    "The call the number in the brackets the *index*. Sometimes we say we're \"indexing into the string\" to get a particular character. We can use slicing in expressions:"
   ]
  },
  {
   "cell_type": "code",
   "execution_count": null,
   "metadata": {},
   "outputs": [],
   "source": [
    "print(a[1]+b[6]+b[1]+b[2])"
   ]
  },
  {
   "cell_type": "markdown",
   "metadata": {},
   "source": [
    "We can slice using negative indexes to select counting from the end of a string."
   ]
  },
  {
   "cell_type": "code",
   "execution_count": null,
   "metadata": {},
   "outputs": [],
   "source": [
    "print(b[-1]+b[-2]+b[-3]+b[-4])"
   ]
  },
  {
   "cell_type": "markdown",
   "metadata": {},
   "source": [
    "We can also slice a range of values by separating the start and end with a colon:"
   ]
  },
  {
   "cell_type": "code",
   "execution_count": null,
   "metadata": {},
   "outputs": [],
   "source": [
    "print(b[4:8])"
   ]
  },
  {
   "cell_type": "markdown",
   "metadata": {},
   "source": [
    "## Representing strings\n",
    "\n",
    "Strings are represented in computers in binary. **SURPRISE!** Each character in the string has a special binary encoding, typically one byte (8-bits) long. There are two popular encodings, ASCII and Unicode. We'll stick to Unicode for now, because it's the simplest in Python. To view the Unicode for a given character, you can use the ord function."
   ]
  },
  {
   "cell_type": "code",
   "execution_count": null,
   "metadata": {},
   "outputs": [],
   "source": [
    "print(ord('A'))\n",
    "print(ord(\"F\"))"
   ]
  },
  {
   "cell_type": "markdown",
   "metadata": {},
   "source": [
    "Wait a minute. Those are numbers. Didn't I say we were looking at the binary? Ord gives us the integer representation of the binary sequence. If we want to see the binary encoding, we can use the bin function we already learned."
   ]
  },
  {
   "cell_type": "code",
   "execution_count": null,
   "metadata": {},
   "outputs": [],
   "source": [
    "print(bin(ord('A')))\n",
    "print(bin(ord('F')))"
   ]
  },
  {
   "cell_type": "markdown",
   "metadata": {},
   "source": [
    "If we wanted to see the encoding of an entire string, we could use a loop."
   ]
  },
  {
   "cell_type": "code",
   "execution_count": null,
   "metadata": {},
   "outputs": [],
   "source": [
    "for c in \"Dodge this!\":\n",
    "    print(bin(ord(c)))"
   ]
  },
  {
   "cell_type": "markdown",
   "metadata": {},
   "source": [
    "There's another function that goes the other way. It takes an integer and converts it to Unicode. The function is called \"chr\"."
   ]
  },
  {
   "cell_type": "code",
   "execution_count": null,
   "metadata": {},
   "outputs": [],
   "source": [
    "print(chr(122))"
   ]
  },
  {
   "cell_type": "markdown",
   "metadata": {},
   "source": [
    "## Languages\n",
    "Let's go back to the mathematical formalism we started with for a bit. We refer to the set of all possible strings we can build using an alphabet as $\\Sigma^*$. This is an infinite set. It includes all of the strings of any length we could make using those symbols. $A$ is in  $\\Sigma^*$ and $AB$ is in $\\Sigma^*$ and $ABABABABABABABA$ is in $\\Sigma^*$.\n",
    "\n",
    "In computer science, a language is just a set of strings. In other words, a language L is just a subset of $\\Sigma^*$ (in math symbols, $L\\subseteq \\Sigma^*$.) For example, English is just the set of all possible valid English sentences. Python is the set of all valid Python programs."
   ]
  },
  {
   "cell_type": "markdown",
   "metadata": {},
   "source": [
    "## Exercises\n",
    "\n",
    "Once again, we have fewer exercises that you might find difficult. Take a break if you find yourself stuck on one for more than 20 minutes. If you're still stuck after your break, ask me for help."
   ]
  },
  {
   "cell_type": "markdown",
   "metadata": {},
   "source": [
    "1) Slice a string containing just the word \"spoon\" out of the string below and assign it to a variable named \"solutionString\"."
   ]
  },
  {
   "cell_type": "raw",
   "metadata": {},
   "source": [
    "exampleString=\"There is no spoon.\""
   ]
  },
  {
   "cell_type": "markdown",
   "metadata": {},
   "source": [
    "2) Write a function called \"unicodeSum\" that takes a single input parameter s containing a string. Your function should return the sum of the Unicode integer values for each character input string *mod 128*. For example, \"dog\" consists of characters \"d\" (Unicode 100) \"o\" (Unicode 111) and \"g\" (Unicode 103). $(100 + 111 + 103) \\bmod 128=314 \\bmod 128=58$"
   ]
  },
  {
   "cell_type": "code",
   "execution_count": null,
   "metadata": {},
   "outputs": [],
   "source": []
  },
  {
   "cell_type": "markdown",
   "metadata": {},
   "source": [
    "3) Decode this message. I added 8 to the Unicode binary representation of each character in the original message and converted the result back to Unicode."
   ]
  },
  {
   "cell_type": "code",
   "execution_count": null,
   "metadata": {},
   "outputs": [],
   "source": [
    "message=\"_pi|(q{(|pm(Ui|zqG\""
   ]
  }
 ],
 "metadata": {
  "kernelspec": {
   "display_name": "Python 3",
   "language": "python",
   "name": "python3"
  },
  "language_info": {
   "codemirror_mode": {
    "name": "ipython",
    "version": 3
   },
   "file_extension": ".py",
   "mimetype": "text/x-python",
   "name": "python",
   "nbconvert_exporter": "python",
   "pygments_lexer": "ipython3",
   "version": "3.7.3"
  }
 },
 "nbformat": 4,
 "nbformat_minor": 2
}
