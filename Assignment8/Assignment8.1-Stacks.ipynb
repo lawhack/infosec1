{
 "cells": [
  {
   "cell_type": "markdown",
   "metadata": {},
   "source": [
    "# Stacks\n",
    "\n",
    "In this notebook, we're going to learn about a new type. Sort of. What we're going to study is an abstract type called a \"stack\" that isn't directly implemented in Python.\n",
    "\n",
    "Let's start with an analogy. Integers are an abstract mathematical concept. Python implements a numeric integer type that models the integers in a practical way. We can program using Python integers and get useful results. But the **concept** of integers is a lot bigger than Python. We learn the concept of integers from a very young age, and graduate students across the globe are studying the properties of the integers. Other programming languages implement integers in their own way.\n",
    "\n",
    "To summarize, there are useful abstract ideas we can implement in any programming language. We call these **abstract data types** (ADT.) Integers are an abstract data type. We can talk about the specific implementation of integers in Python or the general abstract idea of integers. In this lesson, we're going to learn about a new useful abstract idea called a stack.\n",
    "\n",
    "A **stack** is an abstract data type (ADT). A stack is a container. It stores values inside it, like Python lists and dictionaries store values. A stack ADT models a situation where we stack one item on top of another item. Imagine a stack of books or a deck of cards. A stack has a top and a bottom. We can only interact with the top of the stack, because each item is placed on top of the previous item.\n",
    "\n",
    "To understand a particular ADT, we need to know how to interact with it. Our interactions with a stack are very constrained. We can only do two things to the stack: push or pop. **Push** adds a new item to top of the stack. This is the only proper way to add items to the stack. The most recent item we pushed onto the stack will be on the top of the stack. The second most recent item we pushed will be beneath it on the stack. Imagine I have 3 playing cards: A♤,J♧, and the Q♢. If I push the A♤ onto an empty stack, my stack is:\n",
    "\n",
    "|A♤|\n",
    "-----\n",
    "\n",
    "The A♤ is on top of the stack. If I then push J♧, my stack looks like this:\n",
    "\n",
    "|J♧|\n",
    "-----\n",
    "|A♤|\n",
    "\n",
    "Now the J♧ is on top of the stack. If I push Q♢ onto the stack, the stack becomes:\n",
    "\n",
    "|Q♢|\n",
    "-----\n",
    "|J♧|\n",
    "|A♤|\n",
    "\n",
    "Of course, the Q♢ is on top of the stack now. Whatever the most recent item I push onto the stack is, that's the item that's currently on top of the stack.\n",
    "\n",
    "\n",
    "If I could only add data to the stack, it wouldn't be very useful. Fortunately, I can also pop the stack. **Pop** removes the top item from the stack. If I popped the stack from our previous example, the stack would become:\n",
    "\n",
    "|J♧|\n",
    "-----\n",
    "|A♤|\n",
    "\n",
    "The pop operation would return the item that was formerly on top of the stack, Q♢. If I popped the stack again, the stack would become:\n",
    "\n",
    "|A♤|\n",
    "-----\n",
    "\n",
    "And the pop operation would return the value J♧. Popping one last time will empty the stack and return the value A♤.\n",
    "\n",
    "Notice that whatever item I push first is the last item to popped. This is the reason we also call stacks **last in, first out** or LIFO.\n",
    "\n",
    "Hopefully, you have a clear idea of how stacks work now. If not, maybe exploring the concept a bit more in Python will help."
   ]
  },
  {
   "cell_type": "markdown",
   "metadata": {},
   "source": [
    "## Stacks in Python\n",
    "\n",
    "As previously noted, stacks are an ADT. They're not directly implemented in Python. Instead, we can use a Python list to implement a stack. Given a list, we can use the list “append” function to push an element onto the stack and the list “pop” function to pop an element off of the stack. Let's go through the playing card example from earlier in Python. We'll start with an empty stack (empty list) and push each card onto the stack."
   ]
  },
  {
   "cell_type": "code",
   "execution_count": null,
   "metadata": {},
   "outputs": [],
   "source": [
    "cardStack=[]\n",
    "\n",
    "cardStack.append(\"A♤\")\n",
    "print(cardStack)\n",
    "cardStack.append(\"J♧\")\n",
    "print(cardStack)\n",
    "cardStack.append(\"Q♢\")\n",
    "print(cardStack)"
   ]
  },
  {
   "cell_type": "markdown",
   "metadata": {},
   "source": [
    "As you can see, the top of the stack is the rightmost (last) element of the list. Let's pop each item off of the stack, as we did in the example."
   ]
  },
  {
   "cell_type": "code",
   "execution_count": null,
   "metadata": {},
   "outputs": [],
   "source": [
    "print(\"Popped:\",cardStack.pop())\n",
    "print(cardStack)\n",
    "print(\"Popped:\",cardStack.pop())\n",
    "print(cardStack)\n",
    "print(\"Popped:\",cardStack.pop())\n",
    "print(cardStack)"
   ]
  },
  {
   "cell_type": "markdown",
   "metadata": {},
   "source": [
    "We don't have to push all of the items and then pop all of the items. We can alternate between pushes and pops all we like."
   ]
  },
  {
   "cell_type": "code",
   "execution_count": null,
   "metadata": {},
   "outputs": [],
   "source": [
    "cardStack=[]\n",
    "\n",
    "cardStack.append(\"J♢\")\n",
    "cardStack.append(\"A♤\")\n",
    "cardStack.append(\"J♡\")\n",
    "cardStack.pop()\n",
    "cardStack.pop()\n",
    "cardStack.append(\"Q♢\")\n",
    "cardStack.append(\"A♧\")\n",
    "cardStack.pop()\n",
    "cardStack.append(\"K♢\")\n",
    "cardStack.append(\"A♢\")\n",
    "print(cardStack)"
   ]
  },
  {
   "cell_type": "markdown",
   "metadata": {},
   "source": [
    "## Exercises\n",
    "\n",
    "These Python exercises can be completed within this Jupyter notebook. You won't need to use a terminal, though you're welcome to use it if you'd like to practice."
   ]
  },
  {
   "cell_type": "markdown",
   "metadata": {},
   "source": [
    "The Python code below is used for all of the exercises. It creates two lists named A and B and treats them as stacks. In the first loop, it pops n elements from stack A and pushes them onto stack B. In the second loop, it pops the same number of elements from stack B and pushes them onto stack A."
   ]
  },
  {
   "cell_type": "code",
   "execution_count": null,
   "metadata": {},
   "outputs": [],
   "source": [
    "A=[5,3,7,4,9,2,8]\n",
    "B=[12,15]\n",
    "n=4\n",
    "\n",
    "print(\"Initial Stacks\")\n",
    "print(\"Stack A: %s\" % str(A))\n",
    "print(\"Stack B: %s\" % str(B))\n",
    "print(\"\")\n",
    "\n",
    "# Loop 1\n",
    "for i in range(n):\n",
    "    x=A.pop()\n",
    "    B.append(x)\n",
    "\n",
    "print(\"After Loop 1\")\n",
    "print(\"Stack A: %s\" % str(A))\n",
    "print(\"Stack B: %s\" % str(B))\n",
    "print(\"\")\n",
    "\n",
    "# Loop 2\n",
    "for i in range(n):\n",
    "    x=B.pop()\n",
    "    A.append(x)\n",
    "\n",
    "print(\"After Loop 2\")\n",
    "print(\"Stack A: %s\" % str(A))\n",
    "print(\"Stack B: %s\" % str(B))"
   ]
  },
  {
   "cell_type": "markdown",
   "metadata": {},
   "source": [
    "1) How does changing the value of n change the output of the first loop? Why does this happen?"
   ]
  },
  {
   "cell_type": "markdown",
   "metadata": {},
   "source": [
    "2) After the first loop, how is the order of the elements popped from stack A different than the order of those same elements when they're pushed onto stack B? Why?"
   ]
  },
  {
   "cell_type": "markdown",
   "metadata": {},
   "source": [
    "3) After both loops have executed, how have the two stacks changed? How does changing the value of n influence the output? Can you explain why this happens?"
   ]
  }
 ],
 "metadata": {
  "kernelspec": {
   "display_name": "Python 3",
   "language": "python",
   "name": "python3"
  },
  "language_info": {
   "codemirror_mode": {
    "name": "ipython",
    "version": 3
   },
   "file_extension": ".py",
   "mimetype": "text/x-python",
   "name": "python",
   "nbconvert_exporter": "python",
   "pygments_lexer": "ipython3",
   "version": "3.7.3"
  }
 },
 "nbformat": 4,
 "nbformat_minor": 2
}
