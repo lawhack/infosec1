{
 "cells": [
  {
   "cell_type": "markdown",
   "metadata": {},
   "source": [
    "# Debuggers\n",
    "\n",
    "Debuggers are programs used to test programs. Debuggers are essential tools for hackers. A hacker needs to understand precisely how a program works to manipulate it to their ends. Specifically, debuggers are used in reverse engineering (or \"reversing\" in hacker slang.) Frequently, an hacker's target is code written by a stranger. Often, the hacker doesn't even have the source code. A debugger allows a hacker to slowly work to understand the inner workings of an application.\n",
    "\n",
    "Specifically, what does a debugger do? A debugger allows us to run a program with complete control. We can pause execution at a specific line (a \"breakpoint\") and inspect the value of variables. We can execute the program one line at a time (\"step\") and watch the result of each line of code. Debuggers will even allow us to view the raw machine code and bytes of memory as the program executes. The most \"hacker\" experience you'll have in this class will involve carefully inspecting memory in a debugger. We're building toward that moment. In this notebook, we're laying the groundwork for future 1337 hax. Hang in there!"
   ]
  },
  {
   "cell_type": "markdown",
   "metadata": {},
   "source": [
    "## GDB\n",
    "\n",
    "GDB is the Linux debugger of choice. It's an old command line tool, so it can be a little counterintuitive sometimes. Make sure you take your time with it. The first thing we should do to use GDB is compile our program specially for gdb. We'll use gcc with the -g flag. This will add extra information to the compiled binary for the debugger.\n",
    "\n",
    "gcc -g gdb_demo.c -o gdb_demo\n",
    "\n",
    "To start debugging an executable, we run gdb with the executable as an argument.\n",
    "\n",
    "gdb gdb_demo\n",
    "\n",
    "You should now see a prompt that looks something like this:\n",
    "(gdb)\n",
    "\n",
    "We can now type in commands to the debugger. Let's look at some of the commands.\n",
    "\n",
    "## GDB Commands\n",
    "\n",
    "| command           |  description                           | example                    |\n",
    "|-------------------|----------------------------------------|----------------------------|\n",
    "| run               | start running the program              | run                        |\n",
    "| list              | display the source code at line number | list 15                    |\n",
    "| list              | display source code of a function      | list fun                   |\n",
    "| break             | set a breakpoint on a line number      | break 15                   |\n",
    "| break             | set a breakpoint at a function         | break fun                  |\n",
    "| info breakpoints  | view the currently set breakpoints     | info breakpoints           |\n",
    "| delete            | deletes a breakpoint (by number)       | delete 2                   |\n",
    "| step              | execute the next line of code          | step                       |\n",
    "| continue          | continue execution after a breakpoint  | continue                   |\n",
    "| print             | print a variable value                 | print x                    |\n",
    "| print/x           | print a variable value in hex          | print/x x                  |\n",
    "| quit              | quit gdb and return to the CLI         | quit                       |\n",
    "\n",
    "We can view the source code with the \"list\" command. Try running it. Just type \"list\" and hit enter. You should see the text of each line of the C program with the line numbers displayed to their left. We can view line 10 with the command \"list 10\".\n",
    "\n",
    "The most useful capability a debugger has is setting breakpoints. A **breakpoint** is a line of code that will stop execution. The program will otherwise run normally until it reaches the breakpoint. We can set a breakpoint at line 10 with the command \"break 10\". You should see the following output.\n",
    "\n",
    "Breakpoint 1 at 0x76b: file gdb_demo.c, line 10.\n",
    "\n",
    "We can now run the program with the \"run\" command. Type \"run\" and hit enter. You should see this output:\n",
    "\n",
    "Breakpoint 1, main () at gdb_demo.c:10\n",
    "10            x=buff\\[i\\]*2+s*3;\n",
    "\n",
    "This output lets us know we hit our breakpoint. The program is paused as though time has stopped. We can view the current value of variables with the print command. Type \"print i\". You should see output that looks like this:\n",
    "\n",
    "$1 = 0\n",
    "\n",
    "The variable i currently has the value 0. If you view s, you'll see its value is 165. We can also view the value of x and see that its value is 32767.\n",
    "\n",
    "With the step command, we can execute just this one line of code and stop execution again. If you type step and hit enter, you should see this output:\n",
    "\n",
    "11            d=(d^x)\\%256;\n",
    "\n",
    "If you inspect the value of x, you'll see it's been updated to 649.\n",
    "\n",
    "Let's set a new breakpoint at line 15. break 15. You should see something like:\n",
    "\n",
    "Breakpoint 2 at 0x5555555547f1: file gdb_demo.c, line 15.\n",
    "\n",
    "We can view all of the breakpoints with the command \"info breakpoints\". Typing it in and hitting enter, you should see something like this:\n",
    "\n",
    "Num     Type           Disp Enb Address            What\n",
    "1       breakpoint     keep y   0x000055555555476b in main at gdb_demo.c:10\n",
    "        breakpoint already hit 1 time\n",
    "2       breakpoint     keep y   0x00005555555547f1 in main at gdb_demo.c:15\n",
    "\n",
    "We can continue execution to the next breakpoint with the \"continue\" command. If you continue now, you should see this:\n",
    "\n",
    "Breakpoint 1, main () at gdb_demo.c:10\n",
    "10            x=buff[i]*2+s*3;\n",
    "\n",
    "Since the C program is executing a for loop, we hit breakpoint 1 again. If we continue again, we'll hit the same breakpoint over and over again. The second breakpoint is after the loop. If we wanted to hit the second breakpoint, we'd need to wait through every iteration of the for loop, which is 255 times. Fortunately, we can delete breakpoints with the \"delete\" command. Try running \"delete 1\" and then \"info breakpoints\". You should now only see breakpoint 2.\n",
    "\n",
    "Num     Type           Disp Enb Address            What\n",
    "2       breakpoint     keep y   0x00005555555547f1 in main at gdb_demo.c:15\n",
    "\n",
    "Now if we type continue, we'll hit breakpoint 2. If you type \"continue\", you should now see:\n",
    "\n",
    "Breakpoint 2, main () at gdb_demo.c:15\n",
    "15         printf(\"0x\\%x\\n\",d);\n",
    "\n",
    "This is far from a comprehensive overview of gdb. It's just an introduction. We'll use gdb more extensively next week."
   ]
  },
  {
   "cell_type": "markdown",
   "metadata": {},
   "source": [
    "## Exercises\n",
    "\n",
    "Below are the exercises. All of the exercises use the program debugme.c"
   ]
  },
  {
   "cell_type": "markdown",
   "metadata": {},
   "source": [
    "1) Compile the program with debug flags, then run the program.\n",
    "\n",
    "gcc -g debugme.c -o debugme\n",
    "\n",
    "gdb debugme"
   ]
  },
  {
   "cell_type": "markdown",
   "metadata": {},
   "source": [
    "2) Set a breakpoint at line 26. What is this line of code? Set another breakpoint at line 36. Run the code. Which breakpoint is hit first?"
   ]
  },
  {
   "cell_type": "markdown",
   "metadata": {},
   "source": [
    "3) Continue execution from the previous question. Which breakpoint is hit next? What is the value of the variable \"j\" at this breakpoint? Step twice. What line of code are we stopped at now? What code is on that line? What is the value of \"j\" now?"
   ]
  },
  {
   "cell_type": "markdown",
   "metadata": {},
   "source": [
    "4) Set a new breakpoint at the start of the quicksort function. Delete the previous two breakpoints at lines 26 and 36. Continue execution. What are the values of the variables \"first\" and \"last\"?"
   ]
  },
  {
   "cell_type": "markdown",
   "metadata": {},
   "source": [
    "5) Finally, let's preview two new gdb commands for next week. Here they are.\n",
    "\n",
    "| command           |  description                           | example                    |\n",
    "|-------------------|----------------------------------------|----------------------------|\n",
    "| backtrace         | print a stack trace                    | backtrace                  |\n",
    "| disas             | disassemble a function                 | disas main                 |\n",
    "\n",
    "Continue from the previous breakpoint 5 times, then run the backtrace command. Does the result look familiar? Run the Python code below. What do you think a \"backtrace\" or \"traceback\" is?"
   ]
  },
  {
   "cell_type": "code",
   "execution_count": null,
   "metadata": {},
   "outputs": [],
   "source": [
    "def foo(x):\n",
    "    return 1/x\n",
    "    \n",
    "def bar(x):\n",
    "    return foo(x)+foo(x-1)\n",
    "\n",
    "def fun(x):\n",
    "    return bar(x)*bar(x)\n",
    "\n",
    "fun(5)\n",
    "fun(3)\n",
    "fun(1)"
   ]
  },
  {
   "cell_type": "markdown",
   "metadata": {},
   "source": [
    "6) Run the disas command on main. What do you see on the screen? What does the very first line of output say? Can you guess what you're looking at? Note: to stop viewing the output of disas, type q and hit return."
   ]
  },
  {
   "cell_type": "code",
   "execution_count": null,
   "metadata": {},
   "outputs": [],
   "source": []
  }
 ],
 "metadata": {
  "kernelspec": {
   "display_name": "Python 3",
   "language": "python",
   "name": "python3"
  },
  "language_info": {
   "codemirror_mode": {
    "name": "ipython",
    "version": 3
   },
   "file_extension": ".py",
   "mimetype": "text/x-python",
   "name": "python",
   "nbconvert_exporter": "python",
   "pygments_lexer": "ipython3",
   "version": "3.7.3"
  }
 },
 "nbformat": 4,
 "nbformat_minor": 2
}
