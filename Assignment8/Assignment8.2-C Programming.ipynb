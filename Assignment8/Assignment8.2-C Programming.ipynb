{
 "cells": [
  {
   "cell_type": "markdown",
   "metadata": {},
   "source": [
    "# C Programming\n",
    "\n",
    "In this notebook, we will learn some very basic aspects of C programming. C is a workhorse programming language designed by Dennis Ritchie in 1972. Unix was written in C. The Linux kernel was written in C. The Python interpreter was written in C. C is a fundamental technology for software. To understand how software works and how it can be exploited, we need to understand C.\n",
    "\n",
    "We're going to return to the Linux command line to learn C programming. In the file hello.c, you'll find your first C program. **You cannot run this program from Jupyter!** Our version of Jupyter doesn't understand C. "
   ]
  },
  {
   "cell_type": "code",
   "execution_count": null,
   "metadata": {},
   "outputs": [],
   "source": [
    "#include <stdio.h>\n",
    "\n",
    "int main(){\n",
    "    printf(\"Hello, World!\\n\");\n",
    "    return 0;\n",
    "}"
   ]
  },
  {
   "cell_type": "markdown",
   "metadata": {},
   "source": [
    "## Compiling C Programs\n",
    "\n",
    "C is a **compiled language**. We need to run a program called a **compiler**, which will interpret the source code and produce a separate executable machine code file. We can then run the output program. To compile this program, we'll use a compiler called \"gcc\". Run this command:\n",
    "\n",
    "gcc hello.c -o hello\n",
    "\n",
    "This will produce an executable file called \"hello\". To run this program, type:\n",
    "\n",
    "./hello\n",
    "\n",
    "I suspect you won't be surprised by the output. Remember what we've learned here, though. Our Python programs could be interpreted line-by-line by the interpreter. C programs, on the other hand, need to be compiled into an executable machine code file before we can run them."
   ]
  },
  {
   "cell_type": "markdown",
   "metadata": {},
   "source": [
    "## Understanding C Programs\n",
    "\n",
    "Let's take a closer look at the code in hello.c and try to understand what it's doing. The first line imports a library called \"stdio.h\". The formatting is a little strange, but this line of code does roughly the same as our import statements in Python. It brings in a code library implemented by someone else that we can use in our program. This particular library is for manipulating standard input and output (i.e. input from the keyboard and text output to the screen.) In this case, we import the stdio library to access the printf function. Most basic C programs import this library.\n",
    "\n",
    "The next thing to understand is that all of our code in C has to be put into functions, and the function named main is always automatically called first. We need to have a main function to do anything, because it's the starting point.\n",
    "\n",
    "Functions look a little different in Python. Remember that blocks in Python start with a : and then we tab over each line inside the block. Blocks in C start with { and end with }. That's why the body of the main function begins and ends with curly braces. With the exception of \"int\" instead of \"def\", the function \"main\" looks very similar to a Python function. What does \"int\" mean? We'll come back to that later.\n",
    "\n",
    "The printf function in C does essentially the same job as print does in Python. return also does the same job in Python and C. Why does main return 0? All programs in C return a value to operating system to let it know how things went. By convention, returning 0 means \"our program terminated with no errors.\" Other return values are possible, but we won't need to worry about that.\n",
    "\n",
    "One more curiosity. In C, all statements end with a ;. In English, we end statements with a period. In C, they end with a semicolon. Strangely enough, semicolons have a similar meaning in Python. They're just not required in Python. Imagine if periods were optional in English.\n",
    "\n",
    "If we were to rewrite the hello.c program as a Python program, we'd get something like this:"
   ]
  },
  {
   "cell_type": "code",
   "execution_count": null,
   "metadata": {},
   "outputs": [],
   "source": [
    "def main():\n",
    "    print(\"Hello, World!\\n\")\n",
    "    return 0"
   ]
  },
  {
   "cell_type": "markdown",
   "metadata": {},
   "source": [
    "Or, if we prefer ending statements with semicolons, we could write it like this:"
   ]
  },
  {
   "cell_type": "code",
   "execution_count": null,
   "metadata": {},
   "outputs": [],
   "source": [
    "def main():\n",
    "    print(\"Hello, World!\\n\");\n",
    "    return 0;"
   ]
  },
  {
   "cell_type": "markdown",
   "metadata": {},
   "source": [
    "Either way, this is what hello.c looks like in Python. There's one little mystery remaining, though. To declare the main function, we didn't write \"def main\" we wrote \"int main\". What's \"int\" about? We still haven't addressed this issue."
   ]
  },
  {
   "cell_type": "markdown",
   "metadata": {},
   "source": [
    "## Types in C\n",
    "\n",
    "Declaring variables in C is a little different than in Python. In Python, we could write a=15. This would assign the integer value 15 to the variable a. a would then have an integer type, so we could write things like a=a+a. A variable takes on the type of whatever value it contains. This is called [duck typing](https://en.wikipedia.org/wiki/Duck_typing). In Python, we could write something like the code below. First \"a\" contains an integer, then it contains a string. No problem."
   ]
  },
  {
   "cell_type": "code",
   "execution_count": null,
   "metadata": {},
   "outputs": [],
   "source": [
    "a=15\n",
    "print(a)\n",
    "a=\"coffee\"\n",
    "print(a)"
   ]
  },
  {
   "cell_type": "markdown",
   "metadata": {},
   "source": [
    "In C, variables themselves have a type, and they can only hold values of that type. An integer variable is only allowed to hold integers. It can't hold floats or strings. When we declare a variable, we also declare its type. The program in even.c declares and uses an integer variable. It also uses conditional statements, which work very much like they do in Python. You can compile it with this command:\n",
    "\n",
    "gcc even.c -o even"
   ]
  },
  {
   "cell_type": "code",
   "execution_count": null,
   "metadata": {},
   "outputs": [],
   "source": [
    "#include <stdio.h>\n",
    "\n",
    "int main(){\n",
    "        int n;\n",
    "        printf(\"Type an integer: \");\n",
    "        scanf(\"%d\",&n);\n",
    "        if((n%2)==0){\n",
    "                printf(\"Your number was even.\\n\");\n",
    "        }\n",
    "        else{\n",
    "                printf(\"Your number was odd.\\n\");\n",
    "        }\n",
    "        return 0;\n",
    "}"
   ]
  },
  {
   "cell_type": "markdown",
   "metadata": {},
   "source": [
    "To finally get back to our earlier question, why \"int main\"? Functions in C return a value with a type. We need to declare what type that value will be. In other words, functions have types just like variables in C."
   ]
  },
  {
   "cell_type": "markdown",
   "metadata": {},
   "source": [
    "## Buffers\n",
    "\n",
    "So far, C has mostly been a minor twist on Python. There haven't been any huge differences. Now for a big change. Strings aren't really a part of C. Neither are lists. To deal with a sequence of characters or numbers, we need to declare a buffer (or array). A buffer is a bit like a fixed-length list. We have to declare both its type and size. If we ask for a buffer of size 50, it can hold at most 50 elements.\n",
    "\n",
    "The C program in buff.c declares a variable \"buff\" that stores an integer buffer of size 50 (the square brackets indicate how big the buffer is.) We then fill the buffer up and print it using for loops. As you can see, for loops in C are a little different than they were in Python. In C, have to declare the loop variable (in this case i). Then we have a series of 3 statements in parentheses. The first tells how to initialize the loop variable, the second is a Boolean condition of when to stop, and the third tells how to increment the loop variable each time.\n",
    "\n",
    "Indexing works the same in Python and C. Square brackets with a number. However, we can't use slicing in C.\n",
    "\n",
    "Remember, you can compile with: \n",
    "\n",
    "gcc buff.c -o buff"
   ]
  },
  {
   "cell_type": "code",
   "execution_count": null,
   "metadata": {},
   "outputs": [],
   "source": [
    "#include <stdio.h>\n",
    "  \n",
    "int main(){\n",
    "        int buff[50];\n",
    "        int i;\n",
    "        for(i=0;i<50;i=i+1){\n",
    "                buff[i]=i+1;\n",
    "        }\n",
    "        for(i=0;i<50;i=i+1){\n",
    "                printf(\"%d\\n\",buff[i]);\n",
    "        }\n",
    "        return 0;\n",
    "}"
   ]
  },
  {
   "cell_type": "markdown",
   "metadata": {},
   "source": [
    "The Python equivalent of buff.c would look something like this:"
   ]
  },
  {
   "cell_type": "code",
   "execution_count": null,
   "metadata": {},
   "outputs": [],
   "source": [
    "buff=[]\n",
    "for i in range(50):\n",
    "    buff.append(i+1)\n",
    "for i in range(50):\n",
    "    print(buff[i])"
   ]
  },
  {
   "cell_type": "markdown",
   "metadata": {},
   "source": [
    "A string in C is a buffer of characters. In the code below, we declare a buffer capable of storing 600 characters, then get input from the user using the function called \"fgets\". The input from the user goes into buff, and we print it to the screen."
   ]
  },
  {
   "cell_type": "code",
   "execution_count": null,
   "metadata": {},
   "outputs": [],
   "source": [
    "#include <stdio.h>\n",
    "\n",
    "int main(){\n",
    "    char buff[600];\n",
    "    printf(\"Enter some string:\\n\");\n",
    "    fgets(buff,600,stdin);\n",
    "    printf(\"You entered: %s\\n\", buff);\n",
    "    return 0;\n",
    "}"
   ]
  },
  {
   "cell_type": "markdown",
   "metadata": {},
   "source": [
    "## Exercises\n",
    "Below, you'll find the exercises for this lesson. There are only a few, but they are challenging. Make sure you leave yourself plenty of time for each exercise."
   ]
  },
  {
   "cell_type": "markdown",
   "metadata": {},
   "source": [
    "1) There is a program called one.c in the assignment directory. Translate this C program into a Python program. You can write your Python program below or at the command line."
   ]
  },
  {
   "cell_type": "code",
   "execution_count": null,
   "metadata": {},
   "outputs": [],
   "source": []
  },
  {
   "cell_type": "markdown",
   "metadata": {},
   "source": [
    "2) There is a program called two.c in the assignment directory. Translate this C program into a Python program. You can write your Python program below or at the command line."
   ]
  },
  {
   "cell_type": "code",
   "execution_count": null,
   "metadata": {},
   "outputs": [],
   "source": []
  },
  {
   "cell_type": "markdown",
   "metadata": {},
   "source": [
    "3) There is a program called three.c in the assignment directory. Translate this C program into a Python program. You can write your Python program below or at the command line."
   ]
  },
  {
   "cell_type": "markdown",
   "metadata": {},
   "source": [
    "4) Translate this Python program into a C program. Store your C program in a file called four.c "
   ]
  },
  {
   "cell_type": "code",
   "execution_count": null,
   "metadata": {},
   "outputs": [],
   "source": [
    "s1=\"WHAT IS YOUR NAME?\"\n",
    "s2=\"WHAT IS YOUR QUEST?\"\n",
    "s3=\"WHAT IS YOUR FAVORITE COLOR?\"\n",
    "x=[0,0,0,0]\n",
    "for i in range(15):\n",
    "    x[i%4]+=i\n",
    "    if(i%3==0):\n",
    "        print(s1)\n",
    "    if(i%3==1):\n",
    "        print(s2)\n",
    "    if(i%3==2):\n",
    "        print(s3)\n",
    "        \n",
    "print(\"WHAT IS THE AIRSPEED VELOCITY OF AN UNLADEN SWALLOW?\",x[2])\n",
    "print(\"WHAT DO YOU MEAN? AN AFRICAN OR EUROPEAN SWALLOW?\",x[3])"
   ]
  }
 ],
 "metadata": {
  "kernelspec": {
   "display_name": "Python 3",
   "language": "python",
   "name": "python3"
  },
  "language_info": {
   "codemirror_mode": {
    "name": "ipython",
    "version": 3
   },
   "file_extension": ".py",
   "mimetype": "text/x-python",
   "name": "python",
   "nbconvert_exporter": "python",
   "pygments_lexer": "ipython3",
   "version": "3.7.3"
  }
 },
 "nbformat": 4,
 "nbformat_minor": 2
}
