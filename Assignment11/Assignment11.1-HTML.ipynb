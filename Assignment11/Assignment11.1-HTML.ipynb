{
 "cells": [
  {
   "cell_type": "markdown",
   "metadata": {},
   "source": [
    "# HTML\n",
    "\n",
    "## Web Applications\n",
    "In this notebook, we're going to start learning how web applications work. Web apps are programs that users interact with through web browsers (e.g. Facebook, Twitter, or Gmail.) Fundamentally, web applications work through a client-server model. This means there are two computers involved, and they communicate over a network. The server is the computer that does the bulk of the work and shares its data with the client. The client receives the results from the server and makes requests for more data. Typically, multiple clients connect to the same server and receive similar content (e.g. many people connect to Wikipedia's server at the same time.)\n",
    "\n",
    "In the case of a web app, what's the client? The client is the user's web browser. The web browser makes requests on the user's behalf to the server. What's the server? Well, the server is just a computer. Whoever runs the web application manages the server computer. The server responds to the browser's requests for content. It builds and transmits the contents of web page to the browser.\n",
    "\n",
    "## HTTP\n",
    "So now we understand that a client and server are involved in a web app. What about these requests and responses the browser and server are sending back and forth? The requests are made in the HTTP or HTTPS protocols. HTTP is an application-layer TCP-based protocol that typically uses port 80. HTTPS is when HTTP requests and responses are sent over a TLS connection. HTTPS typically uses port 443.\n",
    "\n",
    "What kind of request does the browser send over HTTP? The most basic web app would involve an HTTP request for a URL. For example, if you navigate to www.strausscenter.org/strauss-articles/strauss-purpose.html, your browser will send an HTTP GET request for that web page. The HTTP request would look something like this:\n",
    "\n",
    "GET /strauss-articles/strauss-purpose.html HTTP/1.1  \n",
    "Host: www.strausscenter.org\n",
    "\n",
    "In response, the web server www.strausscenter.org would find the file \"strauss-purpose.html\" in the \"strauss-articles\" folder and send the contents back in an HTTP response. The server's HTTP response will include some metadata about the HTTP connection, but mostly it'll be the contents of the file \"strauss-purpose.html\". The browser will display the contents of this file.\n",
    "\n",
    "If you're interested in learning more about HTTP requests and responses, the Chrome web browser will let you view all the requests and responses it makes when loading a web page. All you need to do is right click on any web page, select \"Inspect\", choose the \"Network\" tab, and then reload the page. You'll be able to view every single HTTP request and response in detail.\n",
    "\n",
    "We're not going to dwell further on HTTP in this notebook, though. We're here to learn about how web applications are written, so we can learn how they get hacked. For now, let's take a look at the contents of the web page.\n",
    "\n",
    "## Markup Languages\n",
    "Web pages are written in a language called \"Hypertext Markup Language\" (HTML). HTML is not a programming language. It can't to do computation. What kind of language is it? Well, it's right there in the name. It's a markup language. A markup language is a language for describing a document. In addition to the text of the document, the markup language describes how the text should be displayed. HTML is one example of a markup language. The PDF format is another markup language. Microsoft Word and Google Docs can both be viewed as a markup language.\n",
    "\n",
    "In fact, I'm writing the text you're reading right now in a markup language called \"Markdown\". When I write those pretty equations like $f(x)=\\frac{1}{x^2}$, I write them in another markup language called LaTeX. If you double-click on this cell, you'll see the markup languages. If you run the cell full of Markdown, Jupyter will parse the markup language and render it (make it look all beautiful like it's supposed to.)\n",
    "\n",
    "Like other markdown languages (and programming languages,) HTML documents are fundamentally just text. The contents of an HTML file are just a string of ASCII or Unicode characters. The web browser parses that string and renders it. All the web pages you view start out as strings. The contents of the file `basic.html` in this assignment folder look like this if you view them in a text editor like vim:"
   ]
  },
  {
   "cell_type": "code",
   "execution_count": null,
   "metadata": {},
   "outputs": [],
   "source": [
    "<html>\n",
    "<head>\n",
    "<title>THIS IS THE TITLE OF THE PAGE!</title>\n",
    "</head>\n",
    "<body>\n",
    "\n",
    "<h1>This Is A Header</h1>\n",
    "<p>This is a normal paragraph. We can put normal text in here.</p>\n",
    "\n",
    "</body>\n",
    "</html>"
   ]
  },
  {
   "cell_type": "markdown",
   "metadata": {},
   "source": [
    "However, if you open the document in a web browser, you'll see something like the result of running this Python code:"
   ]
  },
  {
   "cell_type": "code",
   "execution_count": null,
   "metadata": {},
   "outputs": [],
   "source": [
    "from IPython.display import IFrame\n",
    "IFrame(src='./basic.html', width=500, height=100)"
   ]
  },
  {
   "cell_type": "markdown",
   "metadata": {},
   "source": [
    "The Python code in the cell above renders the HTML in the file `basic.html` and displays the result within this page.\n",
    "\n",
    "Let's learn a little HTML.\n",
    "\n",
    "## HTML\n",
    "\n",
    "HTML documents are composed of **elements**. Elements are things like titles, pictures, links, and tables. Each picture on the page is an element. Elements can be nested within elements, so a document can have a picture within the body of the document.\n",
    "\n",
    "HTML elements typically start with a tag and end with a tag. The start tag is surrounded by angle brackets, like `<this>`. The end tag matches the start tag, but has a backslash, like `</this>`. For example, if we want bold font, we can surround the text with b tags, `<b>like this</b>`. When parsed and rendered, that text looks <b>like this</b>.\n",
    "\n",
    "As you can see in the example above, the HTML document itself is an element, so it must be surrounded by `<html>` tags. The header (page title) is surrounded by `<head>` tags and the body (contents of the page) is surrounded by `<body>` tags. Let's discuss some of the tags for elements that we can put into the body of an HTML document. Obviously, our goal here is not to become fluent with HTML. We just want to get the general idea of how it works.\n",
    "\n",
    "\n",
    "## HTML Elements\n",
    "\n",
    "In this section, we're going to look at the various elments we can add to the body of an HTML document.\n",
    "\n",
    "A **paragraph** element is just a section of plain text separated by whitespace. The markup looks like `<p>this</p>`. Rendered, it looks like... <p>this</p>\n",
    "\n",
    "\n",
    "\n",
    "An **image** element requires just one tag. We can add extra \"attributes\" to the tag to specify where the file is located and how large it should be displayed. The markup looks like this `<img src=\"./cats.gif\" height=\"50\" width=\"50\">` rendered, it looks like this...\n",
    "\n",
    "<img src=\"./cats.gif\" height=\"100\" width=\"100\">\n",
    "\n",
    "A **hyperlink** or \"anchor\" requires the anchor tag. We need to specify the href attribute to describe the URL of the destination link. The markup looks like `<a href=\"http://www.google.com\">this</a>`. The rendered result looks like <a href=\"http://www.google.com\">this</a>.\n",
    "\n",
    "An **unordered list** requires nested tags. Matching outer `ul` tags start and end the list. Each item on the list has surrounding `li` tags. We could create a list in markdown like this: `<ul><li>confidentiality</li><li>integrity</li><li>availability</li></ul>` The rendered list looks like this:\n",
    "\n",
    "<ul><li>confidentiality</li><li>integrity</li><li>availability</li></ul>\n",
    "\n",
    "An **ordered list** can be created similarly, but with matching `ol` tags. Markdown like this: `<ol><li>confidentiality</li><li>integrity</li><li>availability</li></ol>` renders into a list that looks like this: \n",
    "\n",
    "<ol><li>confidentiality</li><li>integrity</li><li>availability</li></ol>\n",
    "\n",
    "A **table** requires a lot of nesting. First, we need matching `table` tags at the start and end of the table. Then, we need matching `tr` tags for each row of the table. Within each row, we need matching `td` tags for each column of data. An example table in HTML markup might look like this:\n",
    "\n",
    "`<table>`  \n",
    "`    <tr><td>A</td><td>B</td><td>C</td></tr>`  \n",
    "`    <tr><td>X</td><td>Y</td><td>Z</td></tr>`  \n",
    "`</table>`  \n",
    "\n",
    "The resulting table would look like this:\n",
    "\n",
    "<table>\n",
    "    <tr><td>A</td><td>B</td><td>C</td></tr>\n",
    "    <tr><td>X</td><td>Y</td><td>Z</td></tr>\n",
    "</table>\n",
    "\n",
    "If we want to add a header row to the table, each column of the first row should have a `th` tag. A table with headers would look like this in markdown:\n",
    "\n",
    "`<table>`  \n",
    "`    <tr><th>1</th><th>2</th><th>3</th></tr>`  \n",
    "`    <tr><td>A</td><td>B</td><td>C</td></tr>`  \n",
    "`    <tr><td>X</td><td>Y</td><td>Z</td></tr>`  \n",
    "`</table>`  \n",
    "\n",
    "The table would render like this:\n",
    "\n",
    "<table>\n",
    "    <tr><th>1</th><th>2</th><th>3</th></tr>  \n",
    "    <tr><td>A</td><td>B</td><td>C</td></tr>  \n",
    "    <tr><td>X</td><td>Y</td><td>Z</td></tr>\n",
    "</table>\n",
    "\n",
    "The **header** element is a bit of of text in a large font announcing the start of a section new. There are multiple different levels of header tag, h1 being the biggest and h6 being the smallest. The markup looks like `<h4>this</h4>` and the rendered result looks like... <h4>this</h4>\n",
    "\n",
    "Finally, the **iframe** element is used to display a webpage within a webpage. We could stick the contents of \"basic.html\" into this page with this markdown: `<iframe src=\"./basic.html\" width=300 height=100></iframe>`. We already saw the result of rendering this markdown above, where I used Python to create an iframe. Yes, Python can be used to create and render HTML. We'll discuss that more later. For now, here's what an iframe looks like:"
   ]
  },
  {
   "cell_type": "code",
   "execution_count": null,
   "metadata": {},
   "outputs": [],
   "source": [
    "from IPython.display import IFrame\n",
    "IFrame(src='./basic.html', width=500, height=100)"
   ]
  },
  {
   "cell_type": "markdown",
   "metadata": {},
   "source": [
    "If you would like to learn HTML in greater depth, w3schools has an excellent [tutorial](https://www.w3schools.com/html/)."
   ]
  },
  {
   "cell_type": "markdown",
   "metadata": {},
   "source": [
    "## Exercises\n",
    "\n",
    "There is only one exercise for this notebook. In the file \"cool.html\" create an HTML document. The title of the page should be \"My Cool Website\". In the document itself, try to write an HTML document that reproduces as best you can the content you see below:"
   ]
  },
  {
   "cell_type": "markdown",
   "metadata": {},
   "source": [
    "# WELCOME TO MY COOL WEBSITE\n",
    "\n",
    "Can you believe I have this very cool website? No. I think you don't believe I have a cool website. Your mind cannot accept it. It's just that cool.\n",
    "\n",
    "Let me help you understand. What are the best parts about this website? Here is a list:\n",
    "* It's cool.\n",
    "* It's mine.\n",
    "* It's a website.\n",
    "\n",
    "I can also provide a table:\n",
    "\n",
    "| Feature | Percentage |\n",
    "|---------|------------|\n",
    "| Cool    | 100%       |\n",
    "| Mine    | 100%       |\n",
    "| Website | 100%       |\n",
    "\n",
    "If you're still having trouble understanding how cool this website is, here is a picture of some cats being cool.\n",
    "![cats](./cats.gif)\n",
    "\n",
    "Also, I have a link to another cool website. Check out this [very cool link](https://www.businessinsider.com/10-pictures-of-huge-cats-sitting-on-military-weapons-2019-9#and-of-course-an-orange-tabby-cementing-nato-alliances-6).\n",
    "\n",
    "I think that's enough cool for one day. You can't handle any more.\n",
    "\n",
    "# THE END"
   ]
  }
 ],
 "metadata": {
  "kernelspec": {
   "display_name": "Python 3",
   "language": "python",
   "name": "python3"
  },
  "language_info": {
   "codemirror_mode": {
    "name": "ipython",
    "version": 3
   },
   "file_extension": ".py",
   "mimetype": "text/x-python",
   "name": "python",
   "nbconvert_exporter": "python",
   "pygments_lexer": "ipython3",
   "version": "3.7.3"
  }
 },
 "nbformat": 4,
 "nbformat_minor": 2
}
