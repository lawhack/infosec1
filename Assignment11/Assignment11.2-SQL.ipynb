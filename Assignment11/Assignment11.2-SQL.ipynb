{
 "cells": [
  {
   "cell_type": "markdown",
   "metadata": {},
   "source": [
    "# SQL\n",
    "\n",
    "## Databases\n",
    "\n",
    "The data required to generate web pages is usually quite complicated. Imagine navigating Netflix or Facebook. They have millions of users! Where does all that data come from? How do they organize it all? A **database** is a system for organizing large amounts of data. Most web servers maintain at least one database.\n",
    "\n",
    "Far and away, the most common kind of database is a relational database. A **relational database** is just a way of organizing and manipulating tables of data. A table is like a spreadsheet. It's got rows and columns. Here's an example of what a product table in a relational database might look like: \n",
    "\n",
    "| Item                 | Price                | Description                              |\n",
    "|----------------------|----------------------|------------------------------------------|\n",
    "| Wrist watch          | \\$599.99              | An elegant way to tell the time.         |\n",
    "| Coffee grinder       | \\$120.00              | A durable means to access caffeine.      |\n",
    "| Sweater              | \\$65.00               | Stay warm with this fashionable garment. |\n",
    "| DSLR camera          | \\$1200.00             | Preserve your memories in high quality.  |\n",
    "| Towel                | \\$42.00               | Don't forget to take this with you.      |\n",
    "| Diamond necklace     | \\$650.00              | Beauty and elegance.                     |\n"
   ]
  },
  {
   "cell_type": "markdown",
   "metadata": {},
   "source": [
    "## SQL\n",
    "\n",
    "We can store our data in nice rows and columns. So what? Data we can't interact with is not very useful. We need some way of accessing and manipulating this data. In other words, we'd like to do computation. We interact with data in a database by making queries. A **query** is a request for information. The most common language for making queries in relational databases is the Structured Query Language (SQL). SQL is surprisingly intuitive and quite powerful. We won't have time to learn at all it's capable of. There are entire courses dedicated to SQL and relational databases! We're going to focus on getting data out of an existing database.\n",
    "\n",
    "There are many kinds of queries we can make of a database with SQL. We could ask to modify data or delete data or add new data. We're just going to learn the most basic kind of SQL query, the `SELECT` statement. This kind of query lets us retrieve data from a database. Here is an example query for the table above:\n",
    "\n",
    "`SELECT item,price,description`  \n",
    "`FROM product`\n",
    "\n",
    "We `SELECT` the columns we'd like to view. In this case, we asked for the item, product, and price. Where do we get our data `FROM`? The database named 'product'. As you can see, SQL reads a bit like English.\n",
    "\n",
    "Let's try this query out. We're going to run this SQL query *inside a Python program*. Lawhack has a real SQL database with the data from our product example ready and waiting for queries. Let's connect to it and make a query.\n",
    "\n",
    "First, we have to tell our Python script how to establish a connection to the SQL database. We need a username and password. I've supplied both of those in the script below. We also need the name of the datbase. In this case, it's \"example\".\n",
    "\n",
    "Once we've established the connection, we need to get a \"cursor\". A cursor is a datatype that lets us interact with the database. We can ask it to execute queries and retrieve data for us. Once we have the cursor, we can ask it to execute our query. Our query is just a string.\n",
    "\n",
    "After the cursor executes our query, we can ask it for the results. This script loops through the results one row at a time and prints them out."
   ]
  },
  {
   "cell_type": "code",
   "execution_count": null,
   "metadata": {},
   "outputs": [],
   "source": [
    "import mysql.connector\n",
    "\n",
    "database=mysql.connector.connect(user='webapp',         # ESTABLISH DATABASE CONNECTION\n",
    "                                 passwd='Bkypqyxa',\n",
    "                                 database='example')    # CONNECT TO example DATABASE\n",
    "cursor=database.cursor()                                # GET CURSOR\n",
    "\n",
    "query='''\n",
    "SELECT item,price,description\n",
    "FROM product\n",
    "'''\n",
    "\n",
    "cursor.execute(query)                                  # EXECUTE THE QUERY\n",
    "result=cursor.fetchall()                               # GET ALL THE QUERY RESULTS\n",
    "for row in result:                                     # LOOP THROUGH RESULTS\n",
    "  print(row)                                           # PRINT EACH RESULT"
   ]
  },
  {
   "cell_type": "markdown",
   "metadata": {},
   "source": [
    "We don't need to select all of the columns to display. If we just want to know the price, for example, we could change our query to this:\n",
    "\n",
    "`SELECT price`  \n",
    "`FROM product`\n",
    "\n",
    "Try changing the column names in the query above and see how the results change.\n",
    "\n",
    "If we're interested in all of the columns, there's a nice shorthand for that.\n",
    "\n",
    "`SELECT *`  \n",
    "`FROM product`\n",
    "\n",
    "Try that query using our Python code above. You should get the same results as our original query."
   ]
  },
  {
   "cell_type": "markdown",
   "metadata": {},
   "source": [
    "## Where\n",
    "\n",
    "Selecting all of the data in the database is not ideal. In a real database, we could have millions of rows, maybe billions. If we want to filter out some results, we can do that with the WHERE clause. Basically, we can stick a Boolean expression at the end. Only rows that satisfy that condition will be selected. Here's an example query to find the more affordable items in the product table. Try it out.\n",
    "\n",
    "`SELECT *`  \n",
    "`FROM product`  \n",
    "`WHERE price<100`\n",
    "\n",
    "We can get more fancy with our Boolean expressions. Here's another query you can try:\n",
    "\n",
    "`SELECT *`  \n",
    "`FROM product`  \n",
    "`WHERE price>500 AND price<1000`\n",
    "\n",
    "We can even filter strings based on their matching certain patterns using the keyword `LIKE`. The % symbol means \"any characters\". Here is a query that finds all of the products whose descriptions contain the keyword 'you'.\n",
    "\n",
    "`SELECT *`  \n",
    "`FROM product`  \n",
    "`WHERE description LIKE '%you%'`"
   ]
  },
  {
   "cell_type": "markdown",
   "metadata": {},
   "source": [
    "## Order By\n",
    "\n",
    "If we query a lot of items from the database, it might be nice to see them sorted in some way. The `ORDER BY` keyword lets us do that. We can choose which column to order the results by. \n",
    "\n",
    "Here, we sort the products that cost more than \\$50 by price.\n",
    "\n",
    "`SELECT * `  \n",
    "`FROM product `  \n",
    "`WHERE price > 50`  \n",
    "`ORDER BY price`  \n",
    "\n",
    "Here, we sort the products that cost less than \\$1,000 by the item name. They are sorted alphabetically.\n",
    "\n",
    "`SELECT * `  \n",
    "`FROM product `  \n",
    "`WHERE price < 1000`  \n",
    "`ORDER BY item`  \n",
    "\n",
    "We can choose the sorted order to be ascending with `ASC` or descending with `DESC`.\n",
    "\n",
    "`SELECT * `  \n",
    "`FROM product `  \n",
    "`WHERE price < 1000`  \n",
    "`ORDER BY item DESC`  "
   ]
  },
  {
   "cell_type": "markdown",
   "metadata": {},
   "source": [
    "## Functions\n",
    "\n",
    "Instead of displaying the data itself, SQL has functions we can run on query results. We'll learn three. The COUNT function returns the number of rows from a query. This query, for example, will tell us how many items cost more than \\$500.\n",
    "\n",
    "`SELECT COUNT(item)`  \n",
    "`FROM product`  \n",
    "`WHERE price > 500`  \n",
    "\n",
    "There's also a SUM and AVG function that computes the sum and average value for a column. Here's a query to find out the average cost of an item in our database.\n",
    "\n",
    "`SELECT AVG(price)`  \n",
    "`FROM product`  "
   ]
  },
  {
   "cell_type": "markdown",
   "metadata": {},
   "source": [
    "## Limit\n",
    "\n",
    "Sometimes, databases are really big. They have many, many rows. If we write a query, we might accidentally pull back too many results. The `LIMIT` clause lets us restrict the number of rows that come back from a query. This query, for example, retrieves the items costing more than \\$50, but limits itself to returning no more than two rows:\n",
    "\n",
    "`SELECT * `  \n",
    "`FROM product `  \n",
    "`WHERE price > 50`  \n",
    "`ORDER BY item`  \n",
    "`LIMIT 2`"
   ]
  },
  {
   "cell_type": "markdown",
   "metadata": {},
   "source": [
    "Once again, [w3schools](https://www.w3schools.com/sql/) has an excellent tutorial if you'd like to learn more about SQL."
   ]
  },
  {
   "cell_type": "markdown",
   "metadata": {},
   "source": [
    "# Exercises\n",
    "For the first few exercises, we'll continue to use the example database from above. For convenience, I've copied the connection code down here. All you'll need to do is change the query string."
   ]
  },
  {
   "cell_type": "code",
   "execution_count": null,
   "metadata": {},
   "outputs": [],
   "source": [
    "import mysql.connector\n",
    "\n",
    "database=mysql.connector.connect(user='webapp',         # ESTABLISH DATABASE CONNECTION\n",
    "                                 passwd='Bkypqyxa',\n",
    "                                 database='example')    # CONNECT TO example DATABASE\n",
    "cursor=database.cursor()                                # GET CURSOR\n",
    "\n",
    "query='''\n",
    "SELECT item,price,description\n",
    "FROM product\n",
    "'''\n",
    "\n",
    "cursor.execute(query)                                  # EXECUTE THE QUERY\n",
    "result=cursor.fetchall()                               # GET ALL THE QUERY RESULTS\n",
    "for row in result:                                     # LOOP THROUGH RESULTS\n",
    "  print(row)                                           # PRINT EACH RESULT"
   ]
  },
  {
   "cell_type": "markdown",
   "metadata": {},
   "source": [
    "1) Write and run a SQL query to display just the description of all of the items in the product database.\n",
    "\n",
    "2) Write and run a SQL query to display the description of items costing between \\\\$100 and \\\\$700.\n",
    "\n",
    "3) Write and run a SQL query to display the total number of items that cost between \\\\$100 and \\\\$700.\n",
    "\n",
    "4) Write and run a SQL query to compute the total cost of items that have the letter 'e' in their description."
   ]
  },
  {
   "cell_type": "markdown",
   "metadata": {},
   "source": [
    "We're going to connect to a more realistic database now. The developers of the relational database software we're using, MySQL, provide a test database [here](https://dev.mysql.com/doc/employee/en/). It's been installed on lawhack and is ready and waiting for your queries. The code below connects to it and counts the number of employees there are in the employees table. There's a lot of data! Be careful!\n",
    "\n",
    "The columns of the employees table are `emp_no`, `birth_date`, `first_name`, `last_name`, `gender`, and `hire_date`."
   ]
  },
  {
   "cell_type": "code",
   "execution_count": null,
   "metadata": {},
   "outputs": [],
   "source": [
    "import mysql.connector\n",
    "\n",
    "database=mysql.connector.connect(user='webapp',\n",
    "                                 passwd='Bkypqyxa',\n",
    "                                 database='employees')\n",
    "cursor=database.cursor()\n",
    "\n",
    "query='''\n",
    "SELECT count(*)\n",
    "FROM employees\n",
    "'''\n",
    "\n",
    "cursor.execute(query)\n",
    "result=cursor.fetchall()\n",
    "for row in result:\n",
    "  print(row)"
   ]
  },
  {
   "cell_type": "markdown",
   "metadata": {},
   "source": [
    "5) There is a salaries table in this database with a column called \"salary\". Compute the average salary.\n",
    "\n",
    "6) Find the first and last name of the youngest employee. **Warning**: This table is big. Be sure to use the LIMIT clause to limit your results to fewer than 100. Otherwise, you'll have to do a lot of waiting.\n",
    "\n",
    "7) How many employees are identified in as female in this cisnormative database?\n",
    "\n",
    "8) To give you an idea of how powerful SQL can be, here's a very fancy query. What does it do?\n",
    "\n",
    "`SELECT employees.gender,COUNT(*),AVG(salaries.salary)`  \n",
    "`FROM employees NATURAL JOIN salaries NATURAL JOIN titles`  \n",
    "`WHERE titles.title like '%Engineer%'`  \n",
    "`GROUP BY employees.gender`  "
   ]
  },
  {
   "cell_type": "code",
   "execution_count": null,
   "metadata": {},
   "outputs": [],
   "source": []
  }
 ],
 "metadata": {
  "kernelspec": {
   "display_name": "Python 3",
   "language": "python",
   "name": "python3"
  },
  "language_info": {
   "codemirror_mode": {
    "name": "ipython",
    "version": 3
   },
   "file_extension": ".py",
   "mimetype": "text/x-python",
   "name": "python",
   "nbconvert_exporter": "python",
   "pygments_lexer": "ipython3",
   "version": "3.7.3"
  }
 },
 "nbformat": 4,
 "nbformat_minor": 2
}
