{
 "cells": [
  {
   "cell_type": "markdown",
   "metadata": {},
   "source": [
    "# The Linux Command Line\n",
    "\n",
    "In this notebook, we are switching to a new topic. We're going to start learning how to secure computer systems. First, we need to learn a bit more about how computer systems work. We'll start by learning some operating system basics. An operating system is software designed to manage a computer. Operating systems take care of memory, processes, security, secondary storage and most other aspects of computer use. If you're not interacting with an application, you're probably interacting with an operating system.\n",
    "\n",
    "The operating system we will work with in this class is Linux. Specifically, we'll use the Ubuntu distribution. Linux is a Unix-like operating system first developed in 1991. It's free and open source, which is nice for educational purposes. It also happens to be the operating system used most often for technical infrastructure. A serious hacker will eventually need to learn the Linux command line interface (CLI.)\n",
    "\n",
    "## Accessing the Terminal\n",
    "\n",
    "lawhack is a Linux machine, and you're already logged in. How do you interact with it? This notebook is going to be a bit different than your previous notebooks. You're going to need to open a command line terminal to type in commands. To access a terminal, go back to the Assignment7 folder in another browser tab or window. On the right side, click New and select \"Terminal\" from the dropdown menu.\n",
    "\n",
    "<img src=\"./terminal.png\" />\n",
    "\n",
    "If you do it correctly, you should see a big black screen with a prompt on the right. The prompt in white text will be slightly different than mine, but you're looking at the Linux CLI.\n",
    "\n",
    "<img src=\"./terminal2.png\" />\n",
    "\n",
    "## Executing Commands\n",
    "We can execute commands at the command line by typing the name of the command, then hitting \"Enter\". Here are a few simple example commands to get started.\n",
    "\n",
    "| Command name     | Displays                               | Notes                  |\n",
    "| -----------------|-------------------------------------------|------------------------|\n",
    "| date             | Today's date.                    | None                   |\n",
    "| whoami           | The current user's username.     | None                   |\n",
    "| cal              | A calendar with the current date | None                   |\n",
    "| finger           | Info about a user.               | None |\n",
    "| last             | Previous logins for a user       | None |\n",
    "| echo             | Prints arguments to screen.      | Whatever you type gets printed. |                |\n",
    "\n",
    "Try running a few of these commands before you continue. Type the name and hit enter.\n",
    "\n",
    "## Arguments\n",
    "\n",
    "As with Python functions, we can provide additional inputs to Linux commands. Unlike Python functions, we provide arguments to a Linux command by typing them with spaces between them. No parentheses or commas are required. For example, we can view the calendar for a particular date by typing the date after the cal command like so:\n",
    "\n",
    "cal dec 25\n",
    "\n",
    "## Man Pages\n",
    "You can view the documentation for a Linux command with the command man. Just type man and supply the name of the command as an argument. For example:\n",
    "man cal\n",
    "\n",
    "You can page through the manual with the up and down arrows. To quit and return to the command line, type q.\n",
    "\n",
    "## Options\n",
    "Viewing the man page for cal, you may have noticed that some commands also take **options**. Like arguments, we can specify options after the name of the command. Options change the behavior of the command, and are specified with a - followed by a letter. For example:\n",
    "\n",
    "cal -h\n",
    "\n",
    "This displays the calendar for the current month without highlighting today. Sometimes, options can take arguments. For example:\n",
    "\n",
    "cal -y 2020\n",
    "\n",
    "This command displays the entire calendar for the year 2020.\n",
    "\n",
    "Options and parameters can be a bit confusing and inconsistent across Linux commands. When in doubt, consult the man pages.\n",
    "\n",
    "## Processes\n",
    "A process is a program that the operating system is currently executing. The processes we've been running so far have taken very little time. Some processes take much longer. Some processes are continuiously running. We can view the processes currently running with the command top.\n",
    "\n",
    "top gives a very detailed display that updates dynamically. The first few lines of top's display show system information (e.g. time since the system was rebooted and how much memory has been used.) Beneath that, you'll see a table. Each row in the table is a process. You can see which user started the process, how much memory and CPU it's taking up, how long it's been running, and what command started the process.\n",
    "\n",
    "To quit top, type q.\n",
    "\n",
    "## Helpful Tips\n",
    "\n",
    "Two things will make your life at the Linux command line much easier, but you need to practice them until they become second nature.\n",
    "\n",
    "The first tip is that you can cycle through your previous commands with the up and down arrows. Did you typo when entering a command? Don't re-type the entire command. Just hit the up arrow and then use the left and right arrow keys to edit the command and fix your previous mistake.\n",
    "\n",
    "The second tip is tricky to get used to, but will save you from making typos and make life much easier. The tab key is autocomplete. If you start typing a command or file name, if you hit tab, bash will autocomplete it for you if it can. If you've typed enough letters that becomes unambiguous what you mean, **BAM** it just finishes typing for you. Very convenient.\n",
    "\n",
    "Even better, however, is that if autocomplete **can't** finish typing for you, typing tab a **second** time will display all of the possible ways it **could** finish what you were typing. This is a nice way of getting suggestions. Veteran Linux command line users reflexively mash the tab key as they're typing in commands. You should learn to do the same!\n",
    "\n",
    "Don't forget these tips. They come in **very** handy when typing out long file and path names, as we'll do in the next notebook."
   ]
  },
  {
   "cell_type": "markdown",
   "metadata": {},
   "source": [
    "## Exercises\n",
    "\n",
    "You'll find the exercises for this notebook below. We're not using Python this time. You'll have to work through these using the terminal. Remember to take screen shots and write up your solutions in your journal as usual."
   ]
  },
  {
   "cell_type": "markdown",
   "metadata": {},
   "source": [
    "1) Who are you? What is your username on lawhack?"
   ]
  },
  {
   "cell_type": "markdown",
   "metadata": {},
   "source": [
    "2) What are some processes running on lawhack? Are any of them using the CPU? Who owns these processes?"
   ]
  },
  {
   "cell_type": "markdown",
   "metadata": {},
   "source": [
    "3) According to lawhack, when was the last time you logged on?"
   ]
  },
  {
   "cell_type": "markdown",
   "metadata": {},
   "source": [
    "4) Read the man page for date. Write a command to display the current day in this format: Monday, October 14, 2019"
   ]
  },
  {
   "cell_type": "markdown",
   "metadata": {},
   "source": [
    "5) Read the man page for date. Write a command to display the current day of the year (i.e. how many days into the current year are we?)"
   ]
  },
  {
   "cell_type": "markdown",
   "metadata": {},
   "source": [
    "6) What command would print \"Hello world!\" to the screen?"
   ]
  }
 ],
 "metadata": {
  "kernelspec": {
   "display_name": "Python 3",
   "language": "python",
   "name": "python3"
  },
  "language_info": {
   "codemirror_mode": {
    "name": "ipython",
    "version": 3
   },
   "file_extension": ".py",
   "mimetype": "text/x-python",
   "name": "python",
   "nbconvert_exporter": "python",
   "pygments_lexer": "ipython3",
   "version": "3.7.3"
  }
 },
 "nbformat": 4,
 "nbformat_minor": 2
}
