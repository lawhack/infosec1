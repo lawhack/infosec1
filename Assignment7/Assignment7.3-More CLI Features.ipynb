{
 "cells": [
  {
   "cell_type": "markdown",
   "metadata": {},
   "source": [
    "# More CLI Features\n",
    "\n",
    "In this notebook, we will continue to explore the Linux CLI. There are more features worth familiarizing yourself with.\n",
    "\n",
    "## Input and Output\n",
    "As you've already seen, commands in the Linux CLI take text as input and produce text as output. By default, input comes from the keyboard, and output is printed to the screen. Sometimes, this is not ideal. If we already have the input text available in a file, why type it again? If we want to save the output text, printing it to the screen is not very useful. Fortunately, input and output can be routed through files or other Linux programs.\n",
    "\n",
    "### Redirection\n",
    "Instead of supplying text input ourselves, we can **redirect** input to be brought in from a file. To do this, we use the < symbol. If you navigate to the zoo/BlueWhale/Wallaby directory, you can execute the command\n",
    "\n",
    "wc -l < 25344-0.txt\n",
    "\n",
    "This counts the number of lines in this text document. What is this text document? You should check yourself.\n",
    "\n",
    "Instead of reading the output of a command on the screen, we can redirect the output text into a file. To do this, we use the > symbol. We could, for example run the command:\n",
    "\n",
    "sort 25344-0.txt > junk.txt\n",
    "\n",
    "This will sort all of the lines in the text file alphabetically and store them in a new file called junk.txt\n",
    "\n",
    "### Pipes\n",
    "\n",
    "Redirection is helpful, but there is an even more powerful tool available to us when using the Linux CLI. We can use the output of one command as the input to another command. The tool we use to accomplish this is called a **pipe**. We can pipe the output from one command to the next with the | symbol. This allows us to build a chain of commands to process data. We might, for example, build this chain:\n",
    "\n",
    "cat 25344-0.txt | head -n 1000\n",
    "\n",
    "The cat command outputs the contents of the text file. The head command prints the first 1,000 lines in the file. So far, this is not very useful. We could've accomplished the same thing with redirection (head -n 1000 < 25344-0.txt) or even just using command line arguments (head -n 1000 25344-0.txt). Building a longer chain gets more interesting.\n",
    "\n",
    "cat 25344-0.txt | head -n 1000 | tail -n 10\n",
    "\n",
    "We already know the output of the first two commands is the first 1,000 lines of the text. Piping that output as the input to a tail command prints only the last 10 lines. By chaining these two commands together with pipes, we've printed lines 990-1000 of the text.\n",
    "\n",
    "## Searching for Text\n",
    "One particularly powerful command is called \"grep\". The purpose of grep is to search for text.\n",
    "\n",
    "grep \"sinner\" 25344-0.txt\n",
    "\n",
    "This command searches for the word \"sinner\" in the text document. By adding the option -r, grep will instead search through all the files in all the subdirectories of a specified directory. For example, if you navigate to the zoo folder, you can execute this command:\n",
    "\n",
    "grep -r \"monster\" ./\n",
    "\n",
    "This will search through all of the text documents to find every line containing the word \"monster\". As you can see, there are quite a few.\n",
    "\n",
    "Just to give you a notion of how powerful these commands can be when combined together with pipes, here's a chain of commands that counts how many times the word \"monster\" appears in each file. Don't worry if you don't understand it all.\n",
    "\n",
    "grep -r \"monster\" . | awk -F':' '\\{print $1\\}' | sort | uniq -c\n",
    "\n",
    "Which files use that word the most? Why?"
   ]
  },
  {
   "cell_type": "markdown",
   "metadata": {},
   "source": [
    "## Editing Files\n",
    "\n",
    "I'm not going to sugarcoat this. Editing text files without a GUI takes a lot of getting used to. It can be pretty frustrating. You're going to have to be patient. That said, it's also much more efficient and powerful than using a GUI. Along the way, if you find yourself getting too frustrated, know that you can edit text files using the Jupyter interface. If you navigate to the file, you can edit it with a nice friendly GUI. Try to resist the temptation to do this too often, though.\n",
    "\n",
    "There are many Linux CLI text editors. The one I use is called vim, and the original version is over 40 years old. To edit a file with vim, you can just type vim and then the file name, like this:\n",
    "\n",
    "vim test.txt\n",
    "\n",
    "Vim has two modes. Initially, you're in the **command mode**. In this mode, the keys all execute special commands. To type text, you need to be in **insert mode**. To switch to insert mode, hit the i key. Now, you can type as much text as you like. When you are finished typing text, you can hit ESC to return to command mode.\n",
    "\n",
    "To save a file, you can type :w and hit Enter. To quit, type :q and hit Enter. To save and quit, type :wq and hit Enter. To quit without saving, hit :q! and hit Enter.\n",
    "\n",
    "From command mode, you can search for text by hitting /. You can delete a line by hitting d twice. You can copy a line by typing y twice. You can paste a line you've deleted with p. You can undo with u. There are many, many more commands. A nice cheat sheet is available [here](https://vim.rtorr.com).\n",
    "\n",
    "Again, when you get frustrated, remember that you can always retreat to the comfort of the Jupyter GUI when you need a break.\n",
    "\n",
    "## Scripts\n",
    "\n",
    "In the Linux CLI, text files with the execute permission are programs. By default, they are  scripts in a language called Bash. All of the Linux CLI commands you've learned so far are essentially one line Bash scripts. If you put them together in an executable text file, they would run.\n",
    "\n",
    "But you don't know Bash scripting, and I'm not going to teach you Bash scripting. You learned Python scripting. Let's script in Python instead. To do this, we need to tell Bash where the Python interpreter is. If we create an executable text file and add this as the first line of a script:\n",
    "\n",
    "\\#!/usr/bin/python\n",
    "\n",
    "Anything we type after that will be run as a Python program. Look at the scripts in MaineCoon/Panther and Pike/Coyote to see what I mean."
   ]
  },
  {
   "cell_type": "markdown",
   "metadata": {},
   "source": [
    "## Exercises\n",
    "Below, you will find the exercises for this lesson. You might find some of them challenging. Don't hesitate to ask questions on Piazza if you're struggling."
   ]
  },
  {
   "cell_type": "markdown",
   "metadata": {},
   "source": [
    "1) Navigate to the PatasMonkey/Seahorse folder of the zoo and execute the chain of piped commands below. What does it do? What does each piece of it accomplish? The fmt -1 command outputs exactly one word per line. You might need to read the man pages to understand some of the other commands."
   ]
  },
  {
   "cell_type": "markdown",
   "metadata": {},
   "source": [
    "cat 521-0.txt | fmt -1 | sort | uniq -c | sort -g -k 1"
   ]
  },
  {
   "cell_type": "markdown",
   "metadata": {},
   "source": [
    "2) Which file contains the phrase \"rather elementary\"? Describe the contents of this file."
   ]
  },
  {
   "cell_type": "markdown",
   "metadata": {},
   "source": [
    "3) Which file contains the most occurences of the word \"revenge\"? Describe the contents of this file."
   ]
  },
  {
   "cell_type": "markdown",
   "metadata": {},
   "source": [
    "4) In the GalapagosPenguin/BeardedDragon folder, create a file called \"favorites.txt\" in vim. Write the name of your favorite book and your favorite movie in the file and save it."
   ]
  },
  {
   "cell_type": "markdown",
   "metadata": {},
   "source": [
    "5) In the BlueWhale/ElephantSeal folder, write a Python program that sums up the numbers between 1 and 150 and prints the result. Put this script in a file called myFirstProgram.py and make it executable. Run your program. Congratulations! You're officially a Linux programmer!"
   ]
  }
 ],
 "metadata": {
  "kernelspec": {
   "display_name": "Python 3",
   "language": "python",
   "name": "python3"
  },
  "language_info": {
   "codemirror_mode": {
    "name": "ipython",
    "version": 3
   },
   "file_extension": ".py",
   "mimetype": "text/x-python",
   "name": "python",
   "nbconvert_exporter": "python",
   "pygments_lexer": "ipython3",
   "version": "3.7.3"
  }
 },
 "nbformat": 4,
 "nbformat_minor": 2
}
