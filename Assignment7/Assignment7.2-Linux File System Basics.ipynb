{
 "cells": [
  {
   "cell_type": "markdown",
   "metadata": {},
   "source": [
    "# Linux File System Basics\n",
    "\n",
    "You're probably used to navigating the file system on your operating system using a GUI like Finder or Explorer. Navigating the Linux file system from the command line (CLI) can be a bit challenging at first.\n",
    "\n",
    "The Linux file system is arranged as a tree rooted at a directory named \"root\" which is represented as / (a single forward slash. All other directories and files are located in subdirectories or subsubdirectories of the root.\n",
    "\n",
    "The \"path\" to a file or directory is a bit like its address in the directory tree. Starting from the root, it describes each directory and subdirectory containing the file. The path to a file might look like this:\n",
    "\n",
    "/home/ryan/TechOfCyber/Lecture1.pdf\n",
    "\n",
    "This path indicates that the root directory contains a subdirectory named \"home\" that contains a subdirectory named \"ryan\" that contains a subdirectory named \"TechOfCyber\" that contains a file named \"Lecture1.pdf\". We call this the \"absolute path\" of Lecture1.pdf.\n",
    "\n",
    "Paths like this that describe the full trail from the file system root to the file or directory are called **absolute paths**. \n",
    "\n",
    "## Working Directory\n",
    "\n",
    "When interacting with the command line interface, we're always \"located\" in a particular directory in the directory tree. This location is called the \"working directory\". You can view the current working directory with the command pwd. You can view all of the files and directories in the current working directory with the command ls.\n",
    "\n",
    "Open a console now and try this out. What is your working directory? Run pwd. What are the files and directories in your working directory? Run ls (\"LS\" but in lower-case).\n",
    "\n",
    "Your working directory is not fixed. You can change the working directory with the command cd. \n",
    "The cd command changes the working directory to the path supplied as an argument. This path can either be the full absolute path or a relative path. A **relative path** describes the path to a folder relative to the working directory. The rest of the path is simply omitted. If our working directory was /home/ryan/ a relative path might be TechOfCyber/Lecture1.pdf\n",
    "\n",
    "Go back to your console and continue to navigate around. The Assignment7 directory has a subdirectory called zoo.  It's full of directories and subdirectories and files. Try exploring the zoo for a bit."
   ]
  },
  {
   "cell_type": "markdown",
   "metadata": {},
   "source": [
    "## Useful Shorthand\n",
    "\n",
    "The Unix command line has some useful shorthand for describing certain directories. These are helpful when navigating the directory tree.\n",
    "\n",
    "| Shorthand | Is short for                         |\n",
    "| ----------|--------------------------------------|\n",
    "| .         | The currrent working directory.      |\n",
    "| ..        | The parent of the working directory. |\n",
    "| ~         | The user's home directory.           |\n",
    "\n",
    "\n",
    "These shorthands allow us to describe relative paths more clearly and flexibly. For example, we might say that a file is located in the directory ./Assignment1/ or that a file is located in the directory ../../usr/ \n",
    "\n",
    "Continue to practice navigating in the zoo. Explore deeper into the zoo and then try backing out using these shortcuts. As they say in The Wizard of Oz, there's no place like home. If you get lost or confused, you can always use the command cd ~ to take you back to your home directory. From there, you can restart your exploration."
   ]
  },
  {
   "cell_type": "markdown",
   "metadata": {},
   "source": [
    "## Useful Commands\n",
    "\n",
    "Below, you'll find a list of useful commands for navigating the directory tree and interacting with files from the command line. Some of the commands take arguments. Others do not. Be sure to read the descriptions.\n",
    "\n",
    "Always be careful about removing files or directories. Once you run one of those commands, the file or directory is gone forever. Copying or moving files can be similarly dangerous. If you overwrite a file, it's gone.\n",
    "\n",
    "| Command name     | Description                                 | Notes                  |\n",
    "| -----------------|---------------------------------------------|------------------------|\n",
    "| pwd              | Print working directory.             | None                   |\n",
    "| ls               | Displays files in working directory.| Add -l for more info.  |\n",
    "| cd               | Change working directory to argument1. | Full or relative path. |\n",
    "| cp               | Copy file argument1 to argument2.           | Arguments are paths.   |\n",
    "| mv               | Move file from argument1 to argument2.      | Arguments are paths.   |\n",
    "| rm               | Removes the file in the argument.       | **CAREFUL** with this one.  |\n",
    "| wc               | Count words, lines, and characters in a file. | None                 |\n",
    "| chmod            | Change file permissions                     | Read lesson.           |\n",
    "| cat              | Display text contents of a file.             | None                   |\n",
    "| more             | Display text contents of a long file. | Type Enter for more, q to quit. |\n",
    "| head             | Display first 10 lines of text in a file.             | The -n option lets you choose the number of lines printed. |\n",
    "| tail             | Display last 10 lines of text in a file.             | The -n option lets you choose the number of lines printed. |\n",
    "| diff             | Display differences between file1 and file2. | None                  |\n",
    "| mkdir            | Makes a new directory.                       | None                  |\n",
    "\n",
    "Before moving on, try some of these out on files in your home directory or this assignment directory (maybe avoid rm and chmod for now.) with animal names and some interesting files.\n",
    "\n",
    "The most important commands for navigating the directory structure are cd, ls, and pwd. If you want to know where you are, use pwd. If you want to see where you might go, use ls. To move, use cd. If you want to move up the directory tree, don't forget the shorthand we discussed. The command cd ../ is very useful."
   ]
  },
  {
   "cell_type": "markdown",
   "metadata": {},
   "source": [
    "## File Permissions\n",
    "\n",
    "Linux files have **permissions**. These indicate what users are allowed to do. There are three kinds of permissions: read, write, and execute. The read permission means we're allowed to view the contents of the file. Write means we're allowed to change the contents of the file. Execute permission means the file can be run as a program. Each file has permissions for the owner (the user that created the file) the group (users can be put into collaborative groups) and all (the other users on this computer.) All three permissions (read, write, and execute) can be configured independently for the owner, group, and all.\n",
    "\n",
    "We can view the permissions for a file with the ls -l command. A file's permissions might look something like -rwxr-x--x. The first dash indicates this is a file (a directory would have a letter d in that spot.) The second 3 indicate that the owner can read, write, and execute this file (rwx). The next three indicate that members of the group can read and execute, but not write, this file (r-x). The final three indicate that all of the other users can execute, but not read or write this file (--x).\n",
    "\n",
    "The owner of a file can change its permissions with the chmod command. To use this command, we type chmod. We follow this with the users whose permission we would like to change. u for owner, g for group, and o for all. Next, we indicate how we want to modify the permissions. + to add or - to remove permissions. Then, we incidate what permissions to change. r for read, w for write, and x for execute. Finally, we indicate the name of the file whose permissions we want to change. An example chmod command to add read and write permissions for the owner might look something like this:\n",
    "\n",
    "chmod u+rw file.txt\n",
    "\n",
    "## Directory Permissions\n",
    "\n",
    "Directories also have the same three types of permissions for owner, group, and all. We describe them in the exact same way, and we can modify them with chmod. The only difference is that the meaning of the permissions is slightly different. Read permission means we can view the contents of the directory. Write permission means we can modify the contents of the directory by creating or deleting files. Execute permission means we can access files in this directory. In other words, we must first have execute permission on a directory to take advantage of any permissions we have on the files within that directory.\n",
    "\n",
    "To see some interesting directory permissions, try navigating to the root directory and running the ls -l command."
   ]
  },
  {
   "cell_type": "markdown",
   "metadata": {},
   "source": [
    "## Exercises \n",
    "Use the commands above to complete these exercises. You should only use the command line for these exercises."
   ]
  },
  {
   "cell_type": "markdown",
   "metadata": {},
   "source": [
    "1) What is the absolute path of the working directory when you first open a console?"
   ]
  },
  {
   "cell_type": "markdown",
   "metadata": {},
   "source": [
    "2) What is the absolute path to your home directory?"
   ]
  },
  {
   "cell_type": "markdown",
   "metadata": {},
   "source": [
    "3) Navigate to the Siberian/Hippopotamus directory of the zoo. Create a subdirectory called \"Serval\". What is the absolute path for this directory?"
   ]
  },
  {
   "cell_type": "markdown",
   "metadata": {},
   "source": [
    "4) How many different animals are in the zoo (i.e. how many directories and subdirectories are there in the zoo directory?)"
   ]
  },
  {
   "cell_type": "markdown",
   "metadata": {},
   "source": [
    "5) In the PolarBear/Dodo directory of the zoo, there is a file. What is in that file? How many lines are in that file? How many characters are in the file?"
   ]
  },
  {
   "cell_type": "markdown",
   "metadata": {},
   "source": [
    "6) Visit the MaineCoon/Panther subdirectory of the zoo. What are the contents of the files in this directory? There is a Python script there. Change its permissions to executable and run it. What happens?"
   ]
  },
  {
   "cell_type": "markdown",
   "metadata": {},
   "source": [
    "7) What are the subdirectories of the root folder? What are their permissions? Which folders are you forbidden from accessing?"
   ]
  },
  {
   "cell_type": "markdown",
   "metadata": {},
   "source": [
    "8) In the Pike/Coyote directory of the zoo, you'll find a Python script. Change its permissions and run it. This will produce an image. Move that image to your home directory. Navigate to your home directory **in Jupyter** and view the image. What is in the image?"
   ]
  },
  {
   "cell_type": "markdown",
   "metadata": {},
   "source": [
    "9) Move the Giraffe subdirectory of Gerbil into the JapaneseChin/Orangutan subfolder."
   ]
  }
 ],
 "metadata": {
  "kernelspec": {
   "display_name": "Python 3",
   "language": "python",
   "name": "python3"
  },
  "language_info": {
   "codemirror_mode": {
    "name": "ipython",
    "version": 3
   },
   "file_extension": ".py",
   "mimetype": "text/x-python",
   "name": "python",
   "nbconvert_exporter": "python",
   "pygments_lexer": "ipython3",
   "version": "3.7.3"
  }
 },
 "nbformat": 4,
 "nbformat_minor": 2
}
