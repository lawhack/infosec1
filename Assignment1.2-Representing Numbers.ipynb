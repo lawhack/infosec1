{
 "cells": [
  {
   "cell_type": "markdown",
   "metadata": {},
   "source": [
    "# Numeric Data\n",
    "\n",
    "We're going to explore the ways we store numbers in a computer, but first let's think about how we usually represent numbers. We commonly represent (or encode) numbers using a decimal representation. We use ten symbols $\\Sigma=\\{0, 1, 2, 3, 4, 5, 6, 7, 8, 9\\}$ to represent numbers. For example 3 represents three and 15 represents fifteen.\n",
    "\n",
    "The number farthest to the right is in the \"ones place\", the second number from the right is in the \"tens place\", the third is in the \"hundreds place\" and so on. Consider the number 4,096.\n",
    "\n",
    "| 1000s | 100s | 10s | 1s| \n",
    "| ----- | ---- | --- | - | \n",
    "| 4     |  0   | 9   | 6 |\n",
    "\n",
    "We interpret this number as $4 \\times 1000 + 0 \\times 100 + 9 \\times 10 + 6 \\times 1$.\n",
    "\n",
    "Note that the \"name\" for each \"column\" or \"place\" is a power of 10. We get next column by multiplying the previous column by 10. We could write the above example as...\n",
    "\n",
    "| $10^3$ | $10^2$ | $10^1$ | $10^0$| \n",
    "| ----- | ---- | --- | - | \n",
    "| 4     |  0   | 9   | 6 |\n",
    "\n",
    "or $4\\times 10^3 + 0 \\times 10^2 + 9 \\times 10^1 + 6 \\times 10^0$.\n",
    "\n",
    "The number 10 is why we call it \"**dec**imal\". There are 10 symbols we use to write our numbers, and each new column we add on to the left represents one higher power of 10. This is why we say we have a base 10 numbering system.\n",
    "\n",
    "By default, Python interprets our literals and prints numbers in decimal, just like we humans do. Computers and computer scientists (are we really human?) typically represent numbers in different encodings. Base 2 (binary) and base 16 (hexadecimal) are important. Let's learn about them."
   ]
  },
  {
   "cell_type": "markdown",
   "metadata": {},
   "source": [
    "## Numbers in Binary\n",
    "\n",
    "The decimal system is based around the number 10. The binary system is instead based around the number 2. Decimal uses 10 symbols, but binary uses just 2 $\\Sigma=\\{0,1\\}$ to represent all numbers. For example, binary 1101 is:\n",
    "\n",
    "| $2^3$ | $2^2$ | $2^1$ | $2^0$| \n",
    "| ----- | ---- | --- | - | \n",
    "| 1     |  1   | 0   | 1 |\n",
    "\n",
    "$1\\times 2^3 + 1 \\times 2^2 + 0 \\times 2^1 + 1 \\times 2^0$. What number is this? Let's find out with Python."
   ]
  },
  {
   "cell_type": "code",
   "execution_count": null,
   "metadata": {},
   "outputs": [],
   "source": [
    "1*2**3+1*2**2+0*2**1+1*2**0"
   ]
  },
  {
   "cell_type": "markdown",
   "metadata": {},
   "source": [
    "Or you can input a number directly in binary by putting 0b in front of it, like this:"
   ]
  },
  {
   "cell_type": "code",
   "execution_count": null,
   "metadata": {},
   "outputs": [],
   "source": [
    "0b1101"
   ]
  },
  {
   "cell_type": "markdown",
   "metadata": {},
   "source": [
    "You can view the binary representation of a number in Python using a built-in function:"
   ]
  },
  {
   "cell_type": "code",
   "execution_count": null,
   "metadata": {},
   "outputs": [],
   "source": [
    "bin(13)"
   ]
  },
  {
   "cell_type": "markdown",
   "metadata": {},
   "source": [
    "Good news! From now on, you can use Python to translate between binary and decimal. I won't make you learn to do it yourself for this course."
   ]
  },
  {
   "cell_type": "markdown",
   "metadata": {},
   "source": [
    "## Bitwise operators\n",
    "\n",
    "In previous exercises, you might have made a common mistake in Python and typed something like this: "
   ]
  },
  {
   "cell_type": "code",
   "execution_count": null,
   "metadata": {},
   "outputs": [],
   "source": [
    "3^2"
   ]
  },
  {
   "cell_type": "markdown",
   "metadata": {},
   "source": [
    "What? $3^2$ is 9, not 1! **HA HA!** You fell victim to one of the classic blunders, the most famous of which is \"Never get involved in a land war in Asia,\" but only slightly less well known is \"Never use the ^ operator in Python when you mean \\*\\*!\" Exponentiation is \\*\\* in Python. Don't forget it!"
   ]
  },
  {
   "cell_type": "code",
   "execution_count": null,
   "metadata": {},
   "outputs": [],
   "source": [
    "3**2"
   ]
  },
  {
   "cell_type": "markdown",
   "metadata": {},
   "source": [
    "So what's the deal with this ^ operator? What is it doing? This is one of the bitwise Boolean operators in Python.\n",
    "\n",
    "|Operator | Name                |\n",
    "| ------- | ------------------- |\n",
    "| x & y   | Bitwise AND         |\n",
    "| x \\| y   | Bitwise OR         | \n",
    "| x ^ y   | Bitwise XOR      | \n",
    "\n",
    "These operators work on the *binary* representation of the number. Let's use 12 and 9 as an example and see how they work. First, let's see what 12 and 9 look like in binary."
   ]
  },
  {
   "cell_type": "code",
   "execution_count": 2,
   "metadata": {},
   "outputs": [
    {
     "name": "stdout",
     "output_type": "stream",
     "text": [
      "12 0b1100\n",
      "9 0b1001\n"
     ]
    }
   ],
   "source": [
    "print(12,bin(12))\n",
    "print(9,bin(9))"
   ]
  },
  {
   "cell_type": "markdown",
   "metadata": {},
   "source": [
    "To perform the binary operators, we first line up the binary representations column by column. We then compare the two numbers in each column, and the operator tell us what to write for the anwswer.\n",
    "\n",
    "| 8s place | 4s place | 2s place | 1s place |\n",
    "|----------|----------|----------|----------|\n",
    "| 1        | 1        |0         | 0        |\n",
    "| 1        | 0        |0         | 1        |\n",
    "\n",
    "### XOR ^\n",
    "For XOR, we write a 1 if the columns are different and a 0 if they are the same.\n",
    "\n",
    "| 8s place | 4s place | 2s place | 1s place |     |\n",
    "|----------|----------|----------|----------|-----|\n",
    "| 1        | 1        |0         | 0        | |\n",
    "| 1        | 0        |0         | 1        | |\n",
    "| 0        | 1        |0         | 1        | $\\leftarrow$ ANSWER|\n",
    "\n",
    "Is that right? Let's check. We'll do the XOR operation (12^9) and write our answer in binary (0b0101 and see if they match."
   ]
  },
  {
   "cell_type": "code",
   "execution_count": 4,
   "metadata": {},
   "outputs": [
    {
     "name": "stdout",
     "output_type": "stream",
     "text": [
      "5\n",
      "5\n"
     ]
    }
   ],
   "source": [
    "print(12^9)\n",
    "print(0b0101)"
   ]
  },
  {
   "cell_type": "markdown",
   "metadata": {},
   "source": [
    "They match! So that's how XOR works. Let's learn another operator.\n",
    "\n",
    "### AND &\n",
    "For AND, we write a 1 if **BOTH** columns are 1 and a 0 otherwise.\n",
    "\n",
    "| 8s place | 4s place | 2s place | 1s place |     |\n",
    "|----------|----------|----------|----------|-----|\n",
    "| 1        | 1        |0         | 0        | |\n",
    "| 1        | 0        |0         | 1        | |\n",
    "| 1        | 0        |0         | 0        | $\\leftarrow$ ANSWER|\n",
    "\n",
    "Is that right? Let's again check. We'll do the AND operation (12&9) and write our answer in binary (0b1000) to see if they match."
   ]
  },
  {
   "cell_type": "code",
   "execution_count": 5,
   "metadata": {},
   "outputs": [
    {
     "name": "stdout",
     "output_type": "stream",
     "text": [
      "8\n",
      "8\n"
     ]
    }
   ],
   "source": [
    "print(12&9)\n",
    "print(0b1000)"
   ]
  },
  {
   "cell_type": "markdown",
   "metadata": {},
   "source": [
    "### OR \\|\n",
    "For OR, we write a 1 if **EITHER** columns are 1 and a 0 otherwise.\n",
    "\n",
    "| 8s place | 4s place | 2s place | 1s place |     |\n",
    "|----------|----------|----------|----------|-----|\n",
    "| 1        | 1        |0         | 0        | |\n",
    "| 1        | 0        |0         | 1        | |\n",
    "| 1        | 1        |0         | 1        | $\\leftarrow$ ANSWER|\n",
    "\n",
    "Is that right? Let's check one last time. We'll do the OR operation (12\\|9) and write our answer in binary (0b1101) and see if we get the same answer."
   ]
  },
  {
   "cell_type": "code",
   "execution_count": null,
   "metadata": {},
   "outputs": [],
   "source": [
    "12|9,0b1101"
   ]
  },
  {
   "cell_type": "markdown",
   "metadata": {},
   "source": [
    "So there we go. Three new operators: bitwise XOR ^, bitwise AND &, and bitwise OR \\|. These will come in handly later, so make sure you understand them (especially XOR.)\n",
    "\n",
    "## Truth Tables\n",
    "\n",
    "We can summarize each of these Boolean bitwise operators with a **truth table**. The \"table\" part of that name obviously comes from the fact that they're tables. The \"truth\" part comes from Boolean logic, where 0 is False and 1 is True. The truth table for an operator shows all the possible outputs we can get for all the possible inputs. \n",
    "\n",
    "We write the possible input values for x in the leftmost column. We write the possible input values for y in the topmost row. If we look up the row matching the value of x with the column matching the value of y, we can look up the value of Boolean operator. Here are the truth tables for our three binary operators:\n",
    "\n",
    "### XOR\n",
    "| x \\ y    | 0        | 1        |\n",
    "|----------|----------|----------|\n",
    "| 0        | 0        |1         |\n",
    "| 1        | 1        |0         |\n",
    "\n",
    "### AND\n",
    "| x \\ y    | 0        | 1        |\n",
    "|----------|----------|----------|\n",
    "| 0        | 0        |0         |\n",
    "| 1        | 0        |1         |\n",
    "\n",
    "### OR\n",
    "| x \\ y    | 0        | 1        |\n",
    "|----------|----------|----------|\n",
    "| 0        | 0        |1         |\n",
    "| 1        | 1        |1         |\n",
    "\n",
    "We'll explore these tables and Boolean logic a bit more later."
   ]
  },
  {
   "cell_type": "markdown",
   "metadata": {},
   "source": [
    "## Numbers in Hexidecimal\n",
    "\n",
    "Another common number encoding scheme for computers is hexadecimal (\"hex\" for short) or base 16. How do we get 16 numbers? We steal the first 6 letters of the alphabet. In hex use the symbols $\\Sigma=\\{0, 1, 2, 3, 4, 5, 6, 7, 8, 9, A, B, C, D, E, F\\}$ to represent numbers. For example 3 represents three and F represents fifteen.\n",
    "\n",
    "In hex, each column is a power of 16. Let's take the number BEEF as an example. \n",
    "\n",
    "| $16^3$ | $16^2$ | $16^1$ | $16^0$| \n",
    "| ----- | ---- | --- | - | \n",
    "| B     |  E   | E   | F |\n",
    "\n",
    "The character B is 11, E is 14, and F is 15, so...\n",
    "\n",
    "$11\\times 16^3 + 14 \\times 16^2 + 14 \\times 16^1 + 15 \\times 16^0$."
   ]
  },
  {
   "cell_type": "code",
   "execution_count": null,
   "metadata": {},
   "outputs": [],
   "source": [
    "11*16**3 + 14*16**2 + 14*16**1 + 15*16**0"
   ]
  },
  {
   "cell_type": "markdown",
   "metadata": {},
   "source": [
    "You can input numbers in hex by putting a 0x in front of them, like this:"
   ]
  },
  {
   "cell_type": "code",
   "execution_count": null,
   "metadata": {},
   "outputs": [],
   "source": [
    "0xBEEF"
   ]
  },
  {
   "cell_type": "markdown",
   "metadata": {},
   "source": [
    "In fact, the 0x notation is *very* commonly used to indicate hexadecimal. You'll see it in computer error messages sometimes, and you'll certainly see it again in this course. \n",
    "\n",
    "If you want to convert a decimal number into hexadecimal, you can do so using this built-in function:"
   ]
  },
  {
   "cell_type": "code",
   "execution_count": null,
   "metadata": {},
   "outputs": [],
   "source": [
    "hex(14)"
   ]
  },
  {
   "cell_type": "markdown",
   "metadata": {},
   "source": [
    "## Exercises\n",
    "\n",
    "Now for some more exercises. Again, just do your best to work through them on your own and take a break if you spend more than 10 minutes on a question. If you still can't figure it out after you come back, ask course staff for help."
   ]
  },
  {
   "cell_type": "markdown",
   "metadata": {},
   "source": [
    "1) Write an expression that displays 15 in binary and in hexadecimal."
   ]
  },
  {
   "cell_type": "code",
   "execution_count": null,
   "metadata": {},
   "outputs": [],
   "source": []
  },
  {
   "cell_type": "markdown",
   "metadata": {},
   "source": [
    "2) Write an expression that displays 0xABBA in binary and decimal."
   ]
  },
  {
   "cell_type": "code",
   "execution_count": null,
   "metadata": {},
   "outputs": [],
   "source": []
  },
  {
   "cell_type": "markdown",
   "metadata": {},
   "source": [
    "3) Write an expression that displays binary 1111 1010 1101 1110 in decimal and hexadecimal."
   ]
  },
  {
   "cell_type": "code",
   "execution_count": null,
   "metadata": {},
   "outputs": [],
   "source": []
  },
  {
   "cell_type": "markdown",
   "metadata": {},
   "source": [
    "4) Write an expression to compute 0xCAFE xor 0xBABE and display the result in hex."
   ]
  },
  {
   "cell_type": "code",
   "execution_count": null,
   "metadata": {},
   "outputs": [],
   "source": []
  },
  {
   "cell_type": "markdown",
   "metadata": {},
   "source": [
    "5) Write an expression to compute 0x1111 squared and display the result in hex."
   ]
  },
  {
   "cell_type": "code",
   "execution_count": null,
   "metadata": {},
   "outputs": [],
   "source": []
  },
  {
   "cell_type": "markdown",
   "metadata": {},
   "source": [
    "6) In the normal math operations we're all used to, there are numbers we call *identity elements*. Basically, these are numbers that make an operation do nothing. 0 is the identity element of the addition operation, because $x + 0 = x$. 1 is the identity element of the multiplication operation, because $x \\times 1=x$. What is the identity element of the bitwise XOR operator?"
   ]
  },
  {
   "cell_type": "code",
   "execution_count": null,
   "metadata": {},
   "outputs": [],
   "source": []
  },
  {
   "cell_type": "markdown",
   "metadata": {},
   "source": [
    "7) In the normal math operations we're all used to, numbers also have an *inverse* partner number that gives us back the *identity element*. For addition, that's the negative of the number is its inverse, because $x - x = 0$. For multiplication, it's the reciprocal is its inverse, because $x \\times \\frac{1}{x}=1$. You figured out the identity element of XOR. What is the inverse for XOR? If I have a number x, how do I find its XOR inverse?"
   ]
  },
  {
   "cell_type": "code",
   "execution_count": null,
   "metadata": {},
   "outputs": [],
   "source": []
  },
  {
   "cell_type": "markdown",
   "metadata": {},
   "source": [
    "7) What is the identity element of the bitwise AND operator? NOTE: The exact right answer to this question goes beyond what we've discussed. Consider it a callenge or extra credit."
   ]
  },
  {
   "cell_type": "code",
   "execution_count": null,
   "metadata": {},
   "outputs": [],
   "source": []
  }
 ],
 "metadata": {
  "kernelspec": {
   "display_name": "Python 3",
   "language": "python",
   "name": "python3"
  },
  "language_info": {
   "codemirror_mode": {
    "name": "ipython",
    "version": 3
   },
   "file_extension": ".py",
   "mimetype": "text/x-python",
   "name": "python",
   "nbconvert_exporter": "python",
   "pygments_lexer": "ipython3",
   "version": "3.7.3"
  }
 },
 "nbformat": 4,
 "nbformat_minor": 2
}
