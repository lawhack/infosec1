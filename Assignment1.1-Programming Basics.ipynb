{
 "cells": [
  {
   "cell_type": "markdown",
   "metadata": {},
   "source": [
    "# Programming\n",
    "This is our first Jupyter Notebook. Notebooks are a way to interactively explore computing concepts without installing a lot of software. Basically, they act like a website where you can type in some code and run it. In this particular notebook, we will explore some very basic programming concepts. You'll learn enough Python to treat it like a fancy calculator. Hopefully, you'll also get the hang of Jupyter Notebooks. Let's get started.\n",
    "\n",
    "## Literals\n",
    "Literal represent values meant to be interpreted exactly as they're written. There's nothing profound or fancy going on here. For example, 2 represents the number two. If we input this number, Python outputs that number. While this may not be very exciting, we have to start somewhere.\n",
    "\n",
    "The box below this text is a Jupyter Notebook cell. It's set up to be an interactive Python session. You can type some Python code into it and run then it. To type code in, just click anywhere in the cell and then start typing. When you're done, you can click the \"Run\" button above to see the output. Try typing in the literal 2 and running the program."
   ]
  },
  {
   "cell_type": "code",
   "execution_count": null,
   "metadata": {},
   "outputs": [],
   "source": [
    "2"
   ]
  },
  {
   "cell_type": "markdown",
   "metadata": {},
   "source": [
    "Hopefully, that worked. If it did, your input of 2 should produce an output 2 below it. Feel free to experiment within Jupyter cells. Type in something different and run that instead. Playing around is the best way to learn. If you encounter any difficulties along the way, reach out to me, and I'll do what I can to get you back on track.\n",
    "\n",
    "## Expressions\n",
    "Literals are data, and data doesn't do anything on its own. If we could only use literals in our computer programs, computers would not be very useful. Fortunately, we have ways to manipulate data. **Operators** are symbols like + and - that allow us to interact with data and produce new values. By combining literals and operators, we can create **expressions**. Expressions are combinations of symbols that we can evaluate to produce a value. Expressions look a bit like simple math equations.\n",
    "\n",
    "There are two expressions in the cells below. If you run the two programs (click the cell and then click the \"Run\" button above,) I don't expect the resulting output values will surprise you. Again, don't be afraid to change the code in the cells and see what happens. It's the best way to learn."
   ]
  },
  {
   "cell_type": "code",
   "execution_count": null,
   "metadata": {},
   "outputs": [],
   "source": [
    "2+8"
   ]
  },
  {
   "cell_type": "code",
   "execution_count": null,
   "metadata": {},
   "outputs": [],
   "source": [
    "4-2"
   ]
  },
  {
   "cell_type": "markdown",
   "metadata": {},
   "source": [
    "## Variables and assignment\n",
    "Even if we combine literals and operators into expressions, we can't produce very powerful programs. The programs we've seen so far look like things a simple calculator could manage. We  gain a little more flexibility and power by storing the results of our expressions in **variables**. Variables allow us to give a name to a value and store it in memory. We assign a value to a variable using a special operator called the **assignment operator**, which looks like an equals sign =. Below we have an assignment statement. Running this cell produces no output, because we stored the value in memory."
   ]
  },
  {
   "cell_type": "code",
   "execution_count": null,
   "metadata": {},
   "outputs": [],
   "source": [
    "a=6+2"
   ]
  },
  {
   "cell_type": "markdown",
   "metadata": {},
   "source": [
    "Note that the variable name *always* goes on the left side of the equals sign, and the expression *always* goes on the right side. We stored the value 8 in memory. We can now use it."
   ]
  },
  {
   "cell_type": "code",
   "execution_count": null,
   "metadata": {},
   "outputs": [],
   "source": [
    "a-4"
   ]
  },
  {
   "cell_type": "markdown",
   "metadata": {},
   "source": [
    "Let's come back to that line we wrote above: a=6+2. It's important. That was our first **statement**. A statement is a line of code that changes the state of the computer. After encountering the line a=6+2, the computer must *remember* what the variable stores. A computer **program** is a series of statements. Each statement sets up the computer to process subsequent statements.\n",
    "\n",
    "Here's an example program to figure out how many years it took for people to go from designing the first computer to being able to buy one as a consumer product."
   ]
  },
  {
   "cell_type": "code",
   "execution_count": null,
   "metadata": {},
   "outputs": [],
   "source": [
    "yearAnalyticEngine=1833\n",
    "yearAtari8080=1975\n",
    "yearAtari8080-yearAnalyticEngine"
   ]
  },
  {
   "cell_type": "markdown",
   "metadata": {},
   "source": [
    "Note that the value of the last expression we type is printed whenever we run our program. This is a feature of Jupyter notebooks. There are other ways to produce output, but we'll worry about those a little bit later. Let's focus more on operators for now."
   ]
  },
  {
   "cell_type": "markdown",
   "metadata": {},
   "source": [
    "## Some other operators\n",
    "\n",
    "There are many operators in Python that probably work the way you would expect.\n",
    "\n",
    "|Operator | Name                | Description                     | &nbsp; &nbsp; &nbsp; Equation       |\n",
    "| ------- | ------------------- | ------------------------------- | -------------- |\n",
    "| x + y   | Addition            | Adds x and y                    | $x+y$          |\n",
    "| x - y   | Subtraction         | Subtracts y from x              | $x-y$          |\n",
    "| x * y   | Multiplication      | Multiplies x and y              | $x\\times y$    |\n",
    "| x / y   | Division            | Divides x by y.                 | $\\frac{x}{y}$  |\n",
    "| x\\*\\*y  | Exponentiation      | Multiplies x by itself y times  | $x^y$          |\n",
    "\n",
    "We can combine them into complicated expressions like the one below, which calculates $y=3x^2+3x+4$ when $x=15$. Oh no! It's a quadratic equation! High school algebra is back! Run! Don't be too scared. I'll make sure to review any math you need in this class."
   ]
  },
  {
   "cell_type": "code",
   "execution_count": null,
   "metadata": {},
   "outputs": [],
   "source": [
    "x=15\n",
    "y=3*x**2+3*x+4\n",
    "y"
   ]
  },
  {
   "cell_type": "markdown",
   "metadata": {},
   "source": [
    "Note that we *always* have to include the operators in Python. $3x$ might be shorthand for $3 \\times x$ in math class, but in Python, it's just gibberish. If you run the code below, you'll see an error message. \"invalid syntax\" is how the Python interpreter says \"I have no idea what you're trying to say.\""
   ]
  },
  {
   "cell_type": "code",
   "execution_count": null,
   "metadata": {},
   "outputs": [],
   "source": [
    "3x"
   ]
  },
  {
   "cell_type": "markdown",
   "metadata": {},
   "source": [
    "\n",
    "## Order of Operations\n",
    "\n",
    "Wait a minute. How do we know it's $3x^2$ and not $(3x)^2$? How do we know to multiply after exponentiation? Just like in math class, all the operators we'll learn have an order of precedence. Good news! **I promise to never require you to learn them.** If it's ever unclear, just ask me.\n",
    "\n",
    "Just like in Math class, we can put parentheses around the operations we want to come first. This overrides the order of operations. $(3+2)*4$ is not the same as $3+(2*4)$ in math. They're not the same in Python either."
   ]
  },
  {
   "cell_type": "code",
   "execution_count": null,
   "metadata": {},
   "outputs": [],
   "source": [
    "(3+2)*4"
   ]
  },
  {
   "cell_type": "code",
   "execution_count": null,
   "metadata": {},
   "outputs": [],
   "source": [
    "3+(2*4)"
   ]
  },
  {
   "cell_type": "markdown",
   "metadata": {},
   "source": [
    "If we just use parentheses, we can always be clear about what order of operations we intend. The example below might be ugly and a bit overkill, but it certainly makes the order of operations in our quadratic equation clear. Remember: start with the innermost parentheses and work your way out."
   ]
  },
  {
   "cell_type": "code",
   "execution_count": null,
   "metadata": {},
   "outputs": [],
   "source": [
    "y=(((3*(x**2))+(3*x))+4)\n",
    "y"
   ]
  },
  {
   "cell_type": "markdown",
   "metadata": {},
   "source": [
    "## Functions\n",
    "\n",
    "*Functions* (sometimes called *subprograms* or *subroutines*) are pre-written code that we can use in our program. Later, we will learn to write our own functions, but for now we will take advantage of some built-in Python functions that come premade. To run or **invoke** a function, we use its name followed by matching parentheses. Between the parentheses, we can put the input to the function (called **arguments**.)\n",
    "\n",
    "As an example, the **print** function prints the input to the screen."
   ]
  },
  {
   "cell_type": "code",
   "execution_count": 2,
   "metadata": {},
   "outputs": [
    {
     "name": "stdout",
     "output_type": "stream",
     "text": [
      "1\n",
      "2\n"
     ]
    }
   ],
   "source": [
    "print(1)\n",
    "print(2)"
   ]
  },
  {
   "cell_type": "markdown",
   "metadata": {},
   "source": [
    "Now, we can produce output anytime we like. We can provide multiple arguments to a function by separating them with parenthesis."
   ]
  },
  {
   "cell_type": "code",
   "execution_count": 3,
   "metadata": {},
   "outputs": [
    {
     "name": "stdout",
     "output_type": "stream",
     "text": [
      "1 2 3\n"
     ]
    }
   ],
   "source": [
    "print(1,2,3)"
   ]
  },
  {
   "cell_type": "markdown",
   "metadata": {},
   "source": [
    "There are other built-in functions, like **min** and **max** that find the min and max of their arguments. They **return** a result, meaning invoking these functions produces a value, just like an expression."
   ]
  },
  {
   "cell_type": "code",
   "execution_count": 7,
   "metadata": {},
   "outputs": [
    {
     "name": "stdout",
     "output_type": "stream",
     "text": [
      "5 10\n"
     ]
    }
   ],
   "source": [
    "x=min(5,10,20)\n",
    "y=max(10,3,7)\n",
    "print(x,y)"
   ]
  },
  {
   "cell_type": "markdown",
   "metadata": {},
   "source": [
    "## Modulo\n",
    "\n",
    "There are other operators in Python that you'll probably find less intuitive. Let's explore one of them.\n",
    "\n",
    "|Operator | Name                | Description                         | &nbsp; &nbsp; &nbsp; Equation   \n",
    "| ------- | ------------------- | ----------------------------------- | -------------------- |\n",
    "| x // y  | Integer division    | Divide x by y, but ignore the decimal part | $ \\lfloor\\frac{x}{y}\\rfloor $|\n",
    "| x % y   | Modulo              | The remainder of x divided by y    | $ x\\mod y $|\n",
    "\n",
    "Remember remainders? You might have to think back to primary school. It might seem strange, but modulo is arguably one of the most important operators we'll learn. Make sure you have a good intuition for how it works. There's an example in the cell below using $\\frac{23}{8}$:"
   ]
  },
  {
   "cell_type": "code",
   "execution_count": 22,
   "metadata": {},
   "outputs": [
    {
     "name": "stdout",
     "output_type": "stream",
     "text": [
      "2.875 2 7\n"
     ]
    }
   ],
   "source": [
    "a=23/8\n",
    "b=23//8\n",
    "c=23%8\n",
    "print(a,b,c)"
   ]
  },
  {
   "cell_type": "markdown",
   "metadata": {},
   "source": [
    "If we did long division of $\\frac{23}{8}$ by hand or with a calculator, we'd get 2.875. If we instead we think back to the tricks we learned about fractions, we'd remember $\\frac{23}{8}=\\frac{8}{8}+\\frac{8}{8}+\\frac{7}{8}=2+\\frac{7}{8}$, or 2 remainder 7."
   ]
  },
  {
   "cell_type": "markdown",
   "metadata": {},
   "source": [
    "## Exercises\n",
    "Okay. Here we go. Your first programming exercises. Do your best to work through these on your own. If you find yourself puzzling over any question for more than 10 minutes, take a break and come back to it later. If you still can't figure it out, ask course staff for help."
   ]
  },
  {
   "cell_type": "markdown",
   "metadata": {},
   "source": [
    "1) Write an expression that sums all the prime numbers between 1 and 20."
   ]
  },
  {
   "cell_type": "code",
   "execution_count": null,
   "metadata": {},
   "outputs": [],
   "source": []
  },
  {
   "cell_type": "markdown",
   "metadata": {},
   "source": [
    "2) Write an expression to compute the area of a circle with radius 4.2. Remember that the equation for the area of a circle is $\\pi r^2$ and $\\pi \\approx 3.14159$."
   ]
  },
  {
   "cell_type": "code",
   "execution_count": null,
   "metadata": {},
   "outputs": [],
   "source": [
    "r=4.2\n",
    "pi=3.14159"
   ]
  },
  {
   "cell_type": "markdown",
   "metadata": {},
   "source": [
    "3) Write an expression to figure out if the number 7,810,124 is divisible by 9."
   ]
  },
  {
   "cell_type": "code",
   "execution_count": null,
   "metadata": {},
   "outputs": [],
   "source": []
  },
  {
   "cell_type": "markdown",
   "metadata": {},
   "source": [
    "4) If I start waiting at exactly noon for 2,295,331 minutes, what number will the minute hand point to? Write a Python expression to figure this out."
   ]
  },
  {
   "cell_type": "code",
   "execution_count": null,
   "metadata": {},
   "outputs": [],
   "source": []
  },
  {
   "cell_type": "markdown",
   "metadata": {},
   "source": [
    "5) It's Sunday. What day will it be in 38,292 days? Write a Python expression to figure this out."
   ]
  },
  {
   "cell_type": "code",
   "execution_count": null,
   "metadata": {},
   "outputs": [],
   "source": []
  },
  {
   "cell_type": "markdown",
   "metadata": {},
   "source": [
    "6) Compute the value of ${(\\frac{16}{7}})^{9}+(4-\\frac{3}{2})$ and store the result in a variable named *myAnswer*."
   ]
  },
  {
   "cell_type": "code",
   "execution_count": null,
   "metadata": {},
   "outputs": [],
   "source": []
  },
  {
   "cell_type": "markdown",
   "metadata": {},
   "source": [
    "7) Write an expression to find the largest remainder we get when dividing the numbers from 126 to 130 by 13."
   ]
  },
  {
   "cell_type": "code",
   "execution_count": null,
   "metadata": {},
   "outputs": [],
   "source": []
  }
 ],
 "metadata": {
  "kernelspec": {
   "display_name": "Python 3",
   "language": "python",
   "name": "python3"
  },
  "language_info": {
   "codemirror_mode": {
    "name": "ipython",
    "version": 3
   },
   "file_extension": ".py",
   "mimetype": "text/x-python",
   "name": "python",
   "nbconvert_exporter": "python",
   "pygments_lexer": "ipython3",
   "version": "3.7.3"
  }
 },
 "nbformat": 4,
 "nbformat_minor": 2
}
