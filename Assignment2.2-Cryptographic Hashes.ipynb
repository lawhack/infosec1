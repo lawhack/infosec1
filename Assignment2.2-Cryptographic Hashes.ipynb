{
 "cells": [
  {
   "cell_type": "markdown",
   "metadata": {},
   "source": [
    "# Cryptographic Hashes"
   ]
  },
  {
   "cell_type": "markdown",
   "metadata": {},
   "source": [
    "Finally! We're ready to start talking about infosec! We're going to start by learning about cryptographic hash functions.\n",
    "\n",
    "## Hash function\n",
    "\n",
    "A hash function is a function that maps an input string of arbitrary length to a binary string of fixed length. So a hash function takes just one input argument. We can think of the output as just a binary number. When we input a string, the function returns a number. If we input in the same string again, we get the identical number out. Hashing different strings may or may not result in the same number, but the length of the output will always be the same.\n",
    "\n",
    "Let's look at an example hash function I call \"badHash\". The input is a string, and the output is an 8-bit number. We'll represent the output in hex, so it'll be two hex digits long. The function takes the XOR of all of the characters in the input string to produce its output."
   ]
  },
  {
   "cell_type": "code",
   "execution_count": 12,
   "metadata": {},
   "outputs": [],
   "source": [
    "def badHash(inputString):\n",
    "    hashOutput=0\n",
    "    for character in inputString:\n",
    "        hashOutput=hashOutput^ord(character)\n",
    "    return hashOutput"
   ]
  },
  {
   "cell_type": "code",
   "execution_count": 10,
   "metadata": {},
   "outputs": [
    {
     "name": "stdout",
     "output_type": "stream",
     "text": [
      "0x42\n",
      "0x76\n"
     ]
    }
   ],
   "source": [
    "print(hex(badHash(\"HELLO\")))\n",
    "print(hex(badHash(\"cat\")))"
   ]
  },
  {
   "cell_type": "markdown",
   "metadata": {},
   "source": [
    "## Possible outputs\n",
    "\n",
    "badHash produces 8-bits of output. How many distinct output values are possible? In other words, how many distinct binary strings are there of length 8? Let's try to figure this out by starting small. For a binary string of length 1, we have 2 possibilities \"0\" and \"1\". For a binary string of length 2, we have 4 possibilities \"00\", \"01\", \"10\", and \"11\". For a binary string of length 3, we have 8 possibilities \"000\", \"001\", \"010\", \"011\", \"100\", \"101\", \"110\", \"111\". This is going to take too long. Let's try to generalize!\n",
    "\n",
    "Whenever we add a new bit, the new bit can either be \"0\" or \"1\". If the new bit is \"0\", the remaining bits have the old number of variations. If the new bit is \"1\", the remaining bits also have the old number of variations. Each time we add a new bit, we double the number of variations.\n",
    "\n",
    "In other words, for a binary string of length $n$, there are $2^n$ possible values. For 8-bits, that's $2^8=256$"
   ]
  },
  {
   "cell_type": "code",
   "execution_count": 5,
   "metadata": {},
   "outputs": [
    {
     "data": {
      "text/plain": [
       "256"
      ]
     },
     "execution_count": 5,
     "metadata": {},
     "output_type": "execute_result"
    }
   ],
   "source": [
    "2**8"
   ]
  },
  {
   "cell_type": "markdown",
   "metadata": {},
   "source": [
    "## Collisions\n",
    "\n",
    "When two strings have the same hash output, we call this a **collision**. Below, we have an example of a hash collision. These two strings produce the same hash output."
   ]
  },
  {
   "cell_type": "code",
   "execution_count": 13,
   "metadata": {},
   "outputs": [
    {
     "name": "stdout",
     "output_type": "stream",
     "text": [
      "0x42\n",
      "0x42\n"
     ]
    }
   ],
   "source": [
    "print(hex(badHash(\"HELLO\")))\n",
    "print(hex(badHash(\"LISTEN SILENT HELLO\")))"
   ]
  },
  {
   "cell_type": "markdown",
   "metadata": {},
   "source": [
    "From the very definition of a hash function, collisions can always happen. We said we can input any string. Well, there are infinitely many different strings. The output of a hash function, however, is always a fixed-length. A fix-length string of n bits only has $2^n$ different possibilities. No matter how big $n$ is, that number is still finite, and an infinite number is *definitely* bigger than a finite number.\n",
    "\n",
    "Infinite inputs. Finite outputs. Clearly some inputs will share the same output. Hash collisions are inevitable."
   ]
  },
  {
   "cell_type": "markdown",
   "metadata": {},
   "source": [
    "## Cryptographic Hash Functions\n",
    "\n",
    "Cryptographic hash functions are hash functions engineered to have three special properties, and badHash has none of them. We're going to learn about the three properties by attacking badHash. Welcome to the adversarial mindset!"
   ]
  },
  {
   "cell_type": "markdown",
   "metadata": {},
   "source": [
    "### Property 1: Preimage resistance\n",
    "\n",
    "An attacker should not be able to find an input that produces a given hash output. In other words, we want our hash function to be a one-way function. Looking at the output shouldn't tell an attacker anything about the input. Without the input string, the output should just look like a random number.\n",
    "\n",
    "Let's attack badHash. We want to find a string that will produce a desired output when we feed it into badHash. This turns out to be very simple. All we need to do is find the unicode character whose binary encoding matches the desired output. We feed that character in by itself. Since we don't have any other characters in our input string, it doesn't get XORed with anything. The badHash output is just the Unicode for our input character.\n",
    "\n",
    "Here's a function to perform a preimage attack against badHash. It automatically finds a string with the desired hash output."
   ]
  },
  {
   "cell_type": "code",
   "execution_count": 33,
   "metadata": {},
   "outputs": [
    {
     "name": "stdout",
     "output_type": "stream",
     "text": [
      "}\n",
      "125\n"
     ]
    }
   ],
   "source": [
    "def preimage(n):\n",
    "    return chr(n)\n",
    "\n",
    "desired=125\n",
    "x=preimage(desired)\n",
    "print(x)\n",
    "print(badHash(x))"
   ]
  },
  {
   "cell_type": "markdown",
   "metadata": {},
   "source": [
    "Even if we didn't have access to the Unicode table or the chr built-in function, there are only $2^8=256$ possible outputs. That's a very small number of possible outputs. We could just guess input strings until we find one that has the desired hash output. This is called a **brute force attack**. Here's a brute force attack to find a string that not only has the desired hash output, but also starts with a specific message."
   ]
  },
  {
   "cell_type": "code",
   "execution_count": 34,
   "metadata": {},
   "outputs": [
    {
     "name": "stdout",
     "output_type": "stream",
     "text": [
      "Honestly at this point we're just showing off.±\n",
      "200\n"
     ]
    }
   ],
   "source": [
    "def preimage2(n):\n",
    "    guess=0\n",
    "    message=\"Honestly at this point we're just showing off.\"\n",
    "    while(badHash(message+chr(guess))!=n):\n",
    "        guess+=1\n",
    "    return message+chr(guess)\n",
    "    \n",
    "desired=200\n",
    "x=preimage2(desired)\n",
    "print(x)\n",
    "print(badHash(x))"
   ]
  },
  {
   "cell_type": "markdown",
   "metadata": {},
   "source": [
    "### Property 2: Second preimage resistance\n",
    "\n",
    "Nobody should be able to find a pair of inputs that produce the same hash output. "
   ]
  },
  {
   "cell_type": "markdown",
   "metadata": {},
   "source": [
    "### Property 3: Collision resistance\n",
    "\n",
    "We don't want collisions to happen."
   ]
  },
  {
   "cell_type": "markdown",
   "metadata": {},
   "source": [
    "## Helpful Intuition\n",
    "\n",
    "If you find yourself confused about all this, here's an intuition that helps me. Cryptographic hashes are an attempt to create a unique serial number for every possible binary string humanity will ever generate."
   ]
  },
  {
   "cell_type": "markdown",
   "metadata": {},
   "source": [
    "## Confusion and diffusion\n",
    "\n",
    "A couple properties that will help understand how good cryptographic hashes work are confusion and diffusion"
   ]
  },
  {
   "cell_type": "markdown",
   "metadata": {},
   "source": [
    "## Avalanche Effect"
   ]
  },
  {
   "cell_type": "code",
   "execution_count": null,
   "metadata": {},
   "outputs": [],
   "source": []
  }
 ],
 "metadata": {
  "kernelspec": {
   "display_name": "Python 3",
   "language": "python",
   "name": "python3"
  },
  "language_info": {
   "codemirror_mode": {
    "name": "ipython",
    "version": 3
   },
   "file_extension": ".py",
   "mimetype": "text/x-python",
   "name": "python",
   "nbconvert_exporter": "python",
   "pygments_lexer": "ipython3",
   "version": "3.7.3"
  }
 },
 "nbformat": 4,
 "nbformat_minor": 2
}
