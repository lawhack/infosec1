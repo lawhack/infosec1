{
 "cells": [
  {
   "cell_type": "markdown",
   "metadata": {},
   "source": [
    "# Math Primer\n",
    "\n",
    "Public key cryptography is unbelievable technology. I mean that literally. It's so counter-intuitive, people just can't believe it could possible work. That's why we're going to spend some time learning a bit of the underlying mathematics. On some level, I hope you'll gain an intuition and appreciation for how it works.\n",
    "\n",
    "That means we're going to need to do a little math. Don't worry. I'll try to make it as intuitive as possible. You're welcome to ask if you have any questions. We're going to go over the basics first in this notebook."
   ]
  },
  {
   "cell_type": "markdown",
   "metadata": {},
   "source": [
    "## Factoring\n",
    "\n",
    "In grade school, you learned how to factor numbers. For a number n, factors are numbers that evenly divide n. The factors of 6 are 1, 2, 3, and 6. You probably also learned that a number can be decomposed into a unique prime factorization. This is known as the Fundamental Theorem of Arithmetic. Prime numbers are like ingredients we can combine together to cook up all the other numbers (composite numbers.) The prime factorization of 20, for example, is $2^2*5$.\n",
    "\n",
    "Building a number from its prime factors is easy. Multiplication of two numbers is relatively straightforward. You learned how to multiply two numbers together when you were very young. Though it would be tedious, you could multiply large numbers together. For numbers with n digits, the multiplication algorithm you learned in elementary school takes about $n^2$ steps. Computer scientists know even faster multiplication algorithms, so a computer can multiply together extremely large numbers very quickly. Here are two prime numbers multiplied together."
   ]
  },
  {
   "cell_type": "code",
   "execution_count": null,
   "metadata": {},
   "outputs": [],
   "source": [
    "104123*102013"
   ]
  },
  {
   "cell_type": "markdown",
   "metadata": {},
   "source": [
    "Is it fast? Let's compute how long it takes to do this multiplication 1000 times."
   ]
  },
  {
   "cell_type": "code",
   "execution_count": null,
   "metadata": {},
   "outputs": [],
   "source": [
    "import timeit\n",
    "startTime=timeit.default_timer()\n",
    "for i in range(1000):\n",
    "    104123*102013\n",
    "endTime=timeit.default_timer()\n",
    "print((endTime-startTime),\"seconds\")"
   ]
  },
  {
   "cell_type": "markdown",
   "metadata": {},
   "source": [
    "That's pretty fast. But what about going the other way? What about undoing the multiplication to find the prime factors of a number?\n",
    "\n",
    "You might have learned how to factor a number into its prime decomposition. What you probably didn't learn is that the process of factoring a number is actually somewhat mysterious. We believe it requires substantially more steps than multiplication. Here is a Python library that implements a very fast factoring algorithm."
   ]
  },
  {
   "cell_type": "code",
   "execution_count": null,
   "metadata": {},
   "outputs": [],
   "source": [
    "from sympy import ntheory\n",
    "ntheory.factorint(10621899599)"
   ]
  },
  {
   "cell_type": "markdown",
   "metadata": {},
   "source": [
    "As you can see, the factorint function just undid the multiplication we performed earlier. Let's see how long it takes to factor this number 1000 times."
   ]
  },
  {
   "cell_type": "code",
   "execution_count": null,
   "metadata": {},
   "outputs": [],
   "source": [
    "from sympy import ntheory\n",
    "\n",
    "import timeit\n",
    "startTime=timeit.default_timer()\n",
    "for i in range(1000):\n",
    "    ntheory.factorint(10621899599)\n",
    "endTime=timeit.default_timer()\n",
    "print(endTime-startTime,\"seconds\")"
   ]
  },
  {
   "cell_type": "markdown",
   "metadata": {},
   "source": [
    "As you can see, it takes much more time to factor the number than it did to multiply the number. This is a key concept. It's easy to go one way, but difficult to go the other way.\n",
    "\n",
    "As noted earlier, we **believe** it takes longer to factor a number. We don't **know** it takes longer. Nobody has ever been able to prove it. Someone could discover a factoring algorithm tomorrow that makes factoring as easy as multiplication. It seems doubtful, though. People have been trying for hundreds of years with no success."
   ]
  },
  {
   "cell_type": "markdown",
   "metadata": {},
   "source": [
    "## Greatest Common Divisor\n",
    "\n",
    "The greatest common divisor between two numbers (GCD) is largest integer that divides both numbers. You probably learned about GCDs when you were taught to simplify fractions. Let's look at an example to remember how it works. 15 has factors 1, 3, 5, and 15. 12 has factors 1, 2, 3, 4, 6, and 12. The GCD of 15 and 12 is 3, since it's the largest number that both 15 and 12.\n",
    "\n",
    "The Python math library can find the GCD for us."
   ]
  },
  {
   "cell_type": "code",
   "execution_count": null,
   "metadata": {},
   "outputs": [],
   "source": [
    "import math\n",
    "math.gcd(15,12)"
   ]
  },
  {
   "cell_type": "markdown",
   "metadata": {},
   "source": [
    "We discussed earlier that multiplication is easy, and that factoring seems hard. What about finding the GCD? Do you think it's easy or difficult?\n",
    "\n",
    "It's easy. There's a famous efficient algorithm known as the Euclidean Algorithm that's been around for thousands of years. You might even know it. If not, don't worry. I won't make you learn it. Python can do the math for us.\n",
    "\n",
    "An important definition related to the GCD before we continue. Two numbers are said to be **relatively prime** if their GCD is 1. For example, 25 and 9 are relatively prime. In other words, these numbers share no common factors. We'll use this concept later, so don't forget it."
   ]
  },
  {
   "cell_type": "code",
   "execution_count": null,
   "metadata": {},
   "outputs": [],
   "source": [
    "import math\n",
    "math.gcd(25,9)"
   ]
  },
  {
   "cell_type": "markdown",
   "metadata": {},
   "source": [
    "## Modular Multiplicative Inverse\n",
    "The inverse of a number $x$ is $\\frac{1}{x}$. If you want to \"reverse\" multiplying by a number, you can divide by it. In words, a number mutiplied by its multiplicative inverse is 1. In equations, $x\\times\\frac{1}{x}=1$.\n",
    "\n",
    "Numbers can also have a multiplicative inverse in modular arithmetic. We want to know what number to multiply by to get 1 modulo n. Say the modulo we're interested is 31, and we want to know the multiplicative inverse of 9 modulo 31. We're trying to solve this equation for x $9x\\equiv1 \\bmod 31$. What other number can we multiply 9 by to get 1 mod 31?\n",
    "\n",
    "We can find the solution through trial and error if the numbers are small enough. Since the modular base is 31, we can just guess every number between 0 and 31."
   ]
  },
  {
   "cell_type": "code",
   "execution_count": null,
   "metadata": {},
   "outputs": [],
   "source": [
    "for i in range(1,31):\n",
    "    if (9*i)%31 == 1:\n",
    "        print(i)"
   ]
  },
  {
   "cell_type": "markdown",
   "metadata": {},
   "source": [
    "According to our result, 7 is the multiplicative inverse of 9 mod 31."
   ]
  },
  {
   "cell_type": "code",
   "execution_count": null,
   "metadata": {},
   "outputs": [],
   "source": [
    "(9*7)%31"
   ]
  },
  {
   "cell_type": "markdown",
   "metadata": {},
   "source": [
    "Now we know 9 and 7 are multiplicative inverses, but only for mod 31. Our answer might change if we use a different modulo. For example, if we switch to mod 37, 9 and 33 are multiplicative inverses and 7 and 16 are multiplicative inverses.\n",
    "\n",
    "For bigger numbers, guessing every possible solution would take too long. Fortunately, the Euclidean Algorithm mentioned earlier can be extended to find the multiplicative inverse of a number. I won't make you learn that either. We'll again import a Python library to do the work for us."
   ]
  },
  {
   "cell_type": "code",
   "execution_count": null,
   "metadata": {},
   "outputs": [],
   "source": [
    "import gmpy2\n",
    "int(gmpy2.invert(9,31))"
   ]
  },
  {
   "cell_type": "markdown",
   "metadata": {},
   "source": [
    "## Euler's Totient Function\n",
    "The mathematician Euler invented a math function we write as $\\phi(n)$. This function counts all of the numbers less than $n$ that are relatively prime to $n$. In other words, how many numbers between $1$ and $n$ share no factors with $n$. It turns out this strange little function is very important.\n",
    "\n",
    "To get a better handle on the concept, let's write a Python program to compute $\\phi(24)$. We'll loop through all of the numbers less than 24 and check to see if the gcd is 1. If so, we'll update our count."
   ]
  },
  {
   "cell_type": "code",
   "execution_count": null,
   "metadata": {},
   "outputs": [],
   "source": [
    "import math\n",
    "n=24\n",
    "phi=0\n",
    "for i in range(1,n):\n",
    "    print(\"i:\",i,\"gcd:\",math.gcd(i,n))\n",
    "    if math.gcd(i,n)==1:\n",
    "        phi+=1\n",
    "print(\"The totient function of\",n,\"is\",phi)"
   ]
  },
  {
   "cell_type": "markdown",
   "metadata": {},
   "source": [
    "Hopefully, that clarifies the concept a bit. There are 8 numbers relatively prime to 24: 1, 5, 7, 11, 13, 17, 19, and 23.\n",
    "\n",
    "We can also import a library to efficiently compute $\\phi(n)$ for us."
   ]
  },
  {
   "cell_type": "code",
   "execution_count": null,
   "metadata": {},
   "outputs": [],
   "source": [
    "from sympy import ntheory\n",
    "ntheory.totient(24)"
   ]
  },
  {
   "cell_type": "markdown",
   "metadata": {},
   "source": [
    "A useful fact. If n is prime, then $\\phi(n)=n-1$. By definition, a prime number has no factors. That means its gcd with all the numbers less than it are 1. How many numbers are less than $n$? $n-1$."
   ]
  },
  {
   "cell_type": "code",
   "execution_count": null,
   "metadata": {},
   "outputs": [],
   "source": [
    "ntheory.totient(19)"
   ]
  },
  {
   "cell_type": "markdown",
   "metadata": {},
   "source": [
    "## Euler's Theorem\n",
    "\n",
    "Euler's Theorem is a famous result in number theory. Proving it is complicated, and it's not a very intuitive concept. We will just treat it as a fact, the same way you treated the quadratic formula as a fact. \n",
    "\n",
    "Here's Euler's Theorem, stated in all its glory:\n",
    "\n",
    "If two numbers $a$ and $n$ are relatively prime (i.e. $gcd(a,n)=1$), then $a^{\\phi(n)}\\equiv 1 \\bmod n$.\n",
    "\n",
    "Let's just pick two numbers and see how it works. Let's say $a=15$ and $n=427$. First, we'll make sure they're relatively prime. Then, we'll compute $15^{\\phi(427)} \\bmod 427$. If Euler is right, the result should be 1."
   ]
  },
  {
   "cell_type": "code",
   "execution_count": null,
   "metadata": {},
   "outputs": [],
   "source": [
    "a=15\n",
    "n=427\n",
    "\n",
    "print(\"GCD is \",math.gcd(a,n))\n",
    "\n",
    "print(\"Result of equation is: \",a**ntheory.totient(n)%n)"
   ]
  },
  {
   "cell_type": "markdown",
   "metadata": {},
   "source": [
    "Well look at that. Euler was right. "
   ]
  },
  {
   "cell_type": "markdown",
   "metadata": {},
   "source": [
    "## Discrete Logarithm"
   ]
  },
  {
   "cell_type": "markdown",
   "metadata": {},
   "source": [
    "The logarithm is the inverse of exponentiation. If $b^y=x$, then $\\log_b(x)=y$. For example, $10^4=10,000$, so $\\log_{10}10,000=4$."
   ]
  },
  {
   "cell_type": "code",
   "execution_count": null,
   "metadata": {},
   "outputs": [],
   "source": [
    "import math\n",
    "print(10**4)\n",
    "print(math.log(10000,10))"
   ]
  },
  {
   "cell_type": "markdown",
   "metadata": {},
   "source": [
    "There is a similar concept in modular arithmetic. Given $a$, $g$, and $n$, we want to solve this equation for $x$: $a\\equiv g^{x}\\bmod n$. For example, maybe we want to find $x$ such that $9\\equiv 2^x \\bmod 19$.\n",
    "\n",
    "How do we find $x$? The simplest way would be to guess and check. Let's plug in all the numbers between 1 and 19 and see which one results in 9."
   ]
  },
  {
   "cell_type": "code",
   "execution_count": null,
   "metadata": {},
   "outputs": [],
   "source": [
    "for i in range(1,19):\n",
    "    print(i,(2**i)%19)"
   ]
  },
  {
   "cell_type": "markdown",
   "metadata": {},
   "source": [
    "It looks like the answer is 8. $2^8 \\equiv 9 \\bmod 19$.\n",
    "\n",
    "One brief technicality before we get to the exercises. The discrete log only works properly if $a$, $n$, and $g$ are specially chosen. If not, there might not be a solution. You can assume I'm being careful to choose numbers that work."
   ]
  },
  {
   "cell_type": "markdown",
   "metadata": {},
   "source": [
    "## Exercises\n",
    "Below, you'll find the exercises for this section. Don't forget that you can (and should!) make use of the libraries we used above. If you have any difficulties, don't forget to take breaks and ask questions."
   ]
  },
  {
   "cell_type": "markdown",
   "metadata": {},
   "source": [
    "1) What is the prime factorization of 3590987482823894196083649330108242777592064?"
   ]
  },
  {
   "cell_type": "code",
   "execution_count": null,
   "metadata": {},
   "outputs": [],
   "source": [
    "n=3590987482823894196083649330108242777592064"
   ]
  },
  {
   "cell_type": "markdown",
   "metadata": {},
   "source": [
    "2) What is the greatest common divisor of 1365701 and 20773031?"
   ]
  },
  {
   "cell_type": "code",
   "execution_count": null,
   "metadata": {},
   "outputs": [],
   "source": [
    "a=1365701\n",
    "b=20773031"
   ]
  },
  {
   "cell_type": "markdown",
   "metadata": {},
   "source": [
    "3) What is the multiplicative inverse of 3109 modulo 67801?"
   ]
  },
  {
   "cell_type": "code",
   "execution_count": null,
   "metadata": {},
   "outputs": [],
   "source": [
    "a=3109\n",
    "m=67801"
   ]
  },
  {
   "cell_type": "markdown",
   "metadata": {},
   "source": [
    "4) Without using Python, compute $\\phi(23)$."
   ]
  },
  {
   "cell_type": "markdown",
   "metadata": {},
   "source": [
    "5) Using Python, compute $\\phi(4165615602567070652790521514038969014184416660593860649)$."
   ]
  },
  {
   "cell_type": "code",
   "execution_count": null,
   "metadata": {},
   "outputs": [],
   "source": [
    "n=4165615602567070652790521514038969014184416660593860649"
   ]
  },
  {
   "cell_type": "markdown",
   "metadata": {},
   "source": [
    "6) Without using Python, compute $7^{22} \\bmod 23$."
   ]
  },
  {
   "cell_type": "markdown",
   "metadata": {},
   "source": [
    "7) What is the discrete log base 5 of 18 mod 23? In other words, solve this equation for $x$: $18\\equiv 5^x \\bmod 23$."
   ]
  },
  {
   "cell_type": "code",
   "execution_count": null,
   "metadata": {},
   "outputs": [],
   "source": [
    "g=5\n",
    "m=23\n",
    "a=18"
   ]
  }
 ],
 "metadata": {
  "kernelspec": {
   "display_name": "Python 3",
   "language": "python",
   "name": "python3"
  },
  "language_info": {
   "codemirror_mode": {
    "name": "ipython",
    "version": 3
   },
   "file_extension": ".py",
   "mimetype": "text/x-python",
   "name": "python",
   "nbconvert_exporter": "python",
   "pygments_lexer": "ipython3",
   "version": "3.7.3"
  }
 },
 "nbformat": 4,
 "nbformat_minor": 2
}
