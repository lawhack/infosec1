{
 "cells": [
  {
   "cell_type": "markdown",
   "metadata": {},
   "source": [
    "## Bolean Type\n",
    "\n",
    "We're about to learn one of the simplest types in Python. The **Boolean** type is used for representing basic logic. It has only two values. The literals are: True and False. Make sure you don't forget the capital letters. They're essential!"
   ]
  },
  {
   "cell_type": "code",
   "execution_count": null,
   "metadata": {},
   "outputs": [],
   "source": [
    "a=True\n",
    "b=False\n",
    "print(a,b)"
   ]
  },
  {
   "cell_type": "markdown",
   "metadata": {},
   "source": [
    "## Logical Boolean Operators\n",
    "\n",
    "There are three Boolean operators. They're written in lower case English with no special formatting, which can be a little confusing. They are: **and**, **or**, and **not**. The first two work like the bitwise operators we learned earlier, so we can make truth tables for them.\n",
    "\n",
    "| and   | True  | False |   \n",
    "|-------|-------|-------|\n",
    "| True  | True  | False |  \n",
    "| False | False | False | \n",
    "\n",
    "| or    | True  | False |\n",
    "|-------|-------|-------|\n",
    "| True  | True  | True  |\n",
    "| False | True  | False | \n",
    "\n",
    "They work like this:"
   ]
  },
  {
   "cell_type": "code",
   "execution_count": null,
   "metadata": {},
   "outputs": [],
   "source": [
    "a=True or False\n",
    "b=True and False\n",
    "c=(True and True) or False\n",
    "print(a,b,c)"
   ]
  },
  {
   "cell_type": "markdown",
   "metadata": {},
   "source": [
    "The not operator is operates on just one value. Its truth table is very simple.\n",
    "\n",
    "| x       | not x  |\n",
    "|---------|--------|\n",
    "| False   | True   |\n",
    "| True    | False  |\n",
    "\n",
    "Not turns True into False and False into True. That's all there is to it. If you read it out loud, the English makes intuitive sense. Something that's \"not true\" is false. Something that's \"not false\" is true."
   ]
  },
  {
   "cell_type": "code",
   "execution_count": null,
   "metadata": {},
   "outputs": [],
   "source": [
    "not True"
   ]
  },
  {
   "cell_type": "markdown",
   "metadata": {},
   "source": [
    "## Comparison Operators\n",
    "\n",
    "There are operators we can use on other types to produce Boolean results. Basically, we can use them to answer yes or no questions about values. Is 15 less than 5?"
   ]
  },
  {
   "cell_type": "code",
   "execution_count": null,
   "metadata": {},
   "outputs": [],
   "source": [
    "15<5"
   ]
  },
  {
   "cell_type": "markdown",
   "metadata": {},
   "source": [
    "False. No. 15 is not less than 5. Python answered a very simple question for us.\n",
    "\n",
    "Here is a table of all of the comparison operators.\n",
    "\n",
    "| Operator | Meaning                  |\n",
    "| ---------| -------------------------|\n",
    "| <        | Less than                |\n",
    "| >        | Greater than             |\n",
    "| <=       | Less than or equal to    |\n",
    "| >=       | Greater than or equal to |\n",
    "| ==       | Equal to                 |\n",
    "| !=       | Not equal to             |\n",
    "\n",
    "We can use these to answer all kinds of questions we might have."
   ]
  },
  {
   "cell_type": "code",
   "execution_count": null,
   "metadata": {},
   "outputs": [],
   "source": [
    "(2**8)%17 == (2**9)%17"
   ]
  },
  {
   "cell_type": "markdown",
   "metadata": {},
   "source": [
    "If you were curious, $2^8$ and $2^9$ have different remainders when divided by 17. You can use this exciting fact to strike up an interesting conversation with your friends."
   ]
  },
  {
   "cell_type": "markdown",
   "metadata": {},
   "source": [
    "## Conditional Execution\n",
    "\n",
    "All this might seem a little trivial so far, but we're about to learn the core concept that makes computers so darn useful. They can make descisions. Based on a Boolean value, we can choose to execute a block of code or to skip it. The construct we use to do this is called an **if statement**.\n",
    "\n",
    "To make an if statement in Python, we just need the keyword \"if\" followed by an expression that produces a Boolean value and then a block of code. If the Boolean expression evaluates to the value True, we execute the block. If it evaluates to the value False, we skip the block."
   ]
  },
  {
   "cell_type": "code",
   "execution_count": null,
   "metadata": {},
   "outputs": [],
   "source": [
    "if True:\n",
    "    print(\"True!\")\n",
    "if False:\n",
    "    print(\"False!\")"
   ]
  },
  {
   "cell_type": "markdown",
   "metadata": {},
   "source": [
    "We only executed the block containing the \"True!\" print statement. We skipped the block containing the \"False!\" print statement. \n",
    "\n",
    "We could use this to answer more useful questions. For example, is 15 less than 20?"
   ]
  },
  {
   "cell_type": "code",
   "execution_count": null,
   "metadata": {},
   "outputs": [],
   "source": [
    "if 15<20:\n",
    "    print(\"Yes. Fifteen is less than twenty.\")"
   ]
  },
  {
   "cell_type": "markdown",
   "metadata": {},
   "source": [
    "Let's find all the numbers between 1 and 1,000 that are divisible by 52. Why? Why not!\n",
    "\n",
    "We set up a loop to iterate through the appropriate range. Within the loop, we use a conditional (if statement) to make a decision. We will only execute the print statement if the Boolean expression i%52==0 is True. That statement means i has no remainder when divided by 52, which is the same as saying it's divisible by 52."
   ]
  },
  {
   "cell_type": "code",
   "execution_count": null,
   "metadata": {},
   "outputs": [],
   "source": [
    "for i in range(1,1001):\n",
    "    if i%52 == 0:\n",
    "        print(i)"
   ]
  },
  {
   "cell_type": "markdown",
   "metadata": {},
   "source": [
    "There are 19 numbers between 1 and 1,000 that are divisible by 52. More exciting information you can use to impress people at parties!"
   ]
  },
  {
   "cell_type": "markdown",
   "metadata": {},
   "source": [
    "What if, for some weird reason, we wanted to find numbers between 0 and 1,000 whose binary representation is a palindrome? Why? Because it's a challenge!\n",
    "\n",
    "Let's break this problem down. What is a palindrome? A word (string) that reads the same way forward and backward (e.g. \"racecar\", \"madam\", and \"deified\".) We need to figure out how to reverse a string. Remember string slicing? Turns out we can use a fancy version to reverse a string. It looks like this:"
   ]
  },
  {
   "cell_type": "code",
   "execution_count": null,
   "metadata": {},
   "outputs": [],
   "source": [
    "s=\"Hello, friend!\"\n",
    "s[::-1]"
   ]
  },
  {
   "cell_type": "markdown",
   "metadata": {},
   "source": [
    "Now let's write a conditional that only prints a string if it's a palindrome. If the string s is equal to its reverse, print it."
   ]
  },
  {
   "cell_type": "code",
   "execution_count": null,
   "metadata": {},
   "outputs": [],
   "source": [
    "s=\"racecar\"\n",
    "if s==s[::-1]:\n",
    "    print(s)"
   ]
  },
  {
   "cell_type": "markdown",
   "metadata": {},
   "source": [
    "Now let's loop through all the numbers between 1 and 1000. We'll convert them into binary strings with the bin built-in function we learned earlier."
   ]
  },
  {
   "cell_type": "code",
   "execution_count": null,
   "metadata": {},
   "outputs": [],
   "source": [
    "bin(15)"
   ]
  },
  {
   "cell_type": "markdown",
   "metadata": {},
   "source": [
    "Wait. We'll need to slice off that first 0b, so we only have the bits in the string. That's easy enough."
   ]
  },
  {
   "cell_type": "code",
   "execution_count": null,
   "metadata": {},
   "outputs": [],
   "source": [
    "bin(15)[2:]"
   ]
  },
  {
   "cell_type": "markdown",
   "metadata": {},
   "source": [
    "Much better. Now we're ready to find the palindrome numbers!"
   ]
  },
  {
   "cell_type": "code",
   "execution_count": null,
   "metadata": {},
   "outputs": [],
   "source": [
    "for i in range(1,1001):\n",
    "    s=bin(i)[2:]\n",
    "    if s==s[::-1]:\n",
    "        print(i,s)"
   ]
  },
  {
   "cell_type": "markdown",
   "metadata": {},
   "source": [
    "365, the number of days in a year is a palindrome when represented in binary, and 443 is a prime number [a binary palindromic prime](https://en.wikipedia.org/wiki/Palindromic_prime)! I bet you can't wait to tell your friends about these discoveries! You're going to be so popular!"
   ]
  },
  {
   "cell_type": "markdown",
   "metadata": {},
   "source": [
    "Alright. Enough of this weird and pointless stuff. Let's do something practical!\n",
    "\n",
    "In last week's assignment, we attacked an SHA-256 hash with 100 different outputs. We had to search through all 100 digests to find a match. Let's attack another hash digest. This time, the input was 4 upper and lower case characters. There are $26+26=52$ symbols, and we have 4 of them. That means there are $52^4=7,311,616$ possible inputs. Do you want to look through all those printed out on the screen?\n",
    "\n",
    "Neither do I. Let's use conditional execution to just print the one we want. **Note:** This code might take a few seconds to execute. You'll have to be a bit patient."
   ]
  },
  {
   "cell_type": "code",
   "execution_count": null,
   "metadata": {},
   "outputs": [],
   "source": [
    "import hashlib\n",
    "\n",
    "digest=\"2d7e4757dca1740ae496298b66041cbbf56e0403f4ea3d7eec48cac3c782f1ea\"\n",
    "\n",
    "alphabet='ABCDEFGHIJKLMNOPQRSTUVWXYZabcdefghijklmnopqrstuvwxyz'\n",
    "\n",
    "for a in alphabet:\n",
    "    for b in alphabet:\n",
    "        for c in alphabet:\n",
    "            for d in alphabet:\n",
    "                x=(a+b+c+d)\n",
    "                if hashlib.sha256(x.encode('ASCII')).hexdigest()==digest:\n",
    "                    print(x)"
   ]
  },
  {
   "cell_type": "markdown",
   "metadata": {},
   "source": [
    "This code cracks all 4 character passwords that don't include numbers or special characters."
   ]
  },
  {
   "cell_type": "markdown",
   "metadata": {},
   "source": [
    "## Exercises\n",
    "\n",
    "Below, you'll find the exercises for this notebook. Remember to take breaks and ask for help!"
   ]
  },
  {
   "cell_type": "markdown",
   "metadata": {},
   "source": [
    "1) Put parentheses into this expression (as many as you like) to make it evaluate to True."
   ]
  },
  {
   "cell_type": "code",
   "execution_count": null,
   "metadata": {},
   "outputs": [],
   "source": [
    "True and not True and False"
   ]
  },
  {
   "cell_type": "markdown",
   "metadata": {},
   "source": [
    "2) Put parentheses into this expression (as many as you like) to make it evaluate to True."
   ]
  },
  {
   "cell_type": "code",
   "execution_count": null,
   "metadata": {},
   "outputs": [],
   "source": [
    "not not False or True and False or not True and False"
   ]
  },
  {
   "cell_type": "markdown",
   "metadata": {},
   "source": [
    "3) Write a program to print all of the even multiples of 3 between 100 and 130."
   ]
  },
  {
   "cell_type": "code",
   "execution_count": null,
   "metadata": {},
   "outputs": [],
   "source": []
  },
  {
   "cell_type": "markdown",
   "metadata": {},
   "source": [
    "4) Write a program to print all of the numbers between 9,200 and 9,600 that are divisible by 7 and divisible by 7 when the digits are reversed. The code here is a hint to remind you how to convert integers to strings and back (and also how to reverse strings.)"
   ]
  },
  {
   "cell_type": "code",
   "execution_count": null,
   "metadata": {},
   "outputs": [],
   "source": [
    "a=10262\n",
    "b=str(10262)\n",
    "c=b[::-1]\n",
    "d=int(c)\n",
    "print(a,a/7,d,d/7)"
   ]
  },
  {
   "cell_type": "code",
   "execution_count": null,
   "metadata": {},
   "outputs": [],
   "source": []
  }
 ],
 "metadata": {
  "kernelspec": {
   "display_name": "Python 3",
   "language": "python",
   "name": "python3"
  },
  "language_info": {
   "codemirror_mode": {
    "name": "ipython",
    "version": 3
   },
   "file_extension": ".py",
   "mimetype": "text/x-python",
   "name": "python",
   "nbconvert_exporter": "python",
   "pygments_lexer": "ipython3",
   "version": "3.7.3"
  }
 },
 "nbformat": 4,
 "nbformat_minor": 2
}
