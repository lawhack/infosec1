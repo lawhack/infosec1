{
 "cells": [
  {
   "cell_type": "markdown",
   "metadata": {},
   "source": [
    "# Collections\n",
    "\n",
    "Collections are types in Python that can contain values of other types. For example, we could build a collection of integers or a collection of strings. This can be useful when we want to work on more than one data point at a time. In this notebook will explore two collection types: lists and dictionaries."
   ]
  },
  {
   "cell_type": "markdown",
   "metadata": {},
   "source": [
    "## Lists\n",
    "\n",
    "Lists in Python are ordered sequences of elements. This means the items in the list are lined up in a particular order, like people waiting to check out at the grocery store. There's a first element and a last element. We represent list literals with a par of square brackets. We separate items in a list with commas."
   ]
  },
  {
   "cell_type": "code",
   "execution_count": null,
   "metadata": {},
   "outputs": [],
   "source": [
    "emptyList=[]\n",
    "numberList=[3,15,99,7]\n",
    "stringList=[\"A\",\"B\",\"C\"]"
   ]
  },
  {
   "cell_type": "markdown",
   "metadata": {},
   "source": [
    "We can index and slice lists just like we did with strings. Indexing with 0 returns the first element, 1 returns the second, and so on."
   ]
  },
  {
   "cell_type": "code",
   "execution_count": null,
   "metadata": {},
   "outputs": [],
   "source": [
    "myList=[3,1,2,5,9]\n",
    "\n",
    "print(myList[3])\n",
    "print(myList[1:4])"
   ]
  },
  {
   "cell_type": "markdown",
   "metadata": {},
   "source": [
    "We can loop through lists, too."
   ]
  },
  {
   "cell_type": "code",
   "execution_count": null,
   "metadata": {},
   "outputs": [],
   "source": [
    "myList=[3,1,2,5,9]\n",
    "\n",
    "for i in myList:\n",
    "    print(i)"
   ]
  },
  {
   "cell_type": "markdown",
   "metadata": {},
   "source": [
    "We can add a new elements to a list by calling the append function."
   ]
  },
  {
   "cell_type": "code",
   "execution_count": null,
   "metadata": {},
   "outputs": [],
   "source": [
    "myList=[]\n",
    "\n",
    "for i in range(3):\n",
    "    myList.append(i)\n",
    "    \n",
    "print(myList)"
   ]
  },
  {
   "cell_type": "markdown",
   "metadata": {},
   "source": [
    "Here is a list of the first 100 prime numbers. We could find all the binary palindromes in this list by using the code from the previous notebook. That would give us a list of all of the prime numbers that are binary palindromes (not that anyone would ever need this information.)"
   ]
  },
  {
   "cell_type": "code",
   "execution_count": null,
   "metadata": {},
   "outputs": [],
   "source": [
    "primes=[2,3,5,7,11,13,17,19,23,29,31,37,41,43,47,53,59,61,67,71,73,79,83,89,97,101,103,107,109,113,127,131,137,139,149,151,157,163,167,173,179,181,191,193,197,199,211,223,227,229,233,239,241,251,257,263,269,271,277,281,283,293,307,311,313,317,331,337,347,349,353,359,367,373,379,383,389,397,401,409,419,421,431,433,439,443,449,457,461,463,467,479,487,491,499,503,509,521,523,541]\n",
    "\n",
    "for i in primes:\n",
    "    s=bin(i)[2:]\n",
    "    if s==s[::-1]:\n",
    "        print(i,s)"
   ]
  },
  {
   "cell_type": "markdown",
   "metadata": {},
   "source": [
    "We could find the sum of the list of primes. Again, not particularly useful."
   ]
  },
  {
   "cell_type": "code",
   "execution_count": null,
   "metadata": {},
   "outputs": [],
   "source": [
    "total=0\n",
    "for i in primes:\n",
    "    total+=i\n",
    "    \n",
    "print(total)"
   ]
  },
  {
   "cell_type": "markdown",
   "metadata": {},
   "source": [
    "To be less abstract, here are the number of wins for the Longhorns football team going back 20 years I downloaded from [here](https://www.sports-reference.com/cfb/schools/texas/index.html). We can find the average number of wins per season by looping over this list."
   ]
  },
  {
   "cell_type": "code",
   "execution_count": null,
   "metadata": {},
   "outputs": [],
   "source": [
    "wins=[10,7,5,5,6,8,9,5,13,12,10,10,13,11,10,11,11,9,9,9]\n",
    "total=0\n",
    "for i in wins:\n",
    "    total+=i\n",
    "\n",
    "average=total/len(wins)\n",
    "\n",
    "print(average)"
   ]
  },
  {
   "cell_type": "markdown",
   "metadata": {},
   "source": [
    "We can also find the maximum. We search through the list from the first element to the last. Every time we find a bigger number, we update the max we've seen so far. When we reach the end of the list, we'll have found the biggest number. Before looking at the first element, we assume the max is the lowest possible number. What's the lowest possible number of wins? 0"
   ]
  },
  {
   "cell_type": "code",
   "execution_count": null,
   "metadata": {},
   "outputs": [],
   "source": [
    "maximum=0\n",
    "for i in wins:\n",
    "    if i>maximum:\n",
    "        maximum=i\n",
    "\n",
    "print(maximum)"
   ]
  },
  {
   "cell_type": "markdown",
   "metadata": {},
   "source": [
    "We can also use built-in functions to manipulate lists. Here, we use built in functions to find the max and sum. We can also sort the list."
   ]
  },
  {
   "cell_type": "code",
   "execution_count": null,
   "metadata": {},
   "outputs": [],
   "source": [
    "print(max(wins))\n",
    "print(sum(wins))\n",
    "wins.sort()\n",
    "print(wins)"
   ]
  },
  {
   "cell_type": "markdown",
   "metadata": {},
   "source": [
    "Before moving on to the next collection, I want to point out that lists can contain other lists. "
   ]
  },
  {
   "cell_type": "code",
   "execution_count": null,
   "metadata": {},
   "outputs": [],
   "source": [
    "row0=[2,7,6]\n",
    "row1=[9,5,1]\n",
    "row2=[4,3,8]\n",
    "magic=[row0,row1,row2]\n",
    "print(magic)"
   ]
  },
  {
   "cell_type": "markdown",
   "metadata": {},
   "source": [
    "We'll see that lists can also contain dictionaries and dictionaries can contain lists. If we wanted to go wild, we could have a list containing lists of lists of lists. Let's not go wild. Let's learn about dictionaries instead."
   ]
  },
  {
   "cell_type": "markdown",
   "metadata": {},
   "source": [
    "## Dictionaries\n",
    "The **dictionary** type is an extremely powerful collection type. It can be indexed using **any** type. Inspired by its namesake, we use dictionaries to look up data. We store key and value pairs in the dictionary. The key is the value we use to index (look up) the value. In an English dictionary, you look up a word (the key) to find its definition (the value.) In a Spanish to French dictionary, you would look up a Spanish word (the key) to get the corresponding French word (the value.)\n",
    "\n",
    "Dictionary literals are represented using curly brackets. Here is an empty dictionary."
   ]
  },
  {
   "cell_type": "code",
   "execution_count": null,
   "metadata": {},
   "outputs": [],
   "source": [
    "d={}"
   ]
  },
  {
   "cell_type": "markdown",
   "metadata": {},
   "source": [
    "We can insert a key value pair into a dictionary using assignment **and** indexing."
   ]
  },
  {
   "cell_type": "code",
   "execution_count": null,
   "metadata": {},
   "outputs": [],
   "source": [
    "d={}\n",
    "d[\"fifteen\"]=15\n",
    "d[\"sixteen\"]=16\n",
    "d[\"one hundred\"]=100"
   ]
  },
  {
   "cell_type": "markdown",
   "metadata": {},
   "source": [
    "We can then retrieve values from the dictionary using those keys."
   ]
  },
  {
   "cell_type": "code",
   "execution_count": null,
   "metadata": {},
   "outputs": [],
   "source": [
    "print(d[\"one hundred\"])\n",
    "print(d[\"fifteen\"]+d[\"sixteen\"])"
   ]
  },
  {
   "cell_type": "markdown",
   "metadata": {},
   "source": [
    "We can check to see if a given key is in a dictionary using the **in** operator."
   ]
  },
  {
   "cell_type": "code",
   "execution_count": null,
   "metadata": {},
   "outputs": [],
   "source": [
    "print(\"eleven\" in d)\n",
    "print(\"sixteen\" in d)"
   ]
  },
  {
   "cell_type": "markdown",
   "metadata": {},
   "source": [
    "Combining loops and dictionaries in an accumulator pattern is particularly useful. This code counts the occurence of each letter in a string."
   ]
  },
  {
   "cell_type": "code",
   "execution_count": null,
   "metadata": {},
   "outputs": [],
   "source": [
    "s=\"WHAT GREATER EXPRESSION OF FAITH IN THE AMERICAN EXPERIMENT THAN THIS, WHAT GREATER FORM OF PATRIOTISM IS THERE THAN THE BELIEF THAT AMERICA IS NOT YET FINISHED, THAT WE ARE STRONG ENOUGH TO BE SELF-CRITICAL, THAT EACH SUCCESSIVE GENERATION CAN LOOK UPON OUR IMPERFECTIONS AND DECIDE THAT IT IS IN OUR POWER TO REMAKE THIS NATION TO MORE CLOSELY ALIGN WITH OUR HIGHEST IDEALS?\"\n",
    "d={}\n",
    "for c in s:\n",
    "    if c not in d:\n",
    "        d[c]=0\n",
    "    d[c]+=1\n",
    "\n",
    "for c in d:\n",
    "    print(c,d[c])"
   ]
  },
  {
   "cell_type": "markdown",
   "metadata": {},
   "source": [
    "Note that the keys don't come out in any kind of order. Dictionaries are said to be **unordered** collections. The key-value pairs are stored, but we get no guarantees on what order they appear in."
   ]
  },
  {
   "cell_type": "markdown",
   "metadata": {},
   "source": [
    "## Exercises\n",
    "Below are the exercises for this lesson. We're dealing with a lot of new concepts here, so feel free to ask questions on Piazza."
   ]
  },
  {
   "cell_type": "markdown",
   "metadata": {},
   "source": [
    "1) Build a list of all of the even numbers between 1,621 and 1,673."
   ]
  },
  {
   "cell_type": "code",
   "execution_count": null,
   "metadata": {},
   "outputs": [],
   "source": [
    "myList=[]"
   ]
  },
  {
   "cell_type": "markdown",
   "metadata": {},
   "source": [
    "2) Using your list from the previous question, build a new list of those numbers that are also divisible by 7."
   ]
  },
  {
   "cell_type": "code",
   "execution_count": null,
   "metadata": {},
   "outputs": [],
   "source": [
    "myNewList=[]"
   ]
  },
  {
   "cell_type": "markdown",
   "metadata": {},
   "source": [
    "3) Build a dictionary where they keys are the integers 0 through 9 and the values are the corresponding English words (e.g. key 1 should map to the string \"one\")."
   ]
  },
  {
   "cell_type": "code",
   "execution_count": null,
   "metadata": {},
   "outputs": [],
   "source": [
    "myDictionary={}"
   ]
  },
  {
   "cell_type": "markdown",
   "metadata": {},
   "source": [
    "4) Use your dictionary from the previous exercise to build a string for all digits in the number 57119028562. (For example, if the number was 9124, your string whould be \"nineonetwofour\".) A loop will help here."
   ]
  },
  {
   "cell_type": "code",
   "execution_count": null,
   "metadata": {},
   "outputs": [],
   "source": [
    "number=\"57119028562\""
   ]
  },
  {
   "cell_type": "markdown",
   "metadata": {},
   "source": [
    "5) Use another dictionary to count the number of times each letter is used in the string \"fivesevenoneoneninezerotwoeightfivesixtwo\""
   ]
  },
  {
   "cell_type": "code",
   "execution_count": null,
   "metadata": {},
   "outputs": [],
   "source": [
    "numberString=\"fivesevenoneoneninezerotwoeightfivesixtwo\""
   ]
  }
 ],
 "metadata": {
  "kernelspec": {
   "display_name": "Python 3",
   "language": "python",
   "name": "python3"
  },
  "language_info": {
   "codemirror_mode": {
    "name": "ipython",
    "version": 3
   },
   "file_extension": ".py",
   "mimetype": "text/x-python",
   "name": "python",
   "nbconvert_exporter": "python",
   "pygments_lexer": "ipython3",
   "version": "3.7.3"
  }
 },
 "nbformat": 4,
 "nbformat_minor": 2
}
