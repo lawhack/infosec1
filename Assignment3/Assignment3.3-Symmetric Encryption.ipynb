{
 "cells": [
  {
   "cell_type": "markdown",
   "metadata": {},
   "source": [
    "# Symmetric Encryption\n",
    "\n",
    "In this notebook, we will explore how to achieve confidentiality in communications. Alice will send a message to Bob in the face of the adversary Eve, who can intercept messages (but cannot tamper with them like Mallory.)\n",
    "\n",
    "We begin by assuming Alice and Bob share a secret key $k$. Before encryption, Alice's message is written in **plaintext** $p$, clear and readable to anyone. She will make use of an **encryption** algorithm on the key and plaintext $E(p,k)$ to generate an unreadable **ciphertext** message $c$. The ciphertext can be freely transmitted. Without the key, the ciphertext should be unreadable by Eve. Bob can then use the **decryption** algorithm and key to decrypt the ciphertext and recover the original plaintext message $D(c,k)$."
   ]
  },
  {
   "cell_type": "markdown",
   "metadata": {},
   "source": [
    "## Caesar Cipher\n",
    "\n",
    "The Caesar Cipher has been around for thousands of years. It is not secure. We will study it to demonstrate cryptography and to understand how it can be attacked.\n",
    "\n",
    "The key for the Caesar Cipher is a number between 0 and $\\|\\Sigma\\|$, the size of the alphabet. In the case of upper-case English letters, $\\|\\Sigma\\|=26$. The encryption process replaces each letter with the letter k after it in the alphabet. Let's say our key k=5. Every A in the plaintext is replaced by F, and B's would be replaced by G's. The last 5 letters of the alphabet are replaced by the first 5 letters (i.e. it wraps around like the modulo operator.) Y's are replaced with D's and Z's are replaced by E's.\n",
    "\n",
    "Let's write some code to do this. First, let's look at code to generate the ciphertext alphabet. We can use slicing to get the last part of the alphabet (plaintextAlphabet\\[5:\\]everything from F to Z) and and the first 5 letters (plaintextAlphabet\\[:5\\]=A to E). Concatenating those together gives us a version of the alphabet shifted by 5."
   ]
  },
  {
   "cell_type": "code",
   "execution_count": null,
   "metadata": {},
   "outputs": [],
   "source": [
    "key=5\n",
    "plaintextAlphabet=\"ABCDEFGHIJKLMNOPQRSTUVWXYZ\"\n",
    "ciphertextAlphabet=plaintextAlphabet[5:]+plaintextAlphabet[:5]\n",
    "print(ciphertextAlphabet)"
   ]
  },
  {
   "cell_type": "markdown",
   "metadata": {},
   "source": [
    "Now, we can build a dictionary that, when indexed with a plaintext letter, will give us its ciphertext replacement. We'll build and empty dictionary and then loop through both alphabets at the same time using the zip function. This will give us a pair of letters p and c that we can then insert into the dictionary as key-value pairs."
   ]
  },
  {
   "cell_type": "code",
   "execution_count": null,
   "metadata": {},
   "outputs": [],
   "source": [
    "encryptionDict={}\n",
    "for p,c in zip(plaintextAlphabet,ciphertextAlphabet):\n",
    "    encryptionDict[p]=c"
   ]
  },
  {
   "cell_type": "markdown",
   "metadata": {},
   "source": [
    "As you can see, looking up plaintext letters in this dictionary gives us their ciphertext equivalents."
   ]
  },
  {
   "cell_type": "code",
   "execution_count": null,
   "metadata": {},
   "outputs": [],
   "source": [
    "print(\"A replaced by\",encryptionDict[\"A\"])\n",
    "print(\"B replaced by\",encryptionDict[\"B\"])\n",
    "print(\"X replaced by\",encryptionDict[\"X\"])\n",
    "print(\"Y replaced by\",encryptionDict[\"Y\"])"
   ]
  },
  {
   "cell_type": "markdown",
   "metadata": {},
   "source": [
    "Now we're ready to do the encryption. Starting with an empty ciphertext string, we can loop through each letter in the plaintext, look up its ciphertext equivalent, and then append that to the ciphertext."
   ]
  },
  {
   "cell_type": "code",
   "execution_count": null,
   "metadata": {},
   "outputs": [],
   "source": [
    "plaintext=\"TOPSECRETTELLNOONE\"\n",
    "ciphertext=\"\"\n",
    "for p in plaintext:\n",
    "    ciphertext=ciphertext+encryptionDict[p]\n",
    "print(ciphertext)"
   ]
  },
  {
   "cell_type": "markdown",
   "metadata": {},
   "source": [
    "Once we've replaced all the plaintext letters with their ciphertext equivalents, we've encrypted the message into ciphertext. Alice can transmit the message to Bob.\n",
    "\n",
    "Let's put our encrpytion code into a function."
   ]
  },
  {
   "cell_type": "code",
   "execution_count": null,
   "metadata": {},
   "outputs": [],
   "source": [
    "def encrypt(plaintext,k):\n",
    "    pAlphabet=\"ABCDEFGHIJKLMNOPQRSTUVWXYZ\"\n",
    "    cAlphabet=pAlphabet[k:]+pAlphabet[:k]\n",
    "    eDict={}\n",
    "    for p,c in zip(pAlphabet,cAlphabet):\n",
    "        eDict[p]=c\n",
    "    ciphertext=\"\"\n",
    "    for p in plaintext:\n",
    "        ciphertext+=eDict[p]\n",
    "    return ciphertext"
   ]
  },
  {
   "cell_type": "markdown",
   "metadata": {},
   "source": [
    "The decryption algorithm works almost identically. All we need to do is reverse the role of the two alphabets when building the dictionary. When we look up a ciphertext character, we want its plaintext equivalent."
   ]
  },
  {
   "cell_type": "code",
   "execution_count": null,
   "metadata": {},
   "outputs": [],
   "source": [
    "def decrypt(ciphertext,k):\n",
    "    pAlphabet=\"ABCDEFGHIJKLMNOPQRSTUVWXYZ\"\n",
    "    cAlphabet=pAlphabet[k:]+pAlphabet[:k]\n",
    "    dDict={}\n",
    "    for p,c in zip(pAlphabet,cAlphabet):\n",
    "        dDict[c]=p\n",
    "    plaintext=\"\"\n",
    "    for p in ciphertext:\n",
    "        plaintext+=dDict[p]\n",
    "    return plaintext\n",
    "\n",
    "k=5\n",
    "plaintext=\"TOPSECRETTELLNOONE\"\n",
    "ciphertext=encrypt(plaintext,k)\n",
    "print(\"Encrypted message: \"+ciphertext)\n",
    "decrypted=decrypt(ciphertext,k)\n",
    "print(\"Decrypted message: \"+decrypted)"
   ]
  },
  {
   "cell_type": "markdown",
   "metadata": {},
   "source": [
    "## Attacking Caesar Cipher\n",
    "\n",
    "Now that we understand how the Caesar cipher works, let's examine some of its weaknesses.\n",
    "\n",
    "### Brute Force\n",
    "\n",
    "There are only 26 possible keys for the Caesar Cipher. We can brute force attack all 26 keys with a simple loop."
   ]
  },
  {
   "cell_type": "code",
   "execution_count": null,
   "metadata": {},
   "outputs": [],
   "source": [
    "secret=\"YTLMUTEELIXVBTE\"\n",
    "for k in range(26):\n",
    "    print(decrypt(secret,k))"
   ]
  },
  {
   "cell_type": "markdown",
   "metadata": {},
   "source": [
    "### Cryptanalysis\n",
    "\n",
    "The small keyspace of the Caesar Cipher is a weakness, but there is another weakness we can attack. The encryption algorithm doesn't change the statistical patterns of the plaintext. Some letters are used more frequently than others. Rather than trying all of the keys, we can count how often each character is used in a bit of ciphertext. We can do this in Python using a dictionary. The keys are the letters and the values are the number of times we observe each letter."
   ]
  },
  {
   "cell_type": "code",
   "execution_count": null,
   "metadata": {},
   "outputs": [],
   "source": [
    "ciphertext='HPESPAPZAWPZQESPFYTEPODELEPDTYZCOPCEZQZCXLXZCPAPCQPNEFYTZYPDELMWTDSUFDETNPTYDFCPOZXPDETNECLYBFTWTEJACZGTOPQZCESPNZXXZYOPQPYNPACZXZEPESPRPYPCLWHPWQLCPLYODPNFCPESPMWPDDTYRDZQWTMPCEJEZZFCDPWGPDLYOZFCAZDEPCTEJOZZCOLTYLYOPDELMWTDSESTDNZYDETEFETZYQZCESPFYTEPODELEPDZQLXPCTNL'\n",
    "alphabet=\"ABCDEFGHIJKLMNOPQRSTUVWXYZ\"\n",
    "counts={}\n",
    "for c in alphabet:\n",
    "    counts[c]=0\n",
    "\n",
    "for c in m:\n",
    "    counts[c]+=1\n",
    "    \n",
    "for c in alphabet:\n",
    "    print(c,counts[c])"
   ]
  },
  {
   "cell_type": "markdown",
   "metadata": {},
   "source": [
    "The most frequent letter in the ciphertext is P. If we guess that corresponds to E, that would make the key 11. Decrypting the message using our guess produces the correct plaintext."
   ]
  },
  {
   "cell_type": "code",
   "execution_count": null,
   "metadata": {},
   "outputs": [],
   "source": [
    "decrypt(ciphertext,11)"
   ]
  },
  {
   "cell_type": "markdown",
   "metadata": {},
   "source": [
    "## Vigenere Cipher\n",
    "\n",
    "One way to improve on the Caesar Cipher is to use more than one of them at a time. For example, we could use 3 different keys, and encrypt every third character with a different Caesar Cipher. This helps us with **both** weaknesses described above. Each new key we add dramatically increases the number of possible keys. For n Caesar Cipher keys, we have $26^n$ possible keys. With one, there were only 26 possibilities. With 3, there are 17,576 possibilities.\n",
    "\n",
    "Let's code up the Vigenere Cipher encryption algorithm. Our key will be a list of Caesar Cipher keys. We will need to prepare a list of ciphertext alphabets (one for each key.) These quirks aside, the rest of the set up code is identical to the Caesar Cipher."
   ]
  },
  {
   "cell_type": "code",
   "execution_count": null,
   "metadata": {},
   "outputs": [],
   "source": [
    "keys=[5,19,4]\n",
    "\n",
    "pAlphabet=\"ABCDEFGHIJKLMNOPQRSTUVWXYZ\"\n",
    "cAlphabets=[]\n",
    "n=len(keys)\n",
    "for i in range(n):\n",
    "    k=keys[i]\n",
    "    cAlphabet=pAlphabet[k:]+pAlphabet[:k]\n",
    "    cAlphabets.append(cAlphabet)"
   ]
  },
  {
   "cell_type": "markdown",
   "metadata": {},
   "source": [
    "Now we need a dictionary for each alphabet."
   ]
  },
  {
   "cell_type": "code",
   "execution_count": null,
   "metadata": {},
   "outputs": [],
   "source": [
    "eDicts=[]\n",
    "for i in range(n):\n",
    "    cAlphabet=cAlphabets[i]\n",
    "    eDict={}\n",
    "    for p,c in zip(pAlphabet,cAlphabet):\n",
    "        eDict[p]=c\n",
    "    eDicts.append(eDict)"
   ]
  },
  {
   "cell_type": "markdown",
   "metadata": {},
   "source": [
    "Now we can encrypt our plaintext, making sure to use the right dictionary for each letter."
   ]
  },
  {
   "cell_type": "code",
   "execution_count": null,
   "metadata": {},
   "outputs": [],
   "source": [
    "plaintext=\"THENIGHTISDARKANDFULLOFTERRORS\"\n",
    "ciphertext=\"\"\n",
    "for i,p in enumerate(plaintext):\n",
    "    ciphertext+=eDicts[i%n][p]\n",
    "\n",
    "print(ciphertext)"
   ]
  },
  {
   "cell_type": "markdown",
   "metadata": {},
   "source": [
    "We can put all this code together in a function, and write another to decrypt. As with the Caesar Cipher, all we need to do is change the role of the plaintext and ciphertext characters in the dictionaries to decrypt."
   ]
  },
  {
   "cell_type": "code",
   "execution_count": null,
   "metadata": {},
   "outputs": [],
   "source": [
    "def vigEncrypt(plaintext,keys):\n",
    "    pAlphabet=\"ABCDEFGHIJKLMNOPQRSTUVWXYZ\"\n",
    "    cAlphabets=[]\n",
    "    n=len(keys)\n",
    "    for i in range(n):\n",
    "        k=keys[i]\n",
    "        cAlphabet=pAlphabet[k:]+pAlphabet[:k]\n",
    "        cAlphabets.append(cAlphabet)\n",
    "    eDicts=[]\n",
    "    for i in range(n):\n",
    "        cAlphabet=cAlphabets[i]\n",
    "        eDict={}\n",
    "        for p,c in zip(pAlphabet,cAlphabet):\n",
    "            eDict[p]=c\n",
    "        eDicts.append(eDict)\n",
    "    ciphertext=\"\"\n",
    "    for i,p in enumerate(plaintext):\n",
    "        ciphertext+=eDicts[i%n][p]\n",
    "    return ciphertext\n",
    "\n",
    "def vigDecrypt(ciphertext,keys):\n",
    "    pAlphabet=\"ABCDEFGHIJKLMNOPQRSTUVWXYZ\"\n",
    "    cAlphabets=[]\n",
    "    n=len(keys)\n",
    "    for i in range(n):\n",
    "        k=keys[i]\n",
    "        cAlphabet=pAlphabet[k:]+pAlphabet[:k]\n",
    "        cAlphabets.append(cAlphabet)\n",
    "    dDicts=[]\n",
    "    for i in range(n):\n",
    "        cAlphabet=cAlphabets[i]\n",
    "        dDict={}\n",
    "        for p,c in zip(pAlphabet,cAlphabet):\n",
    "            dDict[c]=p\n",
    "        dDicts.append(dDict)\n",
    "    plaintext=\"\"\n",
    "    for i,c in enumerate(ciphertext):\n",
    "        plaintext+=dDicts[i%n][c]\n",
    "    return plaintext\n",
    "\n",
    "vigEncrypt(\"THENIGHTISDARKANDFULLOFTERRORS\",[5,4,2,3,1])\n",
    "vigDecrypt(\"YLGQJLLVLTIETNBSHHXMQSHWFWVQUT\",[5,4,2,3,1])"
   ]
  },
  {
   "cell_type": "markdown",
   "metadata": {},
   "source": [
    "## One-Time Pads\n",
    "\n",
    "If we use a Vigenere cipher whose key is as long as our plaintext, there is no remaining statistical information from the plaintext left in the ciphertext. This is known as a **one-time pad**, and it's an unbreakable cryptosystem. As long as our key is truly random, it is impossible to recover the plaintext without the key.\n",
    "\n",
    "Here is a 26-letter long message I encrypted using a truly random 26 number key."
   ]
  },
  {
   "cell_type": "code",
   "execution_count": null,
   "metadata": {},
   "outputs": [],
   "source": [
    "ciphertext=\"XLQOEPTZQVGSZPUYXDBPDVAMTV\""
   ]
  },
  {
   "cell_type": "markdown",
   "metadata": {},
   "source": [
    "How could you possibly decrypt it? It could be any 26-letter message. Even if you guessed correctly, how would you know if you were right? You have no reference point."
   ]
  },
  {
   "cell_type": "markdown",
   "metadata": {},
   "source": [
    "## One-Time Pad in Binary\n",
    "\n",
    "It's easy enough to extrapolate what we've learned so far into binary. Our alphabet $\\Sigma$ in binary is 0 and 1. The keys in binary can be either 0 or 1. We add the key to the letter and compute the result modulo 2.\n",
    "\n",
    "This computation is equivalent to XORing the plaintext bit with the key bit. If you doubt this, try working through the possibilities yourself.\n",
    "\n",
    "Here is an example one-time pad encryption using binary."
   ]
  },
  {
   "cell_type": "code",
   "execution_count": null,
   "metadata": {},
   "outputs": [],
   "source": [
    "k=0b01000010110101001100111010101001\n",
    "p=0b11011001100110110010010100111000\n",
    "c=k^p\n",
    "bin(c)"
   ]
  },
  {
   "cell_type": "markdown",
   "metadata": {},
   "source": [
    "How do we decrypt? XOR is its own inverse. We just XOR the cipertext with the key to recover the plaintext."
   ]
  },
  {
   "cell_type": "code",
   "execution_count": null,
   "metadata": {},
   "outputs": [],
   "source": [
    "k=0b01000010110101001100111010101001\n",
    "c=0b10011011010011111110101110010001\n",
    "d=k^c\n",
    "bin(d)"
   ]
  },
  {
   "cell_type": "markdown",
   "metadata": {},
   "source": [
    "## Stream Ciphers\n",
    "\n",
    "If generating a stream of random bits gives us secure encryption, what about using a pseudorandom number generator? This encryption method is called a **stream cipher**. The security of a stream cipher depends on the strength of the pseudorandom number generator (i.e. how indistinguishable is it from true randomness) and the strength of the key. Key? What key? \n",
    "\n",
    "The key in a stream cipher is the seed for the pseudorandom generator. By seeding the pseudorandom number generator with the same key, a receiver (or attacker) can generate the same pseudorandom stream used to encrypt the plaintext.\n",
    "\n",
    "We'll use Python's random library to demonstrate these concepts. This library is not cryptographically secure, so we shouldn't use this in practice. This is purely an educational demo.\n",
    "\n",
    "We use the random.seed() function to seed Python's pseudorandom number generator. We use the random.getrandbits() function to generate an 8-bit pseudorandom numbers. We XOR each of those with the letters in the input."
   ]
  },
  {
   "cell_type": "code",
   "execution_count": null,
   "metadata": {},
   "outputs": [],
   "source": [
    "import random\n",
    "\n",
    "def streamCipher(inputString,key):\n",
    "    random.seed(key)\n",
    "    returnString=\"\"\n",
    "    for c in inputString:\n",
    "        r=random.getrandbits(8)\n",
    "        returnString+=chr(ord(c)^r)\n",
    "    return returnString\n",
    "\n",
    "plaintext=\"I AM IRON MAN\"\n",
    "ciphertext=streamCipher(plaintext,22)\n",
    "print(ciphertext)"
   ]
  },
  {
   "cell_type": "markdown",
   "metadata": {},
   "source": [
    "Why did I use variable names like \"inputString\" and \"returnString\" instead of \"plaintext\" and \"ciphertext\"?"
   ]
  },
  {
   "cell_type": "code",
   "execution_count": null,
   "metadata": {},
   "outputs": [],
   "source": [
    "decrypted=streamCipher(ciphertext,22)\n",
    "print(decrypted)"
   ]
  },
  {
   "cell_type": "markdown",
   "metadata": {},
   "source": [
    "For stream ciphers, the encryption and decryption function is the same!"
   ]
  },
  {
   "cell_type": "markdown",
   "metadata": {},
   "source": [
    "## Exercises\n",
    "Below are the exercises for this lesson. Don't forget to take breaks and ask for help if you get stuck."
   ]
  },
  {
   "cell_type": "markdown",
   "metadata": {},
   "source": [
    "1) This message was encrypted using the Caesar Cipher with the key 9. Decrypt it. RDWMNABCXXMCQJCANONANWLN"
   ]
  },
  {
   "cell_type": "code",
   "execution_count": null,
   "metadata": {},
   "outputs": [],
   "source": [
    "ciphertext=\"RDWMNABCXXMCQJCANONANWLN\""
   ]
  },
  {
   "cell_type": "markdown",
   "metadata": {},
   "source": [
    "2) This message was encrypted using the Caesar Cipher. Decrypt it **without using the key**. CUGALYUNUNVIUNM"
   ]
  },
  {
   "cell_type": "code",
   "execution_count": null,
   "metadata": {},
   "outputs": [],
   "source": [
    "ciphertext=\"CUGALYUNUNVIUNM\""
   ]
  },
  {
   "cell_type": "markdown",
   "metadata": {},
   "source": [
    "3) This message was encrypted using the Viginere Cipher with key \\[9,23,21,15\\]. Decrypt it. XFOWRPDHWLOXVBADAPOPWADCPXMDDKY"
   ]
  },
  {
   "cell_type": "code",
   "execution_count": null,
   "metadata": {},
   "outputs": [],
   "source": [
    "ciphertext=\"XFOWRPDHWLOXVBADAPOPWADCPXMDDKY\"\n",
    "key=[9,23,21,15]"
   ]
  },
  {
   "cell_type": "markdown",
   "metadata": {},
   "source": [
    "4) If we're using a one-time pad to encrypt plaintext 0xFFAAEEBB with key 0x33114422, what is the ciphertext?"
   ]
  },
  {
   "cell_type": "code",
   "execution_count": null,
   "metadata": {},
   "outputs": [],
   "source": [
    "p=0xFFAAEEBB\n",
    "k=0x33114422"
   ]
  },
  {
   "cell_type": "markdown",
   "metadata": {},
   "source": [
    "5) This ciphertext was encrypted using our stream cipher above. The key is 34. Decrypt it."
   ]
  },
  {
   "cell_type": "code",
   "execution_count": null,
   "metadata": {},
   "outputs": [],
   "source": [
    "ciphertext='Î{ÂF\\x99nÆS®C\\t¡\\xa0^L¤\\x0b\\x18HÙÇònV\\x12\\x17¼D\\x8fi\\x8fÕW\\x98]\\r'\n",
    "streamCipher(ciphertext,34)"
   ]
  },
  {
   "cell_type": "markdown",
   "metadata": {},
   "source": [
    "6) This ciphertext was encrypted using our stream cipher above. The key is 12-bits long, and the plaintext is English. Can you break it?"
   ]
  },
  {
   "cell_type": "code",
   "execution_count": null,
   "metadata": {},
   "outputs": [],
   "source": [
    "ciphertext=\"\"\"²é Ø\u0002UÁi¹\u0006wÜ°¢\u0014Ð\u001b\u001e",
    "±JºÏ3ÅrC]úëcÆçÉì\u0015¦¢R¨Ø\u0016bô\f",
    "ûáHx\u0011\u001b~Ý¾nk?¶8Ü+N\u0018«Ø7¸?ùájÌÙºt'¯\u000b",
    "b\u001e",
    "©M\"\tQL°\u0004tÕ­.ø­É£(³i¶KÂk\u0001Î%\u0001Å\"\"\"\n"
   ]
  },
  {
   "cell_type": "markdown",
   "metadata": {},
   "source": [
    "HINT: Manually looking through every possible decrypted message is a huge waste of your time. Don't print every possible output. The text is English. Check to see if common words are in the plaintext first. The example code below might be helpful."
   ]
  },
  {
   "cell_type": "code",
   "execution_count": null,
   "metadata": {},
   "outputs": [],
   "source": [
    "\"the\" in \"There were some countries where Teen Wolf was released after Back to the Future and so they retitled it The Boy from the Future.\""
   ]
  }
 ],
 "metadata": {
  "kernelspec": {
   "display_name": "Python 3",
   "language": "python",
   "name": "python3"
  },
  "language_info": {
   "codemirror_mode": {
    "name": "ipython",
    "version": 3
   },
   "file_extension": ".py",
   "mimetype": "text/x-python",
   "name": "python",
   "nbconvert_exporter": "python",
   "pygments_lexer": "ipython3",
   "version": "3.7.3"
  }
 },
 "nbformat": 4,
 "nbformat_minor": 2
}
