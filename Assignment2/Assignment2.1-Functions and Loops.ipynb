{
 "cells": [
  {
   "cell_type": "markdown",
   "metadata": {},
   "source": [
    "# Functions and Loops\n",
    "\n",
    "In this notebook, we are going to explore two concepts that will make our programs much more powerful. In previous notebooks, we learned how to invoke built-in functions. In this lesson, we'll learn to write our own functions. We'll also learn how to make programs repeat steps.\n",
    "\n",
    "## Custom Functions\n",
    "Remember that a function is a subprogram. Basically, everytime we **invoke** the function, the subprogram will run. You can think of it as writing a Python program inside a Python program (Yo dawg, I heard you like Python programs...)\n",
    "\n",
    "To build a custom function in Python, we use the keyword **def**, followed by the name of the function, then parentheses, then a colon. We can then write a normal Python program. All of the code we want to be part of the function needs to be indented. Here's an example function."
   ]
  },
  {
   "cell_type": "code",
   "execution_count": null,
   "metadata": {},
   "outputs": [],
   "source": [
    "def myfunction():\n",
    "    print(0xCAFE)\n",
    "    print(0xDEED)"
   ]
  },
  {
   "cell_type": "markdown",
   "metadata": {},
   "source": [
    "Now we can invoke this function just like we did the built-in functions. Here, we invoke the function twice."
   ]
  },
  {
   "cell_type": "code",
   "execution_count": null,
   "metadata": {},
   "outputs": [],
   "source": [
    "myfunction()\n",
    "myfunction()"
   ]
  },
  {
   "cell_type": "markdown",
   "metadata": {},
   "source": [
    "Like built-in functions, our functions can take arguments. We name the arguments inside the parentheses when we define the function. The arguments then act just like variables in our function. Our functions can also return a value by simply using the keyword \"return\" followed by the value. Here is a function that computes the quadratic formula and returns the result. We then invoke it twice with different inputs."
   ]
  },
  {
   "cell_type": "code",
   "execution_count": null,
   "metadata": {},
   "outputs": [],
   "source": [
    "def quadratic(a,b,c):\n",
    "    answer=(-b+(b**2-4*a*c)**.5)/(2*a)\n",
    "    return answer\n",
    "\n",
    "quadratic(1,5,-1)"
   ]
  },
  {
   "cell_type": "markdown",
   "metadata": {},
   "source": [
    "When we invoked quadratic, the arguments were assigned $a=1$, $b=5$, and $c=-1$. That caused the lines inside quadratic to get executed. It then returned the value we see in the output. Function invocations are just expressions. When evaluated, they produce a value. We can do things like this:"
   ]
  },
  {
   "cell_type": "code",
   "execution_count": null,
   "metadata": {},
   "outputs": [],
   "source": [
    "quadratic(-2,-3,1)+quadratic(.5,1,0)"
   ]
  },
  {
   "cell_type": "markdown",
   "metadata": {},
   "source": [
    "or this:"
   ]
  },
  {
   "cell_type": "code",
   "execution_count": null,
   "metadata": {},
   "outputs": [],
   "source": [
    "quadratic(min(3,2,-4),quadratic(-5,0,4),max(1,2,1))"
   ]
  },
  {
   "cell_type": "markdown",
   "metadata": {},
   "source": [
    "We can include any Python we've learned in the body of a function, including function invocations."
   ]
  },
  {
   "cell_type": "code",
   "execution_count": null,
   "metadata": {},
   "outputs": [],
   "source": [
    "def pointlessExample(x,y,z):\n",
    "    c=quadratic(x,y,z)\n",
    "    myfunction()\n",
    "    print(c)\n",
    "    \n",
    "pointlessExample(1,10,1)"
   ]
  },
  {
   "cell_type": "markdown",
   "metadata": {},
   "source": [
    "## For loops\n",
    "Computers are difficult to communicate with. Often, programming can be frustrating. Why bother? Because computers are really fast. If we need something done over and over again, a computer is the perfect tool for the job. Let's learn how to tell the computer to repeat itself with what we call a **for loop**.\n",
    "\n",
    "As with function declarations, our for loop starts with a keyword and ends with a colon. The body of the loop (everything we want to repeat) is indented. The keyword is (unsurprisingly) **for**. We follow that keyword with a variable, then the keyword **in**. Then, we invoke a function called **range** that takes the number of times we want to repeat the loop. An example will probably make this clearer."
   ]
  },
  {
   "cell_type": "code",
   "execution_count": null,
   "metadata": {},
   "outputs": [],
   "source": [
    "for x in range(4):\n",
    "    print(1)"
   ]
  },
  {
   "cell_type": "markdown",
   "metadata": {},
   "source": [
    "We put a 4 into the range function, so the loop repeated itself 4 times. What's the point of that variable x? It keeps track of the current loop we're on."
   ]
  },
  {
   "cell_type": "code",
   "execution_count": null,
   "metadata": {},
   "outputs": [],
   "source": [
    "for x in range(4):\n",
    "    print(x)"
   ]
  },
  {
   "cell_type": "markdown",
   "metadata": {},
   "source": [
    "A more precise way to understand this is that the range function is providing us with a sequence of 4 integers starting at 0, and we're assigning each integer to the variable x one at a time in the body of the loop. If that's confusing for now, that's okay. It'll make more sense as you learn more about Python."
   ]
  },
  {
   "cell_type": "markdown",
   "metadata": {},
   "source": [
    "Let's do something more useful. Okay. Sort of useful. The kind of thing a computer can caluclate easily, but would be time consuming and tedious for a person. Let's compute the sum of all the numbers from 0 to 99,999. You're welcome to work this out on a piece of paper if you prefer. Here's how to do it in Python."
   ]
  },
  {
   "cell_type": "code",
   "execution_count": null,
   "metadata": {},
   "outputs": [],
   "source": [
    "total=0\n",
    "for i in range(100000):\n",
    "    total=total+i\n",
    "print(total)"
   ]
  },
  {
   "cell_type": "markdown",
   "metadata": {},
   "source": [
    "First, we create a variable named \"total\" that we use to build up our answer. This variable will contain the sum total of all the numbers we've seen so far. In the beginning, we haven't seen any numbers, so the total starts at 0.\n",
    "\n",
    "We then loop over all the numbers starting at 0 and ending at 99,999. Each time through the loop, we assign that number to the variable \"i\". In the body of the loop, we add \"i\" to our current \"total\". Then we assign that new updated value back to \"total\".\n",
    "\n",
    "We will see this pattern frequently, where we use a variable like \"total\" to build up an answer inside a loop. It's so useful, Computer Scientists gave it a name. This is called \"the accumulator pattern.\""
   ]
  },
  {
   "cell_type": "markdown",
   "metadata": {},
   "source": [
    "## Functions and Loops\n",
    "Functions can be called in loops, and loops can be used within functions. Together, they are incredibly powerful tools. Here is a function that sums up all the numbers between 1 and n. Note that the loop body is indented **again** (once for being in the function body and once for being inside the loop body.)"
   ]
  },
  {
   "cell_type": "code",
   "execution_count": null,
   "metadata": {},
   "outputs": [],
   "source": [
    "def sumUp(n):\n",
    "    total=0\n",
    "    for i in range(n+1):\n",
    "        total=total+i\n",
    "    return total\n",
    "\n",
    "print(sumUp(10))"
   ]
  },
  {
   "cell_type": "markdown",
   "metadata": {},
   "source": [
    "Here's a loop that calls sumUp on the numbers from 0 to 20."
   ]
  },
  {
   "cell_type": "code",
   "execution_count": null,
   "metadata": {},
   "outputs": [],
   "source": [
    "for i in range(21):\n",
    "    print(i,sumUp(i))"
   ]
  },
  {
   "cell_type": "markdown",
   "metadata": {},
   "source": [
    "## Exercises\n",
    "Time for more exercises. Some of them are challenging, so don't get discouraged. If you find yourself stuck on them for more than 20 minutes, take a break and come back. If you're still stuck, ask for help."
   ]
  },
  {
   "cell_type": "markdown",
   "metadata": {},
   "source": [
    "1) Write a function called \"xorHex\" that takes two numbers as arguments, x and y, and prints the xor of those two numbers in hexadecimal."
   ]
  },
  {
   "cell_type": "code",
   "execution_count": null,
   "metadata": {},
   "outputs": [],
   "source": []
  },
  {
   "cell_type": "markdown",
   "metadata": {},
   "source": [
    "2) Write a function called \"squareSum\" that takes a single input parameter n. The function should return the sum of all of the numbers from 0 to n squared. For example, if $n=5$ then your function should return $0^2+1^2+2^2+3^2+4^2+5^2=1+4+9+16+25=55$."
   ]
  },
  {
   "cell_type": "code",
   "execution_count": null,
   "metadata": {},
   "outputs": [],
   "source": []
  },
  {
   "cell_type": "markdown",
   "metadata": {},
   "source": [
    "3) Write a function called \"sumOnes\" that takes a single input parameter n. The function should hten return the sum of the digits in the ones place of all the numbers between 0 and n. For example, if $n=15$, the numbers between 0 and n are 0,1,2,3,4,5,6,7,8,9,10,11,12,13,14,15. The digits in the ones place for those numbers are 0,1,2,3,4,5,6,7,8,9,0,1,2,3,4,5. The sum would be $0+1+2+3+4+5+6+7+8+9+0+1+2+3+4+5=60$.\n",
    "\n",
    "**Hint:** The modulo operator might help here."
   ]
  },
  {
   "cell_type": "code",
   "execution_count": null,
   "metadata": {},
   "outputs": [],
   "source": []
  }
 ],
 "metadata": {
  "kernelspec": {
   "display_name": "Python 3",
   "language": "python",
   "name": "python3"
  },
  "language_info": {
   "codemirror_mode": {
    "name": "ipython",
    "version": 3
   },
   "file_extension": ".py",
   "mimetype": "text/x-python",
   "name": "python",
   "nbconvert_exporter": "python",
   "pygments_lexer": "ipython3",
   "version": "3.7.3"
  }
 },
 "nbformat": 4,
 "nbformat_minor": 2
}
